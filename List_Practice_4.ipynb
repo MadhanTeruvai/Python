{
  "nbformat": 4,
  "nbformat_minor": 0,
  "metadata": {
    "colab": {
      "provenance": [],
      "authorship_tag": "ABX9TyN+sTrhPHB8nMF+0OxZDGo5",
      "include_colab_link": true
    },
    "kernelspec": {
      "name": "python3",
      "display_name": "Python 3"
    },
    "language_info": {
      "name": "python"
    }
  },
  "cells": [
    {
      "cell_type": "markdown",
      "metadata": {
        "id": "view-in-github",
        "colab_type": "text"
      },
      "source": [
        "<a href=\"https://colab.research.google.com/github/MadhanTeruvai/Python/blob/main/List_Practice_4.ipynb\" target=\"_parent\"><img src=\"https://colab.research.google.com/assets/colab-badge.svg\" alt=\"Open In Colab\"/></a>"
      ]
    },
    {
      "cell_type": "code",
      "execution_count": 22,
      "metadata": {
        "colab": {
          "base_uri": "https://localhost:8080/"
        },
        "id": "KfpQL2Qm_3nI",
        "outputId": "8b601b95-525a-4874-b972-734459c15830"
      },
      "outputs": [
        {
          "output_type": "stream",
          "name": "stdout",
          "text": [
            "['Apple', 'Samsung', 'Motorola']\n",
            "Accessing elements\n",
            "Apple\n",
            "Samsung\n",
            "append['Apple', 'Samsung', 'Motorola', 'Vivo']\n",
            "['Apple', 'Samsung', 'MI', 'Motorola', 'Vivo']\n",
            "['Apple', 'Samsung', 'Motorola', 'Vivo']\n",
            "Vivo\n",
            "['Apple', 'Samsung', 'Motorola']\n"
          ]
        }
      ],
      "source": [
        "# Creating a list\n",
        "Mobiles = [\"Apple\", \"Samsung\", \"Motorola\"]\n",
        "print(Mobiles)\n",
        "\n",
        "# Accessing elements\n",
        "print(\"Accessing elements\")\n",
        "print(Mobiles[0])\n",
        "print(Mobiles[1])\n",
        "\n",
        "# Adding elements\n",
        "# append-adds element at last\n",
        "# insert-Adds element at specified index\n",
        "Mobiles.append(\"Vivo\")\n",
        "print(f\"append{Mobiles}\")\n",
        "Mobiles.insert(2,\"MI\")\n",
        "print(Mobiles)\n",
        "\n",
        "# Removing elements\n",
        "# remove-Removes by value\n",
        "# pop-removes by index, returns removed item\n",
        "Mobiles.remove(\"MI\")\n",
        "print(Mobiles)\n",
        "popped = Mobiles.pop(3)\n",
        "print(popped)\n",
        "print(Mobiles)"
      ]
    }
  ]
}