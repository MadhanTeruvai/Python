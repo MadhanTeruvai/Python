{
  "nbformat": 4,
  "nbformat_minor": 0,
  "metadata": {
    "colab": {
      "provenance": [],
      "authorship_tag": "ABX9TyPwVg5hqSNVn3tEfg90nTW5",
      "include_colab_link": true
    },
    "kernelspec": {
      "name": "python3",
      "display_name": "Python 3"
    },
    "language_info": {
      "name": "python"
    }
  },
  "cells": [
    {
      "cell_type": "markdown",
      "metadata": {
        "id": "view-in-github",
        "colab_type": "text"
      },
      "source": [
        "<a href=\"https://colab.research.google.com/github/MadhanTeruvai/Python/blob/main/if%2C_elif%2C_else_7.ipynb\" target=\"_parent\"><img src=\"https://colab.research.google.com/assets/colab-badge.svg\" alt=\"Open In Colab\"/></a>"
      ]
    },
    {
      "cell_type": "code",
      "execution_count": 5,
      "metadata": {
        "colab": {
          "base_uri": "https://localhost:8080/"
        },
        "id": "GTGPPTMN6_Pq",
        "outputId": "1d9d6fb8-200a-4287-acde-346770e6294b"
      },
      "outputs": [
        {
          "output_type": "stream",
          "name": "stdout",
          "text": [
            "enter the name of the student: ajay\n",
            "enter the correct name or vaild name in class\n"
          ]
        }
      ],
      "source": [
        "# if, elif, else\n",
        "a=(input(\"enter the name of the student: \"))\n",
        "if a==\"madhan\":\n",
        "    print(\"8.71 CGPA\")\n",
        "elif a==\"navya\":\n",
        "    print(\"8.88 CGPA\")\n",
        "elif a==\"vishal\":\n",
        "    print(\"8.91 CGPA\")\n",
        "elif a==\"imran\":\n",
        "    print(\"8.61 CGPA\")\n",
        "elif a==\"bharadwaj\":\n",
        "    print(\"8.58 CGPA\")\n",
        "elif a==\"supraja\":\n",
        "    print(\"8.3 CGPA\")\n",
        "elif a==\"kavya\":\n",
        "    print(\"7 CGPA\")\n",
        "else:\n",
        "    print(\"enter the correct name or vaild name in class\")"
      ]
    }
  ]
}