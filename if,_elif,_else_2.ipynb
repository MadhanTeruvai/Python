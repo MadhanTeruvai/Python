{
  "nbformat": 4,
  "nbformat_minor": 0,
  "metadata": {
    "colab": {
      "provenance": [],
      "authorship_tag": "ABX9TyPulOuBAwX/zz3ghAsCtHsW",
      "include_colab_link": true
    },
    "kernelspec": {
      "name": "python3",
      "display_name": "Python 3"
    },
    "language_info": {
      "name": "python"
    }
  },
  "cells": [
    {
      "cell_type": "markdown",
      "metadata": {
        "id": "view-in-github",
        "colab_type": "text"
      },
      "source": [
        "<a href=\"https://colab.research.google.com/github/MadhanTeruvai/Python/blob/main/if%2C_elif%2C_else_2.ipynb\" target=\"_parent\"><img src=\"https://colab.research.google.com/assets/colab-badge.svg\" alt=\"Open In Colab\"/></a>"
      ]
    },
    {
      "cell_type": "code",
      "execution_count": 1,
      "metadata": {
        "colab": {
          "base_uri": "https://localhost:8080/"
        },
        "id": "-sxPuybKZYlJ",
        "outputId": "0be8fd41-990d-4d7e-f8d3-ffa293e4b11a"
      },
      "outputs": [
        {
          "output_type": "stream",
          "name": "stdout",
          "text": [
            "enter the visible light=blinking yellow\n",
            "go slow with caution\n",
            "enter the value 100-0=48\n",
            "The value present in between 50 to 0\n"
          ]
        }
      ],
      "source": [
        "# traffic light\n",
        "traffic_light=input(\"enter the visible light=\")\n",
        "if traffic_light==\"red\":\n",
        "    print(\"Stop\")\n",
        "elif traffic_light==\"yellow\":\n",
        "    print(\"caution\")\n",
        "elif traffic_light==\"blinking yellow\":\n",
        "    print(\"go slow with caution\")\n",
        "else:\n",
        "    print(\"Go\")\n",
        "\n",
        "# number range\n",
        "value=int(input(\"enter the value=\"))\n",
        "if value > 100:\n",
        "    print('Greater than 100')\n",
        "elif 100 >= value >= 50:\n",
        "    print(\"The value present in between 100 to 50\")\n",
        "elif 0<= value < 50:\n",
        "    print(\"The value present in between 50 to 0\")\n",
        "else:\n",
        "    print(\"the value present below 0\")"
      ]
    }
  ]
}