{
  "cells": [
    {
      "cell_type": "markdown",
      "metadata": {
        "id": "view-in-github",
        "colab_type": "text"
      },
      "source": [
        "<a href=\"https://colab.research.google.com/github/MadhanTeruvai/Python/blob/main/while_loop_4.ipynb\" target=\"_parent\"><img src=\"https://colab.research.google.com/assets/colab-badge.svg\" alt=\"Open In Colab\"/></a>"
      ]
    },
    {
      "cell_type": "code",
      "execution_count": 18,
      "metadata": {
        "colab": {
          "base_uri": "https://localhost:8080/"
        },
        "id": "-KfcpF4r54yj",
        "outputId": "6b7bb911-a9cd-481f-f1c2-30fd405f49b0"
      },
      "outputs": [
        {
          "output_type": "stream",
          "name": "stdout",
          "text": [
            "\n",
            "enter the maximum value with skip of -3\n",
            "\tenter the value to set as maximum: 30\n",
            "30\n",
            "27\n",
            "24\n",
            "21\n",
            "18\n",
            "15\n",
            "12\n",
            "9\n",
            "6\n",
            "3\n",
            "0\n",
            "\n",
            "enter the table want to create in reverse order\n",
            "\tenter the value to create multiplication table: 7\n",
            "\tenter Given input x10 value: 70\n",
            "7x10=70\n",
            "7x9=63\n",
            "7x8=56\n",
            "7x7=49\n",
            "7x6=42\n",
            "7x5=35\n",
            "7x4=28\n",
            "7x3=21\n",
            "7x2=14\n",
            "7x1=7\n",
            "\n",
            "enter the table want to create\n",
            "\tenter the value to create multiplication table: 9\n",
            "\tenter the maximum value to stop: 180\n",
            "9x1=9\n",
            "9x2=18\n",
            "9x3=27\n",
            "9x4=36\n",
            "9x5=45\n",
            "9x6=54\n",
            "9x7=63\n",
            "9x8=72\n",
            "9x9=81\n",
            "9x10=90\n",
            "9x11=99\n",
            "9x12=108\n",
            "9x13=117\n",
            "9x14=126\n",
            "9x15=135\n",
            "9x16=144\n",
            "9x17=153\n",
            "9x18=162\n",
            "9x19=171\n",
            "9x20=180\n"
          ]
        }
      ],
      "source": [
        "# while loop\n",
        "print(\"\\nenter the maximum value with skip of -3\")\n",
        "a=int(input(\"\\tenter the value to set as maximum: \"))\n",
        "while a>=0:\n",
        "    print(a)\n",
        "    a -=3\n",
        "\n",
        "print(\"\\nenter the table want to create in reverse order\")\n",
        "c=int(input(\"\\tenter the value to create multiplication table: \"))\n",
        "k=int(input(\"\\tenter Given input x10 value: \"))\n",
        "z=10\n",
        "while k>=c:\n",
        "    print(f\"{c}x{z}={k}\")\n",
        "    z -= 1\n",
        "    k -= c\n",
        "\n",
        "print(\"\\nenter the table want to create\")\n",
        "y=x=int(input(\"\\tenter the value to create multiplication table: \"))\n",
        "z=1\n",
        "d=int(input(\"\\tenter the maximum value to stop: \"))\n",
        "while y<=d:\n",
        "    print(f\"{x}x{z}={y}\")\n",
        "    z += 1\n",
        "    y += x"
      ]
    }
  ],
  "metadata": {
    "colab": {
      "provenance": [],
      "authorship_tag": "ABX9TyNwYuRyA5zDfe9wAp6mcCF1",
      "include_colab_link": true
    },
    "kernelspec": {
      "display_name": "Python 3",
      "name": "python3"
    },
    "language_info": {
      "name": "python"
    }
  },
  "nbformat": 4,
  "nbformat_minor": 0
}