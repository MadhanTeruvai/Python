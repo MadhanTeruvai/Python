{
  "nbformat": 4,
  "nbformat_minor": 0,
  "metadata": {
    "colab": {
      "provenance": [],
      "authorship_tag": "ABX9TyNyUiMTAsFl3g1RdU4stOdG",
      "include_colab_link": true
    },
    "kernelspec": {
      "name": "python3",
      "display_name": "Python 3"
    },
    "language_info": {
      "name": "python"
    }
  },
  "cells": [
    {
      "cell_type": "markdown",
      "metadata": {
        "id": "view-in-github",
        "colab_type": "text"
      },
      "source": [
        "<a href=\"https://colab.research.google.com/github/MadhanTeruvai/Python/blob/main/If%2C_Elif%2C_Else_4.ipynb\" target=\"_parent\"><img src=\"https://colab.research.google.com/assets/colab-badge.svg\" alt=\"Open In Colab\"/></a>"
      ]
    },
    {
      "cell_type": "code",
      "execution_count": 19,
      "metadata": {
        "colab": {
          "base_uri": "https://localhost:8080/"
        },
        "id": "gNHpBr5cCwML",
        "outputId": "ab0cf457-61b0-42e9-befd-1857b3833ee0"
      },
      "outputs": [
        {
          "output_type": "stream",
          "name": "stdout",
          "text": [
            "Enter the student name to findout grade: Vishal\n",
            "Enter the Marks of the student: 89.0\n",
            "A grade\n"
          ]
        }
      ],
      "source": [
        "# To find out the grade of an student\n",
        "A=input(\"Enter the student name to findout grade: \")\n",
        "B=float(input(\"Enter the Marks of the student: \"))\n",
        "if B<=100 and B>90:print(\"S grade\")\n",
        "elif B>=80:print(\"A grade\")\n",
        "elif B>=70:print(\"B grade\")\n",
        "elif B>=60:print(\"C grade\")\n",
        "elif B>=50:print(\"D grade\")\n",
        "elif B>=40:print(\"E grade\")\n",
        "else:print(\"Fail\")"
      ]
    }
  ]
}