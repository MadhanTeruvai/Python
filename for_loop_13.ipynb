{
  "nbformat": 4,
  "nbformat_minor": 0,
  "metadata": {
    "colab": {
      "provenance": [],
      "authorship_tag": "ABX9TyNLsp/ys1CHM95vPyF2b6jW",
      "include_colab_link": true
    },
    "kernelspec": {
      "name": "python3",
      "display_name": "Python 3"
    },
    "language_info": {
      "name": "python"
    }
  },
  "cells": [
    {
      "cell_type": "markdown",
      "metadata": {
        "id": "view-in-github",
        "colab_type": "text"
      },
      "source": [
        "<a href=\"https://colab.research.google.com/github/MadhanTeruvai/Python/blob/main/for_loop_13.ipynb\" target=\"_parent\"><img src=\"https://colab.research.google.com/assets/colab-badge.svg\" alt=\"Open In Colab\"/></a>"
      ]
    },
    {
      "cell_type": "code",
      "execution_count": 16,
      "metadata": {
        "colab": {
          "base_uri": "https://localhost:8080/"
        },
        "id": "eTr3tx4Ih3yS",
        "outputId": "aa6f7706-2e1b-4cdf-9633-354f5dcb631e"
      },
      "outputs": [
        {
          "output_type": "stream",
          "name": "stdout",
          "text": [
            "multiplication table for the given input number\n",
            "enter the value to find multiplication of an number: 15\n",
            "15x1=15\n",
            "15x2=30\n",
            "15x3=45\n",
            "15x4=60\n",
            "15x5=75\n",
            "15x6=90\n",
            "15x7=105\n",
            "15x8=120\n",
            "15x9=135\n",
            "15x10=150\n",
            "\n",
            "multiplication table upto multipication of 20\n",
            "enter the value to find multiplication of an number: 80\n",
            "80x1=80\n",
            "80x2=160\n",
            "80x3=240\n",
            "80x4=320\n",
            "80x5=400\n",
            "80x6=480\n",
            "80x7=560\n",
            "80x8=640\n",
            "80x9=720\n",
            "80x10=800\n",
            "80x11=880\n",
            "80x12=960\n",
            "80x13=1040\n",
            "80x14=1120\n",
            "80x15=1200\n",
            "80x16=1280\n",
            "80x17=1360\n",
            "80x18=1440\n",
            "80x19=1520\n",
            "80x20=1600\n",
            "\n",
            "Say Good Morning to respected Doctorate's\n",
            "Good Morning to Respected: Dr Gowrishankar\n",
            "Good Morning to Respected: Dr Lakshmi\n",
            "Good Morning to Respected: Dr Navyasree\n",
            "Good Morning to Respected: Dr Vishal\n",
            "Good Morning to Respected: Dr Ramana\n",
            "Good Morning to Respected: Dr Kavitha\n"
          ]
        }
      ],
      "source": [
        "print(\"multiplication table for the given input number\")\n",
        "number=int(input(\"enter the value to find multiplication of an number: \"))\n",
        "for i in range(10):\n",
        "    print(f\"{number}x{i+1}={number*(i+1)}\")\n",
        "\n",
        "print()\n",
        "print(\"multiplication table upto multipication of 20\")\n",
        "number=int(input(\"enter the value to find multiplication of an number: \"))\n",
        "for i in range(20):\n",
        "    print(f\"{number}x{i+1}={number*(i+1)}\")\n",
        "print()\n",
        "\n",
        "print(\"Say Good Morning to respected Doctorate's\")\n",
        "names=[\"Dr Gowrishankar\", \"Dr Lakshmi\", \"Dr Navyasree\", \"Dr V8ishal\", \"Vijay\", \"Dr Ramana\", \"Dr Kavitha\", \"Sree\", \"Pradeep\"]\n",
        "for name in names:\n",
        "    if name.startswith(\"Dr\"):\n",
        "        print(f\"Good Morning to Respected: {name}\")"
      ]
    }
  ]
}