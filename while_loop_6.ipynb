{
  "nbformat": 4,
  "nbformat_minor": 0,
  "metadata": {
    "colab": {
      "provenance": [],
      "authorship_tag": "ABX9TyNpPfe1GB+zzjAAu5AAjgxm",
      "include_colab_link": true
    },
    "kernelspec": {
      "name": "python3",
      "display_name": "Python 3"
    },
    "language_info": {
      "name": "python"
    }
  },
  "cells": [
    {
      "cell_type": "markdown",
      "metadata": {
        "id": "view-in-github",
        "colab_type": "text"
      },
      "source": [
        "<a href=\"https://colab.research.google.com/github/MadhanTeruvai/Python/blob/main/while_loop_6.ipynb\" target=\"_parent\"><img src=\"https://colab.research.google.com/assets/colab-badge.svg\" alt=\"Open In Colab\"/></a>"
      ]
    },
    {
      "cell_type": "code",
      "execution_count": 35,
      "metadata": {
        "colab": {
          "base_uri": "https://localhost:8080/"
        },
        "id": "VNHGb_kC7jwt",
        "outputId": "96cf874a-0428-4809-fa5f-681e51e1e745"
      },
      "outputs": [
        {
          "output_type": "stream",
          "name": "stdout",
          "text": [
            "enter the integer values between 5 to 15: 6\n",
            "7\n",
            "8\n",
            "9\n",
            "10\n",
            "11\n",
            "12\n",
            "13\n",
            "14\n",
            "15\n",
            "\n",
            "enter the integer values between 5 to 15: 7\n",
            "8.0\n",
            "9.0\n",
            "10.0\n",
            "11.0\n",
            "12.0\n",
            "13.0\n",
            "14.0\n",
            "15.0\n",
            "enter the integer values between 5 to 25 with skip of 2: 5\n",
            "7\n",
            "9\n",
            "11\n",
            "13\n",
            "15\n",
            "\n",
            "enter the integer values between 5 to 25: 5\n",
            "7.0\n",
            "9.0\n",
            "11.0\n",
            "13.0\n",
            "15.0\n"
          ]
        }
      ],
      "source": [
        "# while loop\n",
        "a=int(input(\"enter the integer values between 5 to 15: \"))\n",
        "while a<=14 and a>=5:\n",
        "    print(a)\n",
        "    a+=1\n",
        "\n",
        "a=float(input(\"\\nenter the integer values between 5 to 15: \"))\n",
        "while a<=14 and a>=5:\n",
        "    print(a)\n",
        "    a+=1\n",
        "\n",
        "a=int(input(\"enter the integer values between 5 to 25 with skip of 2: \"))\n",
        "while a<=14 and a>=5:\n",
        "    print(a)\n",
        "    a+=2\n",
        "\n",
        "a=float(input(\"\\nenter the integer values between 5 to 25: \"))\n",
        "while a<=14 and a>=5:\n",
        "    print(a)\n",
        "    a+=2"
      ]
    }
  ]
}