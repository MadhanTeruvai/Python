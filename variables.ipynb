{
  "nbformat": 4,
  "nbformat_minor": 0,
  "metadata": {
    "colab": {
      "provenance": [],
      "authorship_tag": "ABX9TyM20RxasjedlVjjQHcD89qo",
      "include_colab_link": true
    },
    "kernelspec": {
      "name": "python3",
      "display_name": "Python 3"
    },
    "language_info": {
      "name": "python"
    }
  },
  "cells": [
    {
      "cell_type": "markdown",
      "metadata": {
        "id": "view-in-github",
        "colab_type": "text"
      },
      "source": [
        "<a href=\"https://colab.research.google.com/github/MadhanTeruvai/Python/blob/main/variables.ipynb\" target=\"_parent\"><img src=\"https://colab.research.google.com/assets/colab-badge.svg\" alt=\"Open In Colab\"/></a>"
      ]
    },
    {
      "cell_type": "code",
      "execution_count": 1,
      "metadata": {
        "colab": {
          "base_uri": "https://localhost:8080/"
        },
        "id": "4JkrbmNCG0vG",
        "outputId": "58508200-6542-4e0d-ad25-eb367364faa9"
      },
      "outputs": [
        {
          "output_type": "stream",
          "name": "stdout",
          "text": [
            "56\n",
            "666\n",
            "262\n",
            "425\n",
            "134065461598736\n"
          ]
        }
      ],
      "source": [
        "'''\n",
        "An practice file with comment,\n",
        "variable,\n",
        "print,\n",
        "multi variable\n",
        "'''\n",
        "a=b=c=425\n",
        "_k=56\n",
        "d=262\n",
        "abc=666\n",
        "print(_k)\n",
        "print(abc)\n",
        "print(d)\n",
        "print(c)\n",
        "# the below mentioned is to find the memory location\n",
        "print(id(abc))"
      ]
    }
  ]
}