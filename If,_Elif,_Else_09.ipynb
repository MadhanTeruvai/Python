{
  "nbformat": 4,
  "nbformat_minor": 0,
  "metadata": {
    "colab": {
      "provenance": [],
      "authorship_tag": "ABX9TyNoc3AIZstMpUxifAIL83T8",
      "include_colab_link": true
    },
    "kernelspec": {
      "name": "python3",
      "display_name": "Python 3"
    },
    "language_info": {
      "name": "python"
    }
  },
  "cells": [
    {
      "cell_type": "markdown",
      "metadata": {
        "id": "view-in-github",
        "colab_type": "text"
      },
      "source": [
        "<a href=\"https://colab.research.google.com/github/MadhanTeruvai/Python/blob/main/If%2C_Elif%2C_Else_09.ipynb\" target=\"_parent\"><img src=\"https://colab.research.google.com/assets/colab-badge.svg\" alt=\"Open In Colab\"/></a>"
      ]
    },
    {
      "cell_type": "code",
      "execution_count": 4,
      "metadata": {
        "colab": {
          "base_uri": "https://localhost:8080/"
        },
        "id": "32l15DLWAnbm",
        "outputId": "b9bbc72e-b3fd-45f4-da14-08cbaef44f11"
      },
      "outputs": [
        {
          "output_type": "stream",
          "name": "stdout",
          "text": [
            "Enter 'yes' or 'no': Yes\n",
            "Confirmed\n",
            "\n",
            "Number is zero\n"
          ]
        }
      ],
      "source": [
        "enter = input(\"Enter 'yes' or 'no': \").lower()\n",
        "if enter == \"yes\":\n",
        "    print(\"Confirmed\")\n",
        "elif enter == \"no\":\n",
        "    print(\"Denied\")\n",
        "else:\n",
        "    print(\"Invalid input\")\n",
        "print()\n",
        "num = 0\n",
        "if num > 0:\n",
        "    print(\"Number is positive\")\n",
        "elif num == 0:\n",
        "    print(\"Number is zero\")\n",
        "else:\n",
        "    print(\"Number is negative\")"
      ]
    }
  ]
}