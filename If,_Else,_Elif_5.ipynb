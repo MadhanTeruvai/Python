{
  "nbformat": 4,
  "nbformat_minor": 0,
  "metadata": {
    "colab": {
      "provenance": [],
      "authorship_tag": "ABX9TyNCep3ws7UykMDE/z4iVBzf",
      "include_colab_link": true
    },
    "kernelspec": {
      "name": "python3",
      "display_name": "Python 3"
    },
    "language_info": {
      "name": "python"
    }
  },
  "cells": [
    {
      "cell_type": "markdown",
      "metadata": {
        "id": "view-in-github",
        "colab_type": "text"
      },
      "source": [
        "<a href=\"https://colab.research.google.com/github/MadhanTeruvai/Python/blob/main/If%2C_Else%2C_Elif_5.ipynb\" target=\"_parent\"><img src=\"https://colab.research.google.com/assets/colab-badge.svg\" alt=\"Open In Colab\"/></a>"
      ]
    },
    {
      "cell_type": "code",
      "execution_count": 12,
      "metadata": {
        "colab": {
          "base_uri": "https://localhost:8080/"
        },
        "id": "-hlMsQb05I5D",
        "outputId": "80c0d902-2321-4c4e-aff8-b4999e44c72c"
      },
      "outputs": [
        {
          "output_type": "stream",
          "name": "stdout",
          "text": [
            "Enter the brand of an mobileOppo\n",
            "The Information About The Brands Are Just For Example\n",
            "Best in Camera\n"
          ]
        }
      ],
      "source": [
        "# if, elif, else\n",
        "A=input(\"Enter the brand of an mobile\")\n",
        "print(\"The Information About The Brands Are Just For Example\")\n",
        "if A==\"Apple\":\n",
        "   print(\"Best in Security\")\n",
        "elif A==\"Samsung\":\n",
        "   print(\"Best in innovation\")\n",
        "elif A==\"Google_Pixel\":\n",
        "   print(\"Best in photography\")\n",
        "elif A==\"Motorola\":\n",
        "   print(\"Best in Budget\")\n",
        "elif A==\"Mi\":\n",
        "   print(\"Value for Money\")\n",
        "elif A==\"Vivo\":\n",
        "   print(\"Best In Looks\")\n",
        "elif A==\"IQOO\":\n",
        "   print(\"Fastest Mobiles\")\n",
        "elif A==\"Oneplus\":\n",
        "   print(\"Premium Feel\")\n",
        "elif A==\"Oppo\":\n",
        "   print(\"Best in Camera\")\n",
        "else:\n",
        "   print(\"Research About The Brand Before You Buy\")"
      ]
    }
  ]
}