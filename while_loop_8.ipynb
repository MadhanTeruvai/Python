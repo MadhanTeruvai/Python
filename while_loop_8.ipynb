{
  "nbformat": 4,
  "nbformat_minor": 0,
  "metadata": {
    "colab": {
      "provenance": [],
      "authorship_tag": "ABX9TyMsCksA3V7bM1dCkx8PqiEM",
      "include_colab_link": true
    },
    "kernelspec": {
      "name": "python3",
      "display_name": "Python 3"
    },
    "language_info": {
      "name": "python"
    }
  },
  "cells": [
    {
      "cell_type": "markdown",
      "metadata": {
        "id": "view-in-github",
        "colab_type": "text"
      },
      "source": [
        "<a href=\"https://colab.research.google.com/github/MadhanTeruvai/Python/blob/main/while_loop_8.ipynb\" target=\"_parent\"><img src=\"https://colab.research.google.com/assets/colab-badge.svg\" alt=\"Open In Colab\"/></a>"
      ]
    },
    {
      "cell_type": "code",
      "execution_count": 76,
      "metadata": {
        "colab": {
          "base_uri": "https://localhost:8080/"
        },
        "id": "trV5SHgEhCEf",
        "outputId": "24f314b3-e8ca-43ea-de17-bc8a10da2a61"
      },
      "outputs": [
        {
          "output_type": "stream",
          "name": "stdout",
          "text": [
            "enter the value to find sqaure of the number: 250\n",
            "62500\n",
            "\n",
            "enter the value to find cube of the number: 300\n",
            "27000000\n",
            "\n",
            "enter the value to find multiplication: 130\n",
            "enter the maximum value: 1300\n",
            "130x1=130\n",
            "130x2=260\n",
            "130x3=390\n",
            "130x4=520\n",
            "130x5=650\n",
            "130x6=780\n",
            "130x7=910\n",
            "130x8=1040\n",
            "130x9=1170\n",
            "130x10=1300\n",
            "130x11=1430\n"
          ]
        }
      ],
      "source": [
        "a=int(input(\"enter the value to find sqaure of the number: \"))\n",
        "while a<=1000:\n",
        "    a**=2\n",
        "    print(a)\n",
        "    a+=1000\n",
        "print()\n",
        "\n",
        "a=int(input(\"enter the value to find cube of the number: \"))\n",
        "while a<=1000:\n",
        "    a**=3\n",
        "    print(a)\n",
        "    a+=1000\n",
        "print()\n",
        "\n",
        "a=int(input(\"enter the value to find multiplication: \"))\n",
        "b=a\n",
        "y=int(input(\"enter the maximum value: \"))\n",
        "z=1\n",
        "while a<=y:\n",
        "    a=b*z\n",
        "    print(f\"{b}x{z}={a}\")\n",
        "    z+=1\n",
        ""
      ]
    }
  ]
}