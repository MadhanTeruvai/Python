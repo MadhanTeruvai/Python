{
  "nbformat": 4,
  "nbformat_minor": 0,
  "metadata": {
    "colab": {
      "provenance": [],
      "authorship_tag": "ABX9TyM4t2y1rDr5tAoYy0iYYJAs",
      "include_colab_link": true
    },
    "kernelspec": {
      "name": "python3",
      "display_name": "Python 3"
    },
    "language_info": {
      "name": "python"
    }
  },
  "cells": [
    {
      "cell_type": "markdown",
      "metadata": {
        "id": "view-in-github",
        "colab_type": "text"
      },
      "source": [
        "<a href=\"https://colab.research.google.com/github/MadhanTeruvai/Python/blob/main/tuple_practice_file.ipynb\" target=\"_parent\"><img src=\"https://colab.research.google.com/assets/colab-badge.svg\" alt=\"Open In Colab\"/></a>"
      ]
    },
    {
      "cell_type": "code",
      "execution_count": 5,
      "metadata": {
        "colab": {
          "base_uri": "https://localhost:8080/"
        },
        "id": "va80j-lgc0MS",
        "outputId": "bd4168e6-5e2f-4ae6-8082-6eace471e344"
      },
      "outputs": [
        {
          "output_type": "stream",
          "name": "stdout",
          "text": [
            "1.) 3\n",
            "2.) enter the value to find out index:4\n",
            "5\n",
            "0\n"
          ]
        }
      ],
      "source": [
        "# 1.)  write a program to count the numbers of zeroes in the following tuple\n",
        "QuesTuple=(7,0,8,0,0,9)\n",
        "print(\"1.)\",QuesTuple.count(0))\n",
        "\n",
        "# 2.)  write a program to find index number in the following tuple\n",
        "b=(2,5,2,6,3,4,1,7,3,4,0)\n",
        "print(b.index(int(input(\"2.) enter the value to find out index:\"))))\n",
        "\n",
        "# 3.)  write a program to find 2 index in the following tuple\n",
        "c=(2,5,2,6,3,4,1,7,3,4,0)\n",
        "print(c.index(2))"
      ]
    }
  ]
}