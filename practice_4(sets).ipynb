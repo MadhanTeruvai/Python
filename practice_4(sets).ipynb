{
  "cells": [
    {
      "cell_type": "markdown",
      "metadata": {
        "id": "view-in-github",
        "colab_type": "text"
      },
      "source": [
        "<a href=\"https://colab.research.google.com/github/MadhanTeruvai/Python/blob/main/practice_4(sets).ipynb\" target=\"_parent\"><img src=\"https://colab.research.google.com/assets/colab-badge.svg\" alt=\"Open In Colab\"/></a>"
      ]
    },
    {
      "cell_type": "code",
      "execution_count": 16,
      "metadata": {
        "colab": {
          "base_uri": "https://localhost:8080/"
        },
        "id": "66C6ggKlV25q",
        "outputId": "5ee0dd50-4246-497e-a01a-20b725e8e1d7"
      },
      "outputs": [
        {
          "output_type": "stream",
          "name": "stdout",
          "text": [
            "5\n"
          ]
        }
      ],
      "source": [
        "                    # set\n",
        "# write a program to input eight numbers from the user and display all the unqique numbers\n",
        "S=set()\n",
        "S.add(input(\"enter the value to add:\"))\n",
        "S.add(input(\"enter the value to add:\"))\n",
        "S.add(input(\"enter the value to add:\"))\n",
        "S.add(input(\"enter the value to add:\"))\n",
        "S.add(input(\"enter the value to add:\"))\n",
        "S.add(input(\"enter the value to add:\"))\n",
        "S.add(input(\"enter the value to add:\"))\n",
        "S.add(input(\"enter the value to add:\"))\n",
        "print(S)\n",
        "\n",
        "# can we have a set with 56(int) and \"18\"(str) as a values in it\n",
        "s=set()\n",
        "s.add(int(input(\"enter the value to add\")))\n",
        "s.add(int(input(\"enter the value to add\")))\n",
        "s.add(input(\"enter the value to add\"))\n",
        "s.add(input(\"enter the value to add\"))\n",
        "s.add(input(\"enter the value to add\"))\n",
        "\n",
        "# what will be the length of the following set\n",
        "a=set()\n",
        "a.add(89)\n",
        "a.add(65)\n",
        "a.add(78)\n",
        "a.add(23)\n",
        "a.add(28)\n",
        "print(a)\n",
        "print(len(a))"
      ]
    }
  ],
  "metadata": {
    "colab": {
      "provenance": [],
      "authorship_tag": "ABX9TyNyr38Z7AuyLOR97sYo0eKW",
      "include_colab_link": true
    },
    "kernelspec": {
      "display_name": "Python 3",
      "name": "python3"
    },
    "language_info": {
      "name": "python"
    }
  },
  "nbformat": 4,
  "nbformat_minor": 0
}