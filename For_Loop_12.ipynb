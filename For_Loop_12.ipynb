{
  "nbformat": 4,
  "nbformat_minor": 0,
  "metadata": {
    "colab": {
      "provenance": [],
      "authorship_tag": "ABX9TyNtiU7Gm+oZuLtpWmEPwtD0",
      "include_colab_link": true
    },
    "kernelspec": {
      "name": "python3",
      "display_name": "Python 3"
    },
    "language_info": {
      "name": "python"
    }
  },
  "cells": [
    {
      "cell_type": "markdown",
      "metadata": {
        "id": "view-in-github",
        "colab_type": "text"
      },
      "source": [
        "<a href=\"https://colab.research.google.com/github/MadhanTeruvai/Python/blob/main/For_Loop_12.ipynb\" target=\"_parent\"><img src=\"https://colab.research.google.com/assets/colab-badge.svg\" alt=\"Open In Colab\"/></a>"
      ]
    },
    {
      "cell_type": "code",
      "execution_count": 28,
      "metadata": {
        "colab": {
          "base_uri": "https://localhost:8080/"
        },
        "id": "a0QDVcZJsg0p",
        "outputId": "cb32a74b-17e5-490d-f44d-2be2546e6a12"
      },
      "outputs": [
        {
          "output_type": "stream",
          "name": "stdout",
          "text": [
            "creating square by using for loop\n",
            "enter the input value12\n",
            "%?%?%?%?%?%?%?%?%?%?%?%?%?\n",
            "%?%?%?%?%?%?%?%?%?%?%?%?%?\n",
            "%?%?%?%?%?%?%?%?%?%?%?%?%?\n",
            "%?%?%?%?%?%?%?%?%?%?%?%?%?\n",
            "%?%?%?%?%?%?%?%?%?%?%?%?%?\n",
            "%?%?%?%?%?%?%?%?%?%?%?%?%?\n",
            "%?%?%?%?%?%?%?%?%?%?%?%?%?\n",
            "%?%?%?%?%?%?%?%?%?%?%?%?%?\n",
            "%?%?%?%?%?%?%?%?%?%?%?%?%?\n",
            "%?%?%?%?%?%?%?%?%?%?%?%?%?\n",
            "%?%?%?%?%?%?%?%?%?%?%?%?%?\n",
            "%?%?%?%?%?%?%?%?%?%?%?%?%?\n",
            "\n",
            "creating inverted full pyramid by using for loop\n",
            " # # # # # # # # # #\n",
            "  # # # # # # # # #\n",
            "   # # # # # # # #\n",
            "    # # # # # # #\n",
            "     # # # # # #\n",
            "      # # # # #\n",
            "       # # # #\n",
            "        # # #\n",
            "         # #\n",
            "          #\n",
            "\n",
            "creating inverted left half pyramid by using for loop\n",
            "&&&&&&&&&&&&&&&&&&&&\n",
            " &&&&&&&&&&&&&&&&&&&\n",
            "  &&&&&&&&&&&&&&&&&&\n",
            "   &&&&&&&&&&&&&&&&&\n",
            "    &&&&&&&&&&&&&&&&\n",
            "     &&&&&&&&&&&&&&&\n",
            "      &&&&&&&&&&&&&&\n",
            "       &&&&&&&&&&&&&\n",
            "        &&&&&&&&&&&&\n",
            "         &&&&&&&&&&&\n",
            "          &&&&&&&&&&\n",
            "           &&&&&&&&&\n",
            "            &&&&&&&&\n",
            "             &&&&&&&\n",
            "              &&&&&&\n",
            "               &&&&&\n",
            "                &&&&\n",
            "                 &&&\n",
            "                  &&\n",
            "                   &\n",
            "\n",
            "creating inverted right half pyramid by using for loop\n",
            "@@@@@@@@@@@@@@@@@@@@\n",
            "@@@@@@@@@@@@@@@@@@@\n",
            "@@@@@@@@@@@@@@@@@@\n",
            "@@@@@@@@@@@@@@@@@\n",
            "@@@@@@@@@@@@@@@@\n",
            "@@@@@@@@@@@@@@@\n",
            "@@@@@@@@@@@@@@\n",
            "@@@@@@@@@@@@@\n",
            "@@@@@@@@@@@@\n",
            "@@@@@@@@@@@\n",
            "@@@@@@@@@@\n",
            "@@@@@@@@@\n",
            "@@@@@@@@\n",
            "@@@@@@@\n",
            "@@@@@@\n",
            "@@@@@\n",
            "@@@@\n",
            "@@@\n",
            "@@\n",
            "@\n"
          ]
        }
      ],
      "source": [
        "print(\"creating square by using for loop\")\n",
        "a=int(input(\"enter the input value\"))\n",
        "for i in range(a):\n",
        "    for j in range(a+1):\n",
        "        print(\"%\",end=\"\")\n",
        "        print(\"?\",end=\"\")\n",
        "    print()\n",
        "print()\n",
        "print(\"creating inverted full pyramid by using for loop\")\n",
        "for i in range(10):\n",
        "   for j in range(i):\n",
        "      print(\" \",end=\"\")\n",
        "   for k in range(10-i):\n",
        "      print(\" #\",end=\"\")\n",
        "   print()\n",
        "print()\n",
        "print(\"creating inverted left half pyramid by using for loop\")\n",
        "for i in range(20):\n",
        "   for j in range(i):\n",
        "      print(\"\",end=\" \")\n",
        "   for k in range(20-i):\n",
        "      print(\"&\",end=\"\")\n",
        "   print()\n",
        "print()\n",
        "print(\"creating inverted right half pyramid by using for loop\")\n",
        "for i in range(20):\n",
        "   for j in range(20-i):\n",
        "      print(\"@\",end=\"\")\n",
        "   for k in range(20-i):\n",
        "      print(\"\",end=\"\")\n",
        "   print()"
      ]
    }
  ]
}