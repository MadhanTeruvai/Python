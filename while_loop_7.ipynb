{
  "nbformat": 4,
  "nbformat_minor": 0,
  "metadata": {
    "colab": {
      "provenance": [],
      "authorship_tag": "ABX9TyNeruea7JpkmTU1hpz8lIUg",
      "include_colab_link": true
    },
    "kernelspec": {
      "name": "python3",
      "display_name": "Python 3"
    },
    "language_info": {
      "name": "python"
    }
  },
  "cells": [
    {
      "cell_type": "markdown",
      "metadata": {
        "id": "view-in-github",
        "colab_type": "text"
      },
      "source": [
        "<a href=\"https://colab.research.google.com/github/MadhanTeruvai/Python/blob/main/while_loop_7.ipynb\" target=\"_parent\"><img src=\"https://colab.research.google.com/assets/colab-badge.svg\" alt=\"Open In Colab\"/></a>"
      ]
    },
    {
      "cell_type": "code",
      "execution_count": 30,
      "metadata": {
        "colab": {
          "base_uri": "https://localhost:8080/"
        },
        "id": "t1d4GenZYZn_",
        "outputId": "ca4fd030-b551-435f-aac1-a1009321a804"
      },
      "outputs": [
        {
          "output_type": "stream",
          "name": "stdout",
          "text": [
            "enter the value between 20 ot 50 with skip of -2: 40\n",
            "40\n",
            "38\n",
            "36\n",
            "34\n",
            "32\n",
            "30\n",
            "28\n",
            "26\n",
            "24\n",
            "22\n",
            "20\n",
            "\n"
          ]
        }
      ],
      "source": [
        "# while loop\n",
        "a=int(input(\"enter the value below 20: \"))\n",
        "while a<=20:\n",
        "    print(a)\n",
        "    a+=1\n",
        "print()\n",
        "a=int(input(\"enter the value between 20 ot 50 with skip of 2: \"))\n",
        "while a>=20 and a<=50:\n",
        "    print(a)\n",
        "    a+=2\n",
        "print()\n",
        "a=int(input(\"enter the value only 10, 20, 30, 40, 50: \"))\n",
        "while a==10 or a==20 or a==30 or a==40 or a==50:\n",
        "    print(\"the entered values are correct\",a)\n",
        "    a+=1\n",
        "print()\n",
        "a=int(input(\"enter the value between 20 ot 50 with skip of -2: \"))\n",
        "while a>=20 and a<=50:\n",
        "    print(a)\n",
        "    a-=2"
      ]
    }
  ]
}