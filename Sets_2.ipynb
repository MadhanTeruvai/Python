{
  "nbformat": 4,
  "nbformat_minor": 0,
  "metadata": {
    "colab": {
      "provenance": [],
      "authorship_tag": "ABX9TyOqaR4fK9jpmIRLt0GAQTFQ",
      "include_colab_link": true
    },
    "kernelspec": {
      "name": "python3",
      "display_name": "Python 3"
    },
    "language_info": {
      "name": "python"
    }
  },
  "cells": [
    {
      "cell_type": "markdown",
      "metadata": {
        "id": "view-in-github",
        "colab_type": "text"
      },
      "source": [
        "<a href=\"https://colab.research.google.com/github/MadhanTeruvai/Python/blob/main/Sets_2.ipynb\" target=\"_parent\"><img src=\"https://colab.research.google.com/assets/colab-badge.svg\" alt=\"Open In Colab\"/></a>"
      ]
    },
    {
      "cell_type": "code",
      "execution_count": 2,
      "metadata": {
        "colab": {
          "base_uri": "https://localhost:8080/"
        },
        "id": "Z_WLdOhwnzUn",
        "outputId": "5cf68422-7b9e-4c2f-ebe6-d8f93817a57c"
      },
      "outputs": [
        {
          "output_type": "stream",
          "name": "stdout",
          "text": [
            "{'banana', 'orange', 'grape', 'apple'}\n",
            "{'orange', 'grape', 'apple'}\n",
            "{'grape', 'banana', 'mango', 'apple', 'orange'}\n",
            "{'apple'}\n",
            "{0, 1, 3}\n",
            "True\n",
            "{0, 1, 2, 3, 4}\n",
            "0\n",
            "{1, 2, 3, 4}\n"
          ]
        }
      ],
      "source": [
        "# Sets\n",
        "# Creating sets\n",
        "fruits = {\"apple\", \"banana\", \"orange\"}\n",
        "more_fruits = {\"banana\", \"mango\", \"apple\"}\n",
        "\n",
        "# Adding an element\n",
        "fruits.add(\"grape\")\n",
        "print(fruits)\n",
        "\n",
        "# Removing an element\n",
        "fruits.remove(\"banana\")  # Raises KeyError if not found\n",
        "print(fruits)\n",
        "\n",
        "# Union of sets\n",
        "all_fruits = fruits.union(more_fruits)\n",
        "print(all_fruits)\n",
        "\n",
        "# Intersection of sets\n",
        "common_fruits = fruits.intersection(more_fruits)\n",
        "print(common_fruits)\n",
        "\n",
        "\n",
        "# Adding whole numbers and even numbers\n",
        "# Creating sets\n",
        "numbers = {0, 1, 2, 3, 4}\n",
        "evens = {2, 4, 6, 8}\n",
        "\n",
        "# Difference between sets\n",
        "unique_numbers = numbers.difference(evens)\n",
        "print(unique_numbers)\n",
        "\n",
        "# Check if subset\n",
        "is_subset = {2, 4}.issubset(evens)\n",
        "print(is_subset)\n",
        "\n",
        "# Discard element (no error if not found)\n",
        "numbers.discard(5)  # Does nothing since 5 isn't in set\n",
        "print(numbers)\n",
        "\n",
        "# Pop an element (removes and returns random element)\n",
        "popped = numbers.pop()\n",
        "print(popped)  # Output: (e.g., 1, depends on implementation)\n",
        "print(numbers)  # Output: (e.g., {2, 3, 4})"
      ]
    }
  ]
}