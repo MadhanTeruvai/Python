{
  "nbformat": 4,
  "nbformat_minor": 0,
  "metadata": {
    "colab": {
      "provenance": [],
      "authorship_tag": "ABX9TyOt3LXi9Ry5YIa3IH3hLcpG",
      "include_colab_link": true
    },
    "kernelspec": {
      "name": "python3",
      "display_name": "Python 3"
    },
    "language_info": {
      "name": "python"
    }
  },
  "cells": [
    {
      "cell_type": "markdown",
      "metadata": {
        "id": "view-in-github",
        "colab_type": "text"
      },
      "source": [
        "<a href=\"https://colab.research.google.com/github/MadhanTeruvai/Python/blob/main/While_Loop.ipynb\" target=\"_parent\"><img src=\"https://colab.research.google.com/assets/colab-badge.svg\" alt=\"Open In Colab\"/></a>"
      ]
    },
    {
      "cell_type": "code",
      "execution_count": 40,
      "metadata": {
        "colab": {
          "base_uri": "https://localhost:8080/"
        },
        "id": "C_TJKWAWH6Hr",
        "outputId": "a9cea960-9c28-4f72-a455-a5b2dabab55e"
      },
      "outputs": [
        {
          "output_type": "stream",
          "name": "stdout",
          "text": [
            "count of 1 to 5 with skip of 1\n",
            "1\n",
            "2\n",
            "3\n",
            "4\n",
            "5\n",
            "\n",
            "count of 13 to 28 with skip of 2\n",
            "13\n",
            "15\n",
            "17\n",
            "19\n",
            "21\n",
            "23\n",
            "25\n",
            "27\n",
            "\n",
            "count of 17 to 11 with skip of 1\n",
            "17\n",
            "16\n",
            "15\n",
            "14\n",
            "13\n",
            "12\n",
            "11\n",
            "\n",
            " square of input\n",
            "2\n",
            "4\n",
            "8\n",
            "16\n",
            "\n",
            " cube of input \n",
            "2\n",
            "6\n",
            "18\n"
          ]
        }
      ],
      "source": [
        "\n",
        "print(\"count of 1 to 5 with skip of 1\")\n",
        "count = 1\n",
        "while count <= 5:\n",
        "   print(count)\n",
        "   count += 1\n",
        "\n",
        "print(\"\\ncount of 13 to 28 with skip of 2\")\n",
        "count = 13\n",
        "while count <= 28:\n",
        "    print(count)\n",
        "    count += 2\n",
        "\n",
        "print(\"\\ncount of 17 to 11 with skip of 1\")\n",
        "count = 17\n",
        "while count >= 11:\n",
        "   print(count)\n",
        "   count -= 1\n",
        "\n",
        "print(\"\\n square of input\")\n",
        "count = 2\n",
        "while count <= 20:\n",
        "   print(count)\n",
        "   count *= 2\n",
        "\n",
        "print(\"\\n cube of input \")\n",
        "count = 2\n",
        "while count <= 20:\n",
        "   print(count)\n",
        "   count *= 3"
      ]
    }
  ]
}