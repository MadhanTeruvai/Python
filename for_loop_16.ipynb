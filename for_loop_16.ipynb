{
  "nbformat": 4,
  "nbformat_minor": 0,
  "metadata": {
    "colab": {
      "provenance": [],
      "authorship_tag": "ABX9TyMjOMQ29TPPkbMKlNkjBAWs",
      "include_colab_link": true
    },
    "kernelspec": {
      "name": "python3",
      "display_name": "Python 3"
    },
    "language_info": {
      "name": "python"
    }
  },
  "cells": [
    {
      "cell_type": "markdown",
      "metadata": {
        "id": "view-in-github",
        "colab_type": "text"
      },
      "source": [
        "<a href=\"https://colab.research.google.com/github/MadhanTeruvai/Python/blob/main/for_loop_16.ipynb\" target=\"_parent\"><img src=\"https://colab.research.google.com/assets/colab-badge.svg\" alt=\"Open In Colab\"/></a>"
      ]
    },
    {
      "cell_type": "code",
      "execution_count": 49,
      "metadata": {
        "colab": {
          "base_uri": "https://localhost:8080/"
        },
        "id": "EVBgTHhdVea2",
        "outputId": "d74ad5fb-9838-46e4-eb7a-47e6e3414c39"
      },
      "outputs": [
        {
          "output_type": "stream",
          "name": "stdout",
          "text": [
            "creating hallow square\n",
            "enter the value20\n",
            "%# # # # # # # # # # # # # # # # # # # \n",
            "%                                    @ \n",
            "%                                    @ \n",
            "%                                    @ \n",
            "%                                    @ \n",
            "%                                    @ \n",
            "%                                    @ \n",
            "%                                    @ \n",
            "%                                    @ \n",
            "%                                    @ \n",
            "%                                    @ \n",
            "%                                    @ \n",
            "%                                    @ \n",
            "%                                    @ \n",
            "%                                    @ \n",
            "%                                    @ \n",
            "%                                    @ \n",
            "%                                    @ \n",
            "%                                    @ \n",
            "* * * * * * * * * * * * * * * * * * * * \n",
            "\n",
            "creating hallow rectangle\n",
            "enter the value30\n",
            "enter the value20\n",
            "%# # # # # # # # # # # # # # # # # # # # # # # # # # # # # \n",
            "%                                                        @ \n",
            "%                                                        @ \n",
            "%                                                        @ \n",
            "%                                                        @ \n",
            "%                                                        @ \n",
            "%                                                        @ \n",
            "%                                                        @ \n",
            "%                                                        @ \n",
            "%                                                        @ \n",
            "%                                                        @ \n",
            "%                                                        @ \n",
            "%                                                        @ \n",
            "%                                                        @ \n",
            "%                                                        @ \n",
            "%                                                        @ \n",
            "%                                                        @ \n",
            "%                                                        @ \n",
            "%                                                        @ \n",
            "* * * * * * * * * * * * * * * * * * * * * * * * * * * * * * \n"
          ]
        }
      ],
      "source": [
        "print(\"creating hallow square\")\n",
        "n=int(input(\"enter the value\"))\n",
        "for i in range(n):\n",
        "    for j in range(n):\n",
        "        if (i==n-1):\n",
        "            print(\"* \",end=\"\")\n",
        "        elif (j==0):\n",
        "            print(\"%\",end=\"\")\n",
        "        elif (i==0):\n",
        "            print(\"# \",end=\"\")\n",
        "        elif (j==n-1):\n",
        "            print(\"@ \",end=\"\")\n",
        "        else:\n",
        "            print(\"  \",end=\"\")\n",
        "    print()\n",
        "print()\n",
        "\n",
        "print(\"creating hallow rectangle\")\n",
        "b=int(input(\"enter the value\"))\n",
        "a=int(input(\"enter the value\"))\n",
        "for i in range(a):\n",
        "    for j in range(b):\n",
        "        if (i==a-1):\n",
        "            print(\"* \",end=\"\")\n",
        "        elif (j==0):\n",
        "            print(\"%\",end=\"\")\n",
        "        elif (i==0):\n",
        "            print(\"# \",end=\"\")\n",
        "        elif (j==b-1):\n",
        "            print(\"@ \",end=\"\")\n",
        "        else:\n",
        "            print(\"  \",end=\"\")\n",
        "    print()\n"
      ]
    }
  ]
}