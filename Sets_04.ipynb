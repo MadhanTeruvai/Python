{
  "nbformat": 4,
  "nbformat_minor": 0,
  "metadata": {
    "colab": {
      "provenance": [],
      "authorship_tag": "ABX9TyPzrtpFIM2BWwspVLW2VKvA",
      "include_colab_link": true
    },
    "kernelspec": {
      "name": "python3",
      "display_name": "Python 3"
    },
    "language_info": {
      "name": "python"
    }
  },
  "cells": [
    {
      "cell_type": "markdown",
      "metadata": {
        "id": "view-in-github",
        "colab_type": "text"
      },
      "source": [
        "<a href=\"https://colab.research.google.com/github/MadhanTeruvai/Python/blob/main/Sets_04.ipynb\" target=\"_parent\"><img src=\"https://colab.research.google.com/assets/colab-badge.svg\" alt=\"Open In Colab\"/></a>"
      ]
    },
    {
      "cell_type": "code",
      "execution_count": 1,
      "metadata": {
        "colab": {
          "base_uri": "https://localhost:8080/"
        },
        "id": "5nljC1-oYq-0",
        "outputId": "7eecf589-004f-4430-c9ba-e6c4e8ac9060"
      },
      "outputs": [
        {
          "output_type": "stream",
          "name": "stdout",
          "text": [
            "get(footwears): 2\n",
            "get(watch): 1\n",
            "get(T-shirts): 4\n",
            "get(Shirts): 5\n",
            "get(Pants): 4\n",
            "keys: dict_keys(['footwears', 'watch', 'T-shirts', 'Shirts', 'Pants'])\n",
            "values dict_values([2, 1, 4, 5, 4])\n",
            "items dict_items([('footwears', 2), ('watch', 1), ('T-shirts', 4), ('Shirts', 5), ('Pants', 4)])\n",
            "update {'footwears': 2, 'watch': 1, 'T-shirts': 4, 'Shirts': 5, 'Pants': 4, 'crow': 1}\n",
            "the loop for dictionary\n",
            "('footwears', 2)\n",
            "('watch', 1)\n",
            "('T-shirts', 4)\n",
            "('Shirts', 5)\n",
            "('Pants', 4)\n",
            "('crow', 1)\n"
          ]
        }
      ],
      "source": [
        "Outfits = {\"footwears\":2, \"watch\":1, \"T-shirts\":4, \"Shirts\":5, \"Pants\":4}\n",
        "\n",
        "# used to get value cats of specified key\n",
        "print(\"get(footwears):\",Outfits.get('footwears'))\n",
        "\n",
        "# get-dog\n",
        "# used to get value dog of specified key\n",
        "print(\"get(watch):\",Outfits.get('watch'))\n",
        "\n",
        "# get-rats\n",
        "# used to get value rats of specified key\n",
        "print(\"get(T-shirts):\",Outfits.get('T-shirts'))\n",
        "\n",
        "# get-bats\n",
        "# used to get value bats of specified key\n",
        "print(\"get(Shirts):\",Outfits.get('Shirts'))\n",
        "\n",
        "# get-ants\n",
        "# used to get value ants of specified key\n",
        "print(\"get(Pants):\",Outfits.get('Pants'))\n",
        "\n",
        "# keys\n",
        "# used to get keys\n",
        "print(\"keys:\",Outfits.keys())\n",
        "\n",
        "# values\n",
        "# used to get values\n",
        "print(\"values\",Outfits.values())\n",
        "\n",
        "# items\n",
        "# used to get both keys and values\n",
        "print(\"items\",Outfits.items())\n",
        "\n",
        "# update\n",
        "# used to add at last of items\n",
        "Outfits.update({'crow':1})\n",
        "print(\"update\",Outfits)\n",
        "\n",
        "# for loop\n",
        "print(\"the loop for dictionary\")\n",
        "for i in Outfits.items():\n",
        "    print(i)"
      ]
    }
  ]
}