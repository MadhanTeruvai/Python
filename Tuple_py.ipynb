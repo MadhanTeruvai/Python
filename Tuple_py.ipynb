{
  "nbformat": 4,
  "nbformat_minor": 0,
  "metadata": {
    "colab": {
      "provenance": [],
      "authorship_tag": "ABX9TyMqfiQ6Pj9zshmu48gP2ygH",
      "include_colab_link": true
    },
    "kernelspec": {
      "name": "python3",
      "display_name": "Python 3"
    },
    "language_info": {
      "name": "python"
    }
  },
  "cells": [
    {
      "cell_type": "markdown",
      "metadata": {
        "id": "view-in-github",
        "colab_type": "text"
      },
      "source": [
        "<a href=\"https://colab.research.google.com/github/MadhanTeruvai/Python/blob/main/Tuple_py.ipynb\" target=\"_parent\"><img src=\"https://colab.research.google.com/assets/colab-badge.svg\" alt=\"Open In Colab\"/></a>"
      ]
    },
    {
      "cell_type": "code",
      "execution_count": null,
      "metadata": {
        "id": "AjJmcB3-MEJx"
      },
      "outputs": [],
      "source": [
        "                # tuple\n",
        "a=(1, 3, 4, 9, 7, 3, 2, 6, 0, 1, 3)\n",
        "# count\n",
        "print(\"the count of the mentioned numbers are:\",a.count(3))\n",
        "\n",
        "# index\n",
        "print(\"the index of the mentioned numbers are:\",a.index(2))"
      ]
    }
  ]
}