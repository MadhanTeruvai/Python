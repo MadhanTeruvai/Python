{
  "nbformat": 4,
  "nbformat_minor": 0,
  "metadata": {
    "colab": {
      "provenance": [],
      "authorship_tag": "ABX9TyNtLtO3G6M5C3eeywRKafyH",
      "include_colab_link": true
    },
    "kernelspec": {
      "name": "python3",
      "display_name": "Python 3"
    },
    "language_info": {
      "name": "python"
    }
  },
  "cells": [
    {
      "cell_type": "markdown",
      "metadata": {
        "id": "view-in-github",
        "colab_type": "text"
      },
      "source": [
        "<a href=\"https://colab.research.google.com/github/MadhanTeruvai/Python/blob/main/Sets_03.ipynb\" target=\"_parent\"><img src=\"https://colab.research.google.com/assets/colab-badge.svg\" alt=\"Open In Colab\"/></a>"
      ]
    },
    {
      "cell_type": "code",
      "source": [
        "# The union operation by 2 sets\n",
        "list1 = {1, 2, 3, 4, 5}\n",
        "list2 = {4, 5, 6, 7, 8}\n",
        "print(list1.union(list2))\n",
        "\n",
        "# The Intersection Operation by 2 sets\n",
        "list1 = {1, 2, 3, 4, 5}\n",
        "list2 = {4, 5, 6, 7, 8}\n",
        "print(list1.intersection(list2))\n",
        "\n",
        "# The difference Operation by 2 sets (list1-list2)\n",
        "list1 = {1, 2, 3, 4, 5}\n",
        "list2 = {4, 5, 6, 7, 8}\n",
        "print(list1.difference(list2))\n",
        "\n",
        "# The difference Operation by 2 sets (list2-list2)\n",
        "list1 = {1, 2, 3, 4, 5}\n",
        "list2 = {4, 5, 6, 7, 8}\n",
        "print(list2.difference(list1))\n",
        "\n",
        "# The Superset Operation by 2 sets\n",
        "list1 = {1, 2, 3, 4, 5}\n",
        "list2 = {4, 5, 6, 7, 8}\n",
        "print(list1.issuperset(list2))\n",
        "\n",
        "# The Subset Operation by 2 sets\n",
        "list1 = {1, 2, 3, 4, 5}\n",
        "list2 = {4, 5, 6, 7, 8}\n",
        "print(list2.issubset(list1))"
      ],
      "metadata": {
        "colab": {
          "base_uri": "https://localhost:8080/"
        },
        "id": "8yhb9OZsBh-1",
        "outputId": "5ff51316-5196-4655-ac93-1877eee1dd02"
      },
      "execution_count": 13,
      "outputs": [
        {
          "output_type": "stream",
          "name": "stdout",
          "text": [
            "{1, 2, 3, 4, 5, 6, 7, 8}\n",
            "{4, 5}\n",
            "{1, 2, 3}\n",
            "{8, 6, 7}\n",
            "False\n",
            "False\n"
          ]
        }
      ]
    }
  ]
}