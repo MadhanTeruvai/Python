{
  "nbformat": 4,
  "nbformat_minor": 0,
  "metadata": {
    "colab": {
      "provenance": [],
      "authorship_tag": "ABX9TyP7i0cukl1CX4mtMDne/r6U",
      "include_colab_link": true
    },
    "kernelspec": {
      "name": "python3",
      "display_name": "Python 3"
    },
    "language_info": {
      "name": "python"
    }
  },
  "cells": [
    {
      "cell_type": "markdown",
      "metadata": {
        "id": "view-in-github",
        "colab_type": "text"
      },
      "source": [
        "<a href=\"https://colab.research.google.com/github/MadhanTeruvai/Python/blob/main/If%2C_Elif%2C_Else_2.ipynb\" target=\"_parent\"><img src=\"https://colab.research.google.com/assets/colab-badge.svg\" alt=\"Open In Colab\"/></a>"
      ]
    },
    {
      "cell_type": "code",
      "execution_count": 2,
      "metadata": {
        "colab": {
          "base_uri": "https://localhost:8080/"
        },
        "id": "FvFFV48rULkk",
        "outputId": "b71a4fae-bd43-47af-9268-3cf7f470f4c8"
      },
      "outputs": [
        {
          "output_type": "stream",
          "name": "stdout",
          "text": [
            "Odd\n",
            "Negative\n",
            "Eligible to vote\n",
            "Caution\n",
            "Between 50 and 100 (inclusive)\n"
          ]
        }
      ],
      "source": [
        "# 1. Even or Odd\n",
        "num = 77\n",
        "if num % 2 == 0:\n",
        "    print(\"Even\")\n",
        "else:\n",
        "    print(\"Odd\")\n",
        "\n",
        "\n",
        "# 2. Positive or Negative\n",
        "number = -1.8\n",
        "if number > 0:\n",
        "    print(\"Positive\")\n",
        "else:\n",
        "    print(\"Negative\")\n",
        "\n",
        "\n",
        "# 3. Voting Eligibility\n",
        "age = 20\n",
        "if age >= 18:\n",
        "    print(\"Eligible to vote\")\n",
        "else:\n",
        "    print(\"Not eligible to vote\")\n",
        "\n",
        "\n",
        "# 4. Traffic Light\n",
        "traffic_light = \"Yellow\"\n",
        "if traffic_light == \"Green\":\n",
        "    print(\"Go\")\n",
        "elif traffic_light == \"Yellow\":\n",
        "    print(\"Caution\")\n",
        "elif traffic_light == \"Red\":\n",
        "    print(\"Stop\")\n",
        "else:\n",
        "    print(\"Invalid color\")\n",
        "\n",
        "\n",
        "# 5. Number Range\n",
        "value = 65\n",
        "if value > 100:\n",
        "    print(\"Greater than 100\")\n",
        "elif 50 <= value <= 100:\n",
        "    print(\"Between 50 and 100 (inclusive)\")\n",
        "elif 0 <= value <= 49:\n",
        "    print(\"Between 0 and 49 (inclusive)\")\n",
        "else:\n",
        "    print(\"Less than 0\")"
      ]
    },
    {
      "cell_type": "code",
      "source": [],
      "metadata": {
        "id": "agxhEc4pWcEn"
      },
      "execution_count": null,
      "outputs": []
    }
  ]
}