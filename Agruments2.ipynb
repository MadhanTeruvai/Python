{
  "nbformat": 4,
  "nbformat_minor": 0,
  "metadata": {
    "colab": {
      "provenance": [],
      "authorship_tag": "ABX9TyMiyYyXkC7J1uG8vwuAi6Ju",
      "include_colab_link": true
    },
    "kernelspec": {
      "name": "python3",
      "display_name": "Python 3"
    },
    "language_info": {
      "name": "python"
    }
  },
  "cells": [
    {
      "cell_type": "markdown",
      "metadata": {
        "id": "view-in-github",
        "colab_type": "text"
      },
      "source": [
        "<a href=\"https://colab.research.google.com/github/MadhanTeruvai/Python/blob/main/Agruments2.ipynb\" target=\"_parent\"><img src=\"https://colab.research.google.com/assets/colab-badge.svg\" alt=\"Open In Colab\"/></a>"
      ]
    },
    {
      "cell_type": "markdown",
      "source": [
        "#Positional Arugment"
      ],
      "metadata": {
        "id": "gX4wdkCrqXV-"
      }
    },
    {
      "cell_type": "code",
      "execution_count": 15,
      "metadata": {
        "colab": {
          "base_uri": "https://localhost:8080/"
        },
        "id": "gTUIl1DUqSvS",
        "outputId": "6d4f9813-139e-4618-b3d4-c5fa7583471f"
      },
      "outputs": [
        {
          "output_type": "stream",
          "name": "stdout",
          "text": [
            "enter the 'a' value=9\n",
            "enter the 'b' value=15\n",
            "addition for the given values is 24\n",
            "subtraction for the given values is -6\n",
            "multiplication for the given values is 135\n",
            "division for the given values is 0.6\n",
            "power for the given values is 205891132094649\n"
          ]
        }
      ],
      "source": [
        "def h(a ,b):\n",
        "    z = a+b\n",
        "    y = a-b\n",
        "    x = a*b\n",
        "    k = a/b\n",
        "    j = a**b\n",
        "    print(f\"addition for the given values is {z}\")\n",
        "    print(f\"subtraction for the given values is {y}\")\n",
        "    print(f\"multiplication for the given values is {x}\")\n",
        "    print(f\"division for the given values is {k}\")\n",
        "    print(f\"power for the given values is {j}\")\n",
        "\n",
        "h(int(input(\"enter the 'a' value=\")),int(input(\"enter the 'b' value=\")))"
      ]
    },
    {
      "cell_type": "markdown",
      "source": [
        "#Default Arugment"
      ],
      "metadata": {
        "id": "S8t_J6ybv1JM"
      }
    },
    {
      "cell_type": "code",
      "source": [
        "def rank(name,percentage,rank=\"1st\"):\n",
        "    print(f\"{name} got {rank} rank with an percentage of {percentage}\")\n",
        "\n",
        "rank(name=\"Madhan\",percentage=95)"
      ],
      "metadata": {
        "colab": {
          "base_uri": "https://localhost:8080/"
        },
        "id": "RtskMfJEv7tN",
        "outputId": "955037ae-2a91-4aab-8c0f-00fac6ad7773"
      },
      "execution_count": 22,
      "outputs": [
        {
          "output_type": "stream",
          "name": "stdout",
          "text": [
            "Madhan got 1st rank with an percentage of 95\n"
          ]
        }
      ]
    },
    {
      "cell_type": "markdown",
      "source": [
        "#Keyword Arugment"
      ],
      "metadata": {
        "id": "lM47zW4gxQg9"
      }
    },
    {
      "cell_type": "code",
      "source": [
        "def video(tittle,platform,):\n",
        "    print(f\"Tittle of the Video is {tittle} which is available in {platform}\")\n",
        "\n",
        "video(tittle=\"Python\",platform=\"Youtube\")"
      ],
      "metadata": {
        "colab": {
          "base_uri": "https://localhost:8080/"
        },
        "id": "Gn6v7Hy6xWT5",
        "outputId": "4a83ea2e-251f-4ff1-8ea9-e7e088dfe393"
      },
      "execution_count": 25,
      "outputs": [
        {
          "output_type": "stream",
          "name": "stdout",
          "text": [
            "Tittle of the Video is Python which is available in Youtube\n"
          ]
        }
      ]
    },
    {
      "cell_type": "markdown",
      "source": [
        "#length Arugment"
      ],
      "metadata": {
        "id": "VLLeyb5cyiqi"
      }
    },
    {
      "cell_type": "code",
      "source": [
        "def unlimited(*x):\n",
        "    for i in x:\n",
        "        print(i)\n",
        "    print()\n",
        "    for j in x:\n",
        "        print(j+j)\n",
        "    print()\n",
        "    a = sum(x)\n",
        "    print(a)\n",
        "\n",
        "unlimited(2,3,6,5,9,8,2,1,0)"
      ],
      "metadata": {
        "colab": {
          "base_uri": "https://localhost:8080/"
        },
        "id": "BQUixI_2yn4O",
        "outputId": "367a99b3-9469-4b2f-8dca-0d16d7c900d4"
      },
      "execution_count": 35,
      "outputs": [
        {
          "output_type": "stream",
          "name": "stdout",
          "text": [
            "2\n",
            "3\n",
            "6\n",
            "5\n",
            "9\n",
            "8\n",
            "2\n",
            "1\n",
            "0\n",
            "\n",
            "4\n",
            "6\n",
            "12\n",
            "10\n",
            "18\n",
            "16\n",
            "4\n",
            "2\n",
            "0\n",
            "\n",
            "36\n"
          ]
        }
      ]
    },
    {
      "cell_type": "markdown",
      "source": [
        "#keyword Arugment"
      ],
      "metadata": {
        "id": "IvTyYSAq0PLK"
      }
    },
    {
      "cell_type": "code",
      "source": [
        "def key(**x):\n",
        "    for i in x:\n",
        "        print(x)\n",
        "\n",
        "key(a=1,b=2,c=3,d=4,e=5)"
      ],
      "metadata": {
        "colab": {
          "base_uri": "https://localhost:8080/"
        },
        "id": "KC8jNr110d3L",
        "outputId": "c5020ae0-b530-4abe-ed25-2841e2ba5c57"
      },
      "execution_count": 44,
      "outputs": [
        {
          "output_type": "stream",
          "name": "stdout",
          "text": [
            "{'a': 1, 'b': 2, 'c': 3, 'd': 4, 'e': 5}\n",
            "{'a': 1, 'b': 2, 'c': 3, 'd': 4, 'e': 5}\n",
            "{'a': 1, 'b': 2, 'c': 3, 'd': 4, 'e': 5}\n",
            "{'a': 1, 'b': 2, 'c': 3, 'd': 4, 'e': 5}\n",
            "{'a': 1, 'b': 2, 'c': 3, 'd': 4, 'e': 5}\n"
          ]
        }
      ]
    }
  ]
}