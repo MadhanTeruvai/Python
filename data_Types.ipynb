{
  "nbformat": 4,
  "nbformat_minor": 0,
  "metadata": {
    "colab": {
      "provenance": [],
      "toc_visible": true,
      "authorship_tag": "ABX9TyP6usvth1jzI2FUFad8J9Cu",
      "include_colab_link": true
    },
    "kernelspec": {
      "name": "python3",
      "display_name": "Python 3"
    },
    "language_info": {
      "name": "python"
    }
  },
  "cells": [
    {
      "cell_type": "markdown",
      "metadata": {
        "id": "view-in-github",
        "colab_type": "text"
      },
      "source": [
        "<a href=\"https://colab.research.google.com/github/MadhanTeruvai/Python/blob/main/data_Types.ipynb\" target=\"_parent\"><img src=\"https://colab.research.google.com/assets/colab-badge.svg\" alt=\"Open In Colab\"/></a>"
      ]
    },
    {
      "cell_type": "code",
      "execution_count": null,
      "metadata": {
        "colab": {
          "base_uri": "https://localhost:8080/"
        },
        "id": "tCULzjKcSg3A",
        "outputId": "7f4bc7bc-3031-4530-fa52-3530fb1b699d"
      },
      "outputs": [
        {
          "output_type": "stream",
          "name": "stdout",
          "text": [
            "<class 'int'>\n",
            "<class 'float'>\n",
            "<class 'bool'>\n",
            "<class 'complex'>\n",
            "<class 'str'>\n",
            "19.0\n",
            "14\n",
            "1 0\n"
          ]
        }
      ],
      "source": [
        "# to find the type of data\n",
        "\n",
        "# int\n",
        "a=10\n",
        "print(type(a))\n",
        "\n",
        "# float\n",
        "b=10.6\n",
        "print(type(b))\n",
        "\n",
        "# boolean\n",
        "c=True\n",
        "print(type(c))\n",
        "\n",
        "# complex\n",
        "d=2+5j\n",
        "print(type(d))\n",
        "\n",
        "# string\n",
        "e=\"thats_good\"\n",
        "print(type(e))\n",
        "\n",
        "\n",
        "# For type conversion\n",
        "a=19\n",
        "print(float(a)) # int to float\n",
        "\n",
        "b=14.3\n",
        "print(int(b)) # float to int\n",
        "\n",
        "c=True\n",
        "d=False\n",
        "print(int(c),int(d))"
      ]
    }
  ]
}