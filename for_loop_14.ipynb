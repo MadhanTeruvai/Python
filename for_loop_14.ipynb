{
  "nbformat": 4,
  "nbformat_minor": 0,
  "metadata": {
    "colab": {
      "provenance": [],
      "authorship_tag": "ABX9TyPS+0ijl9mlBctGBrSOW0nV",
      "include_colab_link": true
    },
    "kernelspec": {
      "name": "python3",
      "display_name": "Python 3"
    },
    "language_info": {
      "name": "python"
    }
  },
  "cells": [
    {
      "cell_type": "markdown",
      "metadata": {
        "id": "view-in-github",
        "colab_type": "text"
      },
      "source": [
        "<a href=\"https://colab.research.google.com/github/MadhanTeruvai/Python/blob/main/for_loop_14.ipynb\" target=\"_parent\"><img src=\"https://colab.research.google.com/assets/colab-badge.svg\" alt=\"Open In Colab\"/></a>"
      ]
    },
    {
      "cell_type": "code",
      "execution_count": 17,
      "metadata": {
        "colab": {
          "base_uri": "https://localhost:8080/"
        },
        "id": "3my-a8ph0Itt",
        "outputId": "f5f67d1a-15bd-43aa-842b-ebdc953a38f1"
      },
      "outputs": [
        {
          "output_type": "stream",
          "name": "stdout",
          "text": [
            "to find the Prime Number\n",
            "enter the number: 23\n",
            "It is an Prime Number\n",
            "\n",
            "To find the even number\n",
            "enter the number: 28\n",
            "It is an Even Number\n",
            "\n",
            "To find the natural numbers between entered value\n",
            "enter the first value: 20\n",
            "enter the second value: 35\n",
            "The values between 20 to 35 are: \n",
            "20\n",
            "21\n",
            "22\n",
            "23\n",
            "24\n",
            "25\n",
            "26\n",
            "27\n",
            "28\n",
            "29\n",
            "30\n",
            "31\n",
            "32\n",
            "33\n",
            "34\n"
          ]
        }
      ],
      "source": [
        "print(\"to find the Prime Number\")\n",
        "num=int(input(\"enter the number: \"))\n",
        "for i in range(2,num):\n",
        "    if (num%i==0):\n",
        "        print(\"not a Prime Number\")\n",
        "        break\n",
        "    else:\n",
        "        print(\"It is an Prime Number\")\n",
        "        break\n",
        "\n",
        "print()\n",
        "print(\"To find the even number\")\n",
        "num=int(input(\"enter the number: \"))\n",
        "for i in range(2,3):\n",
        "    if (num%2==0):\n",
        "        print(\"It is an Even Number\")\n",
        "        break\n",
        "    else:\n",
        "        print(\"It is an Odd Number\")\n",
        "        break\n",
        "\n",
        "print()\n",
        "print(\"To find the natural numbers between entered value\")\n",
        "a=int(input(\"enter the first value: \"))\n",
        "b=int(input(\"enter the second value: \"))\n",
        "print(f\"The values between {a} to {b} are: \")\n",
        "for i in range(a,b,1):\n",
        "    print(i)"
      ]
    }
  ]
}