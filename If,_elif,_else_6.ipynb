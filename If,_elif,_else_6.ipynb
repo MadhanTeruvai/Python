{
  "nbformat": 4,
  "nbformat_minor": 0,
  "metadata": {
    "colab": {
      "provenance": [],
      "authorship_tag": "ABX9TyN0UB5yrOOkWfOCskJukQi/",
      "include_colab_link": true
    },
    "kernelspec": {
      "name": "python3",
      "display_name": "Python 3"
    },
    "language_info": {
      "name": "python"
    }
  },
  "cells": [
    {
      "cell_type": "markdown",
      "metadata": {
        "id": "view-in-github",
        "colab_type": "text"
      },
      "source": [
        "<a href=\"https://colab.research.google.com/github/MadhanTeruvai/Python/blob/main/If%2C_elif%2C_else_6.ipynb\" target=\"_parent\"><img src=\"https://colab.research.google.com/assets/colab-badge.svg\" alt=\"Open In Colab\"/></a>"
      ]
    },
    {
      "cell_type": "code",
      "execution_count": 11,
      "metadata": {
        "id": "LxYsCYOZKrQ-",
        "colab": {
          "base_uri": "https://localhost:8080/"
        },
        "outputId": "d1d505c9-a4c8-4419-ec1f-1b773e28f379"
      },
      "outputs": [
        {
          "output_type": "stream",
          "name": "stdout",
          "text": [
            "Enter the Number5\n",
            "The Number is between 10 to 0\n"
          ]
        }
      ],
      "source": [
        "# if, elif, else\n",
        "A=int(input(\"Enter the Number\"))\n",
        "if A==100 and A>90:\n",
        "   print(\"The Number is between 100 to 90\")\n",
        "elif A==90 and A>80:\n",
        "   print(\"The Number is between 90 to 80\")\n",
        "elif A==80 and A>70:\n",
        "   print(\"The Number is between 80 to 70\")\n",
        "elif A==70 and A>60:\n",
        "   print(\"The Number is between 70 to 60\")\n",
        "elif A==60 and A>50:\n",
        "   print(\"The Number is between 60 to 50\")\n",
        "elif A==50 and A>40:\n",
        "   print(\"The Number is between 50 to 40\")\n",
        "elif A==40 and A>30:\n",
        "   print(\"The Number is between 40 to 30\")\n",
        "elif A==30 and A>20:\n",
        "   print(\"The Number is between 30 to 20\")\n",
        "elif A==20 and A>10:\n",
        "   print(\"The Number is between 20 to 10\")\n",
        "else:\n",
        "   print(\"The Number is between 10 to 0\")"
      ]
    }
  ]
}