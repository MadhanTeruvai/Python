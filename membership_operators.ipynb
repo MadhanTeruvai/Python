{
  "nbformat": 4,
  "nbformat_minor": 0,
  "metadata": {
    "colab": {
      "provenance": [],
      "authorship_tag": "ABX9TyO3CVDqdH3O1nchjRcnngLH",
      "include_colab_link": true
    },
    "kernelspec": {
      "name": "python3",
      "display_name": "Python 3"
    },
    "language_info": {
      "name": "python"
    }
  },
  "cells": [
    {
      "cell_type": "markdown",
      "metadata": {
        "id": "view-in-github",
        "colab_type": "text"
      },
      "source": [
        "<a href=\"https://colab.research.google.com/github/MadhanTeruvai/Python/blob/main/membership_operators.ipynb\" target=\"_parent\"><img src=\"https://colab.research.google.com/assets/colab-badge.svg\" alt=\"Open In Colab\"/></a>"
      ]
    },
    {
      "cell_type": "markdown",
      "source": [
        "**Membership Operators**"
      ],
      "metadata": {
        "id": "88UF0F1aNydx"
      }
    },
    {
      "cell_type": "code",
      "execution_count": 4,
      "metadata": {
        "id": "tIkXvRHJSKwL",
        "colab": {
          "base_uri": "https://localhost:8080/"
        },
        "outputId": "a0cafbfd-4142-43f0-ea60-fc6f9ea705b4"
      },
      "outputs": [
        {
          "name": "stdout",
          "output_type": "stream",
          "text": [
            "Enter the value=12\n"
          ]
        }
      ],
      "source": [
        "a = int(input(\"Enter the value=\"))\n",
        "b = 56\n",
        "list2=[12, 23, 34, 45, 56, 67, 78, 89]"
      ]
    },
    {
      "cell_type": "markdown",
      "source": [
        "not in"
      ],
      "metadata": {
        "id": "vAkYGMnSN-M0"
      }
    },
    {
      "cell_type": "code",
      "source": [
        "if a not in list2:\n",
        "    print(\"the value is not present\")\n",
        "else:\n",
        "    print(\"the value is present\")"
      ],
      "metadata": {
        "colab": {
          "base_uri": "https://localhost:8080/"
        },
        "id": "QXKlNkxXNqUV",
        "outputId": "85d55d0e-6da1-4d3f-d653-dcfdfa332357"
      },
      "execution_count": 5,
      "outputs": [
        {
          "output_type": "stream",
          "name": "stdout",
          "text": [
            "the value is present\n"
          ]
        }
      ]
    },
    {
      "cell_type": "markdown",
      "source": [
        "in"
      ],
      "metadata": {
        "id": "d1viEofrOIqN"
      }
    },
    {
      "cell_type": "code",
      "source": [
        "if a in list2:\n",
        "    print(\"the value is not present\")\n",
        "else:\n",
        "    print(\"the value is present\")"
      ],
      "metadata": {
        "colab": {
          "base_uri": "https://localhost:8080/"
        },
        "id": "iS29JTZ9Nuko",
        "outputId": "6117e26f-9464-4024-a64f-2a09076ca44a"
      },
      "execution_count": 6,
      "outputs": [
        {
          "output_type": "stream",
          "name": "stdout",
          "text": [
            "the value is not present\n"
          ]
        }
      ]
    }
  ]
}