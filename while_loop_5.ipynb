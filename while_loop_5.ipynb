{
  "nbformat": 4,
  "nbformat_minor": 0,
  "metadata": {
    "colab": {
      "provenance": [],
      "authorship_tag": "ABX9TyN3dS44dXIKTP2f8KqXI1c/",
      "include_colab_link": true
    },
    "kernelspec": {
      "name": "python3",
      "display_name": "Python 3"
    },
    "language_info": {
      "name": "python"
    }
  },
  "cells": [
    {
      "cell_type": "markdown",
      "metadata": {
        "id": "view-in-github",
        "colab_type": "text"
      },
      "source": [
        "<a href=\"https://colab.research.google.com/github/MadhanTeruvai/Python/blob/main/while_loop_5.ipynb\" target=\"_parent\"><img src=\"https://colab.research.google.com/assets/colab-badge.svg\" alt=\"Open In Colab\"/></a>"
      ]
    },
    {
      "cell_type": "code",
      "execution_count": 5,
      "metadata": {
        "colab": {
          "base_uri": "https://localhost:8080/"
        },
        "id": "MvqqnfJ7QV6g",
        "outputId": "8f57f29a-484e-46ab-fef0-0781c067fe40"
      },
      "outputs": [
        {
          "output_type": "stream",
          "name": "stdout",
          "text": [
            "\n",
            "enter the integer values between 50 to 30: 40\n",
            "the numbers from 30 to 50 with multiplication of 5=\n",
            "200\n",
            "\n",
            "enter the integer values between 50 to 30: 45\n",
            "the numbers from 30 to 50 with square=\n",
            "2025\n"
          ]
        }
      ],
      "source": [
        "# difference between before print and after print\n",
        "# a=int(input(\"\\nenter the integer values between 50 to 30: \"))\n",
        "# print(\"the numbers from 30 to 50 with skip=\")\n",
        "# while a<=50 and a>=20:\n",
        "#     print(a)\n",
        "#     a+=2\n",
        "\n",
        "# a=int(input(\"\\nenter the integer values between 50 to 30: \"))\n",
        "# print(\"the numbers from 30 to 50 with skip=\")\n",
        "# while a<=50 and a>=20:\n",
        "#     a+=2\n",
        "#     print(a)\n",
        "\n",
        "# difference between before print and after print\n",
        "a=int(input(\"\\nenter the integer values between 50 to 30: \"))\n",
        "print(\"the numbers from 30 to 50 with multiplication of 5=\")\n",
        "while a<=50 and a>=20:\n",
        "    a*=5\n",
        "    print(a)\n",
        "\n",
        "a=int(input(\"\\nenter the integer values between 50 to 30: \"))\n",
        "print(\"the numbers from 30 to 50 with square=\")\n",
        "while a<=50 and a>=20:\n",
        "    a**=2\n",
        "    print(a)"
      ]
    }
  ]
}