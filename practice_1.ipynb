{
  "nbformat": 4,
  "nbformat_minor": 0,
  "metadata": {
    "colab": {
      "provenance": [],
      "authorship_tag": "ABX9TyOZa+7s/KxoVxASCiSOuMAY",
      "include_colab_link": true
    },
    "kernelspec": {
      "name": "python3",
      "display_name": "Python 3"
    },
    "language_info": {
      "name": "python"
    }
  },
  "cells": [
    {
      "cell_type": "markdown",
      "metadata": {
        "id": "view-in-github",
        "colab_type": "text"
      },
      "source": [
        "<a href=\"https://colab.research.google.com/github/MadhanTeruvai/Python/blob/main/practice_1.ipynb\" target=\"_parent\"><img src=\"https://colab.research.google.com/assets/colab-badge.svg\" alt=\"Open In Colab\"/></a>"
      ]
    },
    {
      "cell_type": "code",
      "execution_count": 2,
      "metadata": {
        "colab": {
          "base_uri": "https://localhost:8080/"
        },
        "id": "6ngy3K9AFzWF",
        "outputId": "29c183f4-ee6f-4e1a-ff7c-dba30bb266b6"
      },
      "outputs": [
        {
          "output_type": "stream",
          "name": "stdout",
          "text": [
            "enter the first number26\n",
            "enter the second number56\n",
            "the total sum of mentioned inputs are 82\n",
            "enter the first number5\n",
            "enter the second number10\n",
            "the reminder of mentioned inputs are 0.5\n",
            "<class 'int'>\n",
            "<class 'float'>\n",
            "<class 'str'>\n",
            "<class 'NoneType'>\n",
            "<class 'bool'>\n",
            "False\n",
            "True\n",
            "False\n",
            "True\n",
            "the average of two numbers that are considered is: 77.0\n",
            "enter the value to find out the square of a number5\n",
            "25\n"
          ]
        }
      ],
      "source": [
        "# 1. program to add 2 numbers\n",
        "a=int(input(\"enter the first number\"))\n",
        "b=int(input(\"enter the second number\"))\n",
        "print('the total sum of mentioned inputs are',a+b)\n",
        "\n",
        "# 2. program to make division\n",
        "a=int(input(\"enter the first number\"))\n",
        "b=int(input(\"enter the second number\"))\n",
        "print('the reminder of mentioned inputs are',a/b)\n",
        "\n",
        "# 3. find the datatype\n",
        "c=67\n",
        "d=6.87\n",
        "e=\"good\"\n",
        "f=None\n",
        "g=True\n",
        "print(type(c))\n",
        "print(type(d))\n",
        "print(type(e))\n",
        "print(type(f))\n",
        "print(type(g))\n",
        "\n",
        "# 4. use comparison operators to find out variable a is greater than b or not take a=56 and b=70\n",
        "a=56\n",
        "b=70\n",
        "print(a>=b)\n",
        "print(a<=b)\n",
        "print(a==b)\n",
        "print(a!=b)\n",
        "\n",
        "# 5. to find the average of two numbers\n",
        "a=56\n",
        "b=98\n",
        "c=a+b\n",
        "print(\"the average of two numbers that are considered is:\",c/2)\n",
        "\n",
        "# 6. To find a square of a number\n",
        "j=int(input(\"enter the value to find out the square of a number\"))\n",
        "print(j**2)"
      ]
    }
  ]
}