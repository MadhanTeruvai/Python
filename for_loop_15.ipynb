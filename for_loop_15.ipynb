{
  "nbformat": 4,
  "nbformat_minor": 0,
  "metadata": {
    "colab": {
      "provenance": [],
      "authorship_tag": "ABX9TyNGF9MRbAVp5wDuVC5BdZkD",
      "include_colab_link": true
    },
    "kernelspec": {
      "name": "python3",
      "display_name": "Python 3"
    },
    "language_info": {
      "name": "python"
    }
  },
  "cells": [
    {
      "cell_type": "markdown",
      "metadata": {
        "id": "view-in-github",
        "colab_type": "text"
      },
      "source": [
        "<a href=\"https://colab.research.google.com/github/MadhanTeruvai/Python/blob/main/for_loop_15.ipynb\" target=\"_parent\"><img src=\"https://colab.research.google.com/assets/colab-badge.svg\" alt=\"Open In Colab\"/></a>"
      ]
    },
    {
      "cell_type": "code",
      "execution_count": 38,
      "metadata": {
        "colab": {
          "base_uri": "https://localhost:8080/"
        },
        "id": "6ROp_XgC5C96",
        "outputId": "c66e1fc8-35ff-422f-dd7f-0ff120842991"
      },
      "outputs": [
        {
          "output_type": "stream",
          "name": "stdout",
          "text": [
            "creating hallow square\n",
            "enter the value: 20\n",
            "# # # # # # # # # # # # # # # # # # # # \n",
            "#                                     # \n",
            "#                                     # \n",
            "#                                     # \n",
            "#                                     # \n",
            "#                                     # \n",
            "#                                     # \n",
            "#                                     # \n",
            "#                                     # \n",
            "#                                     # \n",
            "#                                     # \n",
            "#                                     # \n",
            "#                                     # \n",
            "#                                     # \n",
            "#                                     # \n",
            "#                                     # \n",
            "#                                     # \n",
            "#                                     # \n",
            "#                                     # \n",
            "# # # # # # # # # # # # # # # # # # # # \n",
            "\n",
            "enter the row value: 30\n",
            "enter the column value: 20\n",
            "@ @ @ @ @ @ @ @ @ @ @ @ @ @ @ @ @ @ @ @ @ @ @ @ @ @ @ @ @ @ \n",
            "@                                                         @ \n",
            "@                                                         @ \n",
            "@                                                         @ \n",
            "@                                                         @ \n",
            "@                                                         @ \n",
            "@                                                         @ \n",
            "@                                                         @ \n",
            "@                                                         @ \n",
            "@                                                         @ \n",
            "@                                                         @ \n",
            "@                                                         @ \n",
            "@                                                         @ \n",
            "@                                                         @ \n",
            "@                                                         @ \n",
            "@                                                         @ \n",
            "@                                                         @ \n",
            "@                                                         @ \n",
            "@                                                         @ \n",
            "@ @ @ @ @ @ @ @ @ @ @ @ @ @ @ @ @ @ @ @ @ @ @ @ @ @ @ @ @ @ \n"
          ]
        }
      ],
      "source": [
        "print(\"creating hallow square\")\n",
        "n=int(input(\"enter the value: \"))\n",
        "for i in range(n):\n",
        "    for j in range(n):\n",
        "        if (j==0 or i==0 or j==n-1 or i==n-1):\n",
        "            print(\"# \",end=\"\")\n",
        "        else:\n",
        "            print(\"  \",end=\"\")\n",
        "    print()\n",
        "print()\n",
        "\n",
        "z=int(input(\"enter the row value: \"))\n",
        "y=int(input(\"enter the column value: \"))\n",
        "for i in range(y):\n",
        "    for j in range(z):\n",
        "        if (i==0 or j==0 or i==y-1 or j==z-1):\n",
        "            print(\"@ \",end=\"\")\n",
        "        else:\n",
        "            print(\"  \",end=\"\")\n",
        "    print()"
      ]
    }
  ]
}