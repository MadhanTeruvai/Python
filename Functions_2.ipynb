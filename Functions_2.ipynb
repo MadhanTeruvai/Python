{
  "nbformat": 4,
  "nbformat_minor": 0,
  "metadata": {
    "colab": {
      "provenance": [],
      "authorship_tag": "ABX9TyO7qbOEdTo6AwhxQKUxsKPx",
      "include_colab_link": true
    },
    "kernelspec": {
      "name": "python3",
      "display_name": "Python 3"
    },
    "language_info": {
      "name": "python"
    }
  },
  "cells": [
    {
      "cell_type": "markdown",
      "metadata": {
        "id": "view-in-github",
        "colab_type": "text"
      },
      "source": [
        "<a href=\"https://colab.research.google.com/github/MadhanTeruvai/Python/blob/main/Functions_2.ipynb\" target=\"_parent\"><img src=\"https://colab.research.google.com/assets/colab-badge.svg\" alt=\"Open In Colab\"/></a>"
      ]
    },
    {
      "cell_type": "code",
      "execution_count": 18,
      "metadata": {
        "id": "5PViQK6vZ7kl",
        "colab": {
          "base_uri": "https://localhost:8080/"
        },
        "outputId": "afd35bd9-a820-4e38-a72d-6d79bcfc0f53"
      },
      "outputs": [
        {
          "output_type": "stream",
          "name": "stdout",
          "text": [
            "user defined functions\n",
            "6.0\n",
            "\n",
            "enter the value of a: 15\n",
            "enter the value of b: 12\n",
            "enter the value of c: 35\n",
            "20.666666666666668\n",
            "\n",
            "sum of the values\n",
            "62\n",
            "\n",
            "multiplication of the input values\n",
            "6300\n"
          ]
        }
      ],
      "source": [
        "print(\"user defined functions\")\n",
        "def average(a, b, c):\n",
        "   return (a+b+c)/3\n",
        "avg= average(2,5,11)\n",
        "print(avg)\n",
        "print()\n",
        "\n",
        "a=int(input(\"enter the value of a: \"))\n",
        "b=int(input(\"enter the value of b: \"))\n",
        "c=int(input(\"enter the value of c: \"))\n",
        "avg =average(a, b, c)\n",
        "print(avg)\n",
        "print()\n",
        "\n",
        "print(\"sum of the values\")\n",
        "def sum(a,b,c):\n",
        "   return (a+b+c)\n",
        "Add=sum(a,b,c)\n",
        "print(Add)\n",
        "print()\n",
        "\n",
        "print(\"multiplication of the input values\")\n",
        "def multiplication(a,b,c):\n",
        "   return(a*b*c)\n",
        "multi=multiplication(a,b,c)\n",
        "print(multi)"
      ]
    }
  ]
}