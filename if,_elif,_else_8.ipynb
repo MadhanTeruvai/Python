{
  "nbformat": 4,
  "nbformat_minor": 0,
  "metadata": {
    "colab": {
      "provenance": [],
      "authorship_tag": "ABX9TyORxVABrvrKGLutqBBVEI4L",
      "include_colab_link": true
    },
    "kernelspec": {
      "name": "python3",
      "display_name": "Python 3"
    },
    "language_info": {
      "name": "python"
    }
  },
  "cells": [
    {
      "cell_type": "markdown",
      "metadata": {
        "id": "view-in-github",
        "colab_type": "text"
      },
      "source": [
        "<a href=\"https://colab.research.google.com/github/MadhanTeruvai/Python/blob/main/if%2C_elif%2C_else_8.ipynb\" target=\"_parent\"><img src=\"https://colab.research.google.com/assets/colab-badge.svg\" alt=\"Open In Colab\"/></a>"
      ]
    },
    {
      "cell_type": "code",
      "execution_count": 7,
      "metadata": {
        "colab": {
          "base_uri": "https://localhost:8080/"
        },
        "id": "kkTYFBhx-OER",
        "outputId": "13302dac-f531-416e-9fed-97c1fe54fddd"
      },
      "outputs": [
        {
          "output_type": "stream",
          "name": "stdout",
          "text": [
            "To check the eligibility to apply for pancard\n",
            "enter the age of the person: 15\n",
            "you can't apply for pancard\n",
            "\n",
            "To check the eligibility to apply for driving license\n",
            "enter the age of the person: 19\n",
            "you can apply for driving license\n",
            "\n",
            "To check the eligibility to apply for voter card\n",
            "enter the age of the person: 23\n",
            "you can apply for voter card\n"
          ]
        }
      ],
      "source": [
        "# if, elif, else\n",
        "print(\"To check the eligibility to apply for pancard\")\n",
        "age=int(input(\"enter the age of the person: \"))\n",
        "if age<18:\n",
        "    print(\"you can't apply for pancard\")\n",
        "elif age>=18:\n",
        "    print(\"you can apply for pancard\")\n",
        "else:\n",
        "    print(\"enter the vaild age for pancard\")\n",
        "\n",
        "print(\"\\nTo check the eligibility to apply for driving license\")\n",
        "age=int(input(\"enter the age of the person: \"))\n",
        "if age<18:\n",
        "    print(\"you can't apply for driving license\")\n",
        "elif age>=18:\n",
        "    print(\"you can apply for driving license\")\n",
        "else:\n",
        "    print(\"enter the vaild age for driving license\")\n",
        "\n",
        "print(\"\\nTo check the eligibility to apply for voter card\")\n",
        "age=int(input(\"enter the age of the person: \"))\n",
        "if age<18:\n",
        "    print(\"you can't apply for voter card\")\n",
        "elif age>=18:\n",
        "    print(\"you can apply for voter card\")\n",
        "else:\n",
        "    print(\"enter the vaild age for voter card\")"
      ]
    },
    {
      "cell_type": "code",
      "source": [],
      "metadata": {
        "id": "F6aimIB1BUwS"
      },
      "execution_count": null,
      "outputs": []
    }
  ]
}