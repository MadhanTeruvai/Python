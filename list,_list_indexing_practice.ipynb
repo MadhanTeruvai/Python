{
  "nbformat": 4,
  "nbformat_minor": 0,
  "metadata": {
    "colab": {
      "provenance": [],
      "authorship_tag": "ABX9TyPfLa0VZD/Ty5q7Y0ormlbs",
      "include_colab_link": true
    },
    "kernelspec": {
      "name": "python3",
      "display_name": "Python 3"
    },
    "language_info": {
      "name": "python"
    }
  },
  "cells": [
    {
      "cell_type": "markdown",
      "metadata": {
        "id": "view-in-github",
        "colab_type": "text"
      },
      "source": [
        "<a href=\"https://colab.research.google.com/github/MadhanTeruvai/Python/blob/main/list%2C_list_indexing_practice.ipynb\" target=\"_parent\"><img src=\"https://colab.research.google.com/assets/colab-badge.svg\" alt=\"Open In Colab\"/></a>"
      ]
    },
    {
      "cell_type": "code",
      "execution_count": 1,
      "metadata": {
        "colab": {
          "base_uri": "https://localhost:8080/"
        },
        "id": "udSzKWrrYWO8",
        "outputId": "3333c9de-4c84-438e-8d51-30f30e6d9df6"
      },
      "outputs": [
        {
          "output_type": "stream",
          "name": "stdout",
          "text": [
            "['apple', 2, 'cricket', 'decimal']\n",
            "<class 'list'>\n",
            "[32, 'best', 'black currant']\n",
            "black currant\n",
            "65\n",
            "32\n",
            "enter the list to display \n",
            "(0,1,2,3):2\n",
            "black currant\n"
          ]
        }
      ],
      "source": [
        "# an example for list command\n",
        "a=\"apple\"\n",
        "b=2\n",
        "c=\"cricket\"\n",
        "d=\"decimal\"\n",
        "\n",
        "all=[a,b,c,d]\n",
        "print(all)\n",
        "print(type(all))\n",
        "\n",
        "# list indexing\n",
        "my_list=[32,\"Best\",\"Black Currant\",65]\n",
        "print(my_list[0:3])\n",
        "print(my_list[2])\n",
        "print(my_list[3])\n",
        "print(my_list[0])\n",
        "print(my_list[int(input(\"enter the list to display \\n(0,1,2,3):\"))])"
      ]
    }
  ]
}