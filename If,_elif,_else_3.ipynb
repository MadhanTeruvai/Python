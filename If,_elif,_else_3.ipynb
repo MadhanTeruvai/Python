{
  "nbformat": 4,
  "nbformat_minor": 0,
  "metadata": {
    "colab": {
      "provenance": [],
      "authorship_tag": "ABX9TyOJn9wo0sg0UD+g7hBz7VX5",
      "include_colab_link": true
    },
    "kernelspec": {
      "name": "python3",
      "display_name": "Python 3"
    },
    "language_info": {
      "name": "python"
    }
  },
  "cells": [
    {
      "cell_type": "markdown",
      "metadata": {
        "id": "view-in-github",
        "colab_type": "text"
      },
      "source": [
        "<a href=\"https://colab.research.google.com/github/MadhanTeruvai/Python/blob/main/If%2C_elif%2C_else_3.ipynb\" target=\"_parent\"><img src=\"https://colab.research.google.com/assets/colab-badge.svg\" alt=\"Open In Colab\"/></a>"
      ]
    },
    {
      "cell_type": "code",
      "execution_count": 2,
      "metadata": {
        "id": "_hNlR49CFZrX",
        "colab": {
          "base_uri": "https://localhost:8080/"
        },
        "outputId": "78082f9c-8fe6-4588-ff89-0862e2591a4a"
      },
      "outputs": [
        {
          "output_type": "stream",
          "name": "stdout",
          "text": [
            "Enter the Age25\n",
            "You are an adult.\n",
            "Enter the month4\n",
            "Spring\n"
          ]
        }
      ],
      "source": [
        "# Check age category\n",
        "age = int(input(\"Enter the Age\"))\n",
        "\n",
        "if age < 13:\n",
        "    print(\"You are a child.\")\n",
        "elif age < 18:\n",
        "    print(\"You are a teenager.\")\n",
        "else:\n",
        "    print(\"You are an adult.\")\n",
        "\n",
        "\n",
        "# To check the Season\n",
        "month = int(input(\"Enter the month\"))\n",
        "if month in [12, 1, 2]:\n",
        "    print(\"Winter\")\n",
        "elif month in [3, 4, 5]:\n",
        "    print(\"Spring\")\n",
        "elif month in [6, 7, 8]:\n",
        "    print(\"Summer\")\n",
        "elif month in [9, 10, 11]:\n",
        "    print(\"Fall\")\n",
        "else:\n",
        "    print(\"Invalid month\")"
      ]
    }
  ]
}