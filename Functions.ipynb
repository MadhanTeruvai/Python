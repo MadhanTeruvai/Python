{
  "nbformat": 4,
  "nbformat_minor": 0,
  "metadata": {
    "colab": {
      "provenance": [],
      "authorship_tag": "ABX9TyNplyTUcO4+ShUTwKrN1AeD",
      "include_colab_link": true
    },
    "kernelspec": {
      "name": "python3",
      "display_name": "Python 3"
    },
    "language_info": {
      "name": "python"
    }
  },
  "cells": [
    {
      "cell_type": "markdown",
      "metadata": {
        "id": "view-in-github",
        "colab_type": "text"
      },
      "source": [
        "<a href=\"https://colab.research.google.com/github/MadhanTeruvai/Python/blob/main/Functions.ipynb\" target=\"_parent\"><img src=\"https://colab.research.google.com/assets/colab-badge.svg\" alt=\"Open In Colab\"/></a>"
      ]
    },
    {
      "cell_type": "code",
      "execution_count": 23,
      "metadata": {
        "id": "uwAoawG-Jw0E",
        "colab": {
          "base_uri": "https://localhost:8080/"
        },
        "outputId": "a001cfda-d88d-4a2f-a8c5-76e30f6d11c8"
      },
      "outputs": [
        {
          "output_type": "stream",
          "name": "stdout",
          "text": [
            "user defined functions\n",
            "Hello\n",
            "Good Morning\n",
            "i am madhan\n",
            "It's rainy\n",
            "Let's Have a cup of tea\n",
            "\n",
            "Hello\n",
            "Good Morning\n",
            "i am madhan\n",
            "It's rainy\n",
            "Let's Have a cup of tea\n",
            "\n",
            "Hello\n",
            "Good Morning\n",
            "i am madhan\n",
            "It's rainy\n",
            "Let's Have a cup of tea\n",
            "\n",
            "\n",
            "It's an perfect combination\n",
            "To have a slip of tea during rainy Day\n",
            "\n",
            "It's an perfect combination\n",
            "To have a slip of tea during rainy Day\n"
          ]
        }
      ],
      "source": [
        "\n",
        "print(\"user defined functions\")\n",
        "def func1():\n",
        "   print(\"Hello\")\n",
        "   print(\"Good Morning\")\n",
        "def func2():\n",
        "   print(\"i am madhan\")\n",
        "   print(\"It's rainy\")\n",
        "   print(\"Let's Have a cup of tea\")\n",
        "func1()\n",
        "func2()\n",
        "print()\n",
        "func1()\n",
        "func2()\n",
        "print()\n",
        "func1()\n",
        "func2()\n",
        "print()\n",
        "print()\n",
        "\n",
        "def a():\n",
        "   print(\"It's an perfect combination\")\n",
        "   print(\"To have a slip of tea during rainy Day\")\n",
        "a()\n",
        "print()\n",
        "a()"
      ]
    }
  ]
}