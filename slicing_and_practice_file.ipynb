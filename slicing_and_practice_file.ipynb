{
  "nbformat": 4,
  "nbformat_minor": 0,
  "metadata": {
    "colab": {
      "provenance": [],
      "authorship_tag": "ABX9TyOWcatxc3TRBxGRz/8wBddm",
      "include_colab_link": true
    },
    "kernelspec": {
      "name": "python3",
      "display_name": "Python 3"
    },
    "language_info": {
      "name": "python"
    }
  },
  "cells": [
    {
      "cell_type": "markdown",
      "metadata": {
        "id": "view-in-github",
        "colab_type": "text"
      },
      "source": [
        "<a href=\"https://colab.research.google.com/github/MadhanTeruvai/Python/blob/main/slicing_and_practice_file.ipynb\" target=\"_parent\"><img src=\"https://colab.research.google.com/assets/colab-badge.svg\" alt=\"Open In Colab\"/></a>"
      ]
    },
    {
      "cell_type": "code",
      "execution_count": 1,
      "metadata": {
        "colab": {
          "base_uri": "https://localhost:8080/"
        },
        "id": "nzIjCEzMUL3i",
        "outputId": "464d07c8-c081-4d4e-eb57-07faede27787"
      },
      "outputs": [
        {
          "output_type": "stream",
          "name": "stdout",
          "text": [
            "21\n",
            "1: I\n",
            "2: P\n",
            "3: L\n",
            "4: Indian Premier\n",
            "5: Indian Premier League\n",
            "6: Indian Premier Leagu\n",
            "7: Ii eeLg\n",
            "8: True\n",
            "9: False\n",
            "10:  good afternoon\n",
            "to everyone\n",
            "11: good afternoon \tto everyone\n",
            "12: it's an kindly request\n",
            "13: good afternoon\n",
            "to everyone\tit's an pleasant day\n",
            "1.a) enter the string that want to displaythat's an good name\n",
            "that's an good name\n",
            "6\n",
            "15\n",
            "-1\n",
            "good_morning\n"
          ]
        }
      ],
      "source": [
        "                # slicing\n",
        "\n",
        "name=(\"Indian Premier League\")\n",
        "print(len(name))\n",
        "print(\"1:\",name[0])\n",
        "print(\"2:\",name[7])\n",
        "print(\"3:\",name[15])\n",
        "\n",
        "print(\"4:\",name[0:14])\n",
        "print(\"5:\",name[0:])\n",
        "print(\"6:\",name[:-1])\n",
        "print(\"7:\",name[0:21:3])\n",
        "\n",
        "print(\"8:\",name.endswith('e'))\n",
        "print(f\"9: {name.startswith('g')}\")\n",
        "\n",
        "# escape sequence characters\n",
        "# \\n\n",
        "print(\"10: \",\"good afternoon\\nto everyone\")\n",
        "# \\t\n",
        "print(\"11: \"\"good afternoon \\tto everyone\")\n",
        "# add double or single quotes in string\n",
        "print(\"12: \"\"it\\'s an kindly request\")\n",
        "# considering all the characters\n",
        "print(\"13: \"\"good afternoon\\nto everyone\\tit\\'s an pleasant day\")\n",
        "\n",
        "# 1 input enter\n",
        "a=input(\"1.a) \"\"enter the string that want to display\")\n",
        "print(a)\n",
        "\n",
        "# 2 find the double spaces and triple spaces in the following text\n",
        "sentence=(\"2.) Indian  Premier   League\")\n",
        "print(sentence.find(\"  \"))\n",
        "print(sentence.find(\"   \"))\n",
        "print(sentence.find(\"name\"))\n",
        "\n",
        "# 3 replace the double spaces and triple spaces in the following text\n",
        "sentence2=(\"good morning\")\n",
        "print(sentence2.replace(\" \",\"_\"))\n",
        "\n"
      ]
    }
  ]
}