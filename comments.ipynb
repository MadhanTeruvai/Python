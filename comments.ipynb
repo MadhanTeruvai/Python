{
  "nbformat": 4,
  "nbformat_minor": 0,
  "metadata": {
    "colab": {
      "provenance": [],
      "authorship_tag": "ABX9TyP1wqDOzwxwzFm90sDgIwV6",
      "include_colab_link": true
    },
    "kernelspec": {
      "name": "python3",
      "display_name": "Python 3"
    },
    "language_info": {
      "name": "python"
    }
  },
  "cells": [
    {
      "cell_type": "markdown",
      "metadata": {
        "id": "view-in-github",
        "colab_type": "text"
      },
      "source": [
        "<a href=\"https://colab.research.google.com/github/MadhanTeruvai/Python/blob/main/comments_py.ipynb\" target=\"_parent\"><img src=\"https://colab.research.google.com/assets/colab-badge.svg\" alt=\"Open In Colab\"/></a>"
      ]
    },
    {
      "cell_type": "code",
      "source": [
        "# To type multiple alt+shit+click on touchpad\n",
        "# click end for last sentence\n",
        "\n",
        "            # national anthem\n",
        "print(\"1st method\")\n",
        "print(\"Jana-gana-mana-adhinayaka, jaya he\")\n",
        "print(\"Bharata-bhagya-vidhata\")\n",
        "print(\"Panjaba-Sindha-Gujrata-Maharata-\")\n",
        "print(\"Dravida-Utkala-Vanga\")\n",
        "print(\"Vindhya-Himachala-Yamuna-Ganga\")\n",
        "print(\"Uchhala-Jaladhi-taranga\")\n",
        "print(\"Tava shubha name jage\")\n",
        "\n",
        "print(\"Tava shubha ashisha mage\")\n",
        "print(\"Gave tava jaya-gatha\")\n",
        "print(\"Jana-gana-mangala-dayaka jaya he\")\n",
        "print(\"Bharata-bhagya-vidhata.\")\n",
        "print(\"Jaya he! Jaya he! Jaya he!\")\n",
        "print(\"Jaya jaya jaya, jaya he!\")\n",
        "\n",
        "\n",
        "# by using triple quotes\n",
        "print('''\n",
        "\n",
        "2nd method\n",
        "Jana-gana-mana-adhinayaka, jaya he\n",
        "Bharata-bhagya-vidhata\n",
        "Panjaba-Sindha-Gujrata-Maharata-\n",
        "Dravida-Utkala-Vanga\n",
        "Vindhya-Himachala-Yamuna-Ganga\n",
        "Uchhala-Jaladhi-taranga\n",
        "Tava shubha name jage\n",
        "\n",
        "Tava shubha ashisha mage\n",
        "Gave tava jaya-gatha\n",
        "Jana-gana-mangala-dayaka jaya he\n",
        "Bharata-bhagya-vidhata.\n",
        "Jaya he! Jaya he! Jaya he!\n",
        "Jaya jaya jaya, jaya he!''')\n",
        "\n",
        "# to view directory by using python\n",
        "import os\n",
        "print(os.listdir())"
      ],
      "metadata": {
        "id": "l4Aat66wQt8t"
      },
      "execution_count": null,
      "outputs": []
    }
  ]
}
