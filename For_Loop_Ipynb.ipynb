{
  "nbformat": 4,
  "nbformat_minor": 0,
  "metadata": {
    "colab": {
      "provenance": [],
      "authorship_tag": "ABX9TyNVXhvxkXT6fUiEynHsARpu",
      "include_colab_link": true
    },
    "kernelspec": {
      "name": "python3",
      "display_name": "Python 3"
    },
    "language_info": {
      "name": "python"
    }
  },
  "cells": [
    {
      "cell_type": "markdown",
      "metadata": {
        "id": "view-in-github",
        "colab_type": "text"
      },
      "source": [
        "<a href=\"https://colab.research.google.com/github/MadhanTeruvai/Python/blob/main/For_Loop_Ipynb.ipynb\" target=\"_parent\"><img src=\"https://colab.research.google.com/assets/colab-badge.svg\" alt=\"Open In Colab\"/></a>"
      ]
    },
    {
      "cell_type": "code",
      "execution_count": 3,
      "metadata": {
        "colab": {
          "base_uri": "https://localhost:8080/"
        },
        "id": "xzsce1XGeLQH",
        "outputId": "1a24824e-4123-4c55-93a2-5eff9dead1b9"
      },
      "outputs": [
        {
          "output_type": "stream",
          "name": "stdout",
          "text": [
            "P\n",
            "Y\n",
            "T\n",
            "H\n",
            "O\n",
            "N\n",
            "p\n",
            "y\n",
            "t\n",
            "h\n",
            "o\n",
            "n\n",
            "0\n",
            "5\n",
            "10\n",
            "15\n",
            "20\n",
            "25\n",
            "30\n",
            "35\n",
            "40\n",
            "45\n",
            "0\n",
            "2\n",
            "4\n",
            "6\n",
            "8\n",
            "10\n",
            "12\n",
            "14\n",
            "16\n",
            "18\n",
            "1\n",
            "3\n",
            "5\n",
            "7\n",
            "9\n",
            "11\n",
            "13\n",
            "15\n",
            "17\n",
            "19\n"
          ]
        }
      ],
      "source": [
        "\n",
        "\n",
        "# For Loop to print \"Python In Upper case\"\n",
        "word = \"Python\"\n",
        "for char in word:\n",
        "    print(char.upper())\n",
        "\n",
        "# For Loop to print \"Python In Lower case\"\n",
        "word = \"Python\"\n",
        "for char in word:\n",
        "    print(char.lower())\n",
        "\n",
        "# Using For loop to print range numbers 0 to 50 with skip of 5\n",
        "for i in range(0, 50, 5):  # Start at 0, go to 9, step by 2\n",
        "    print(i)\n",
        "\n",
        "# Using For loop to print range numbers 0 to 20 with even numbers\n",
        "for i in range(0, 20, 2):  # Start at 0, go to 9, step by 2\n",
        "    print(i)\n",
        "\n",
        "# Using For loop to print range numbers 0 to 50 with odd numbers\n",
        "for i in range(1, 20, 2):  # Start at 0, go to 9, step by 2\n",
        "    print(i)"
      ]
    }
  ]
}