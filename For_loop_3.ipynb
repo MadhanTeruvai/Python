{
  "nbformat": 4,
  "nbformat_minor": 0,
  "metadata": {
    "colab": {
      "provenance": [],
      "authorship_tag": "ABX9TyNxD2Jn87kBFkKuIJa4jBJ4",
      "include_colab_link": true
    },
    "kernelspec": {
      "name": "python3",
      "display_name": "Python 3"
    },
    "language_info": {
      "name": "python"
    }
  },
  "cells": [
    {
      "cell_type": "markdown",
      "metadata": {
        "id": "view-in-github",
        "colab_type": "text"
      },
      "source": [
        "<a href=\"https://colab.research.google.com/github/MadhanTeruvai/Python/blob/main/For_loop_3.ipynb\" target=\"_parent\"><img src=\"https://colab.research.google.com/assets/colab-badge.svg\" alt=\"Open In Colab\"/></a>"
      ]
    },
    {
      "cell_type": "code",
      "execution_count": 3,
      "metadata": {
        "id": "cGqCH-cZHj_i",
        "colab": {
          "base_uri": "https://localhost:8080/"
        },
        "outputId": "a852e941-7682-4656-adfa-a3ad101ae023"
      },
      "outputs": [
        {
          "output_type": "stream",
          "name": "stdout",
          "text": [
            "Number of 3s: 4\n",
            "10\n",
            "9\n",
            "8\n",
            "7\n",
            "6\n",
            "5\n",
            "4\n",
            "3\n",
            "2\n",
            "1\n",
            "Madhan is 25 years old\n",
            "Vishal is 24 years old\n",
            "Mithun is 27 years old\n"
          ]
        }
      ],
      "source": [
        "\n",
        "# By using For loop count n no.of 3s\n",
        "numbers = [3, 1, 2, 3, 3, 1, 3, 4, 2]\n",
        "count = 0\n",
        "for num in numbers:\n",
        "    if num == 3:\n",
        "        count += 1\n",
        "print(f\"Number of 3s: {count}\")\n",
        "\n",
        "# By using For Loop count reverse order\n",
        "for i in range(10, 0, -1):  # Count down from 10 to 1\n",
        "    print(i)\n",
        "\n",
        "# By using For loop print Multiple sequence\n",
        "names = [\"Madhan\", \"Vishal\", \"Mithun\"]\n",
        "ages = [25, 24, 27]\n",
        "for name, age in zip(names, ages):\n",
        "    print(f\"{name} is {age} years old\")"
      ]
    }
  ]
}