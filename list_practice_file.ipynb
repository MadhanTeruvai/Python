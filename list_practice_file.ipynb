{
  "nbformat": 4,
  "nbformat_minor": 0,
  "metadata": {
    "colab": {
      "provenance": [],
      "authorship_tag": "ABX9TyMFqKK6YXolrrKfjkr+92do",
      "include_colab_link": true
    },
    "kernelspec": {
      "name": "python3",
      "display_name": "Python 3"
    },
    "language_info": {
      "name": "python"
    }
  },
  "cells": [
    {
      "cell_type": "markdown",
      "metadata": {
        "id": "view-in-github",
        "colab_type": "text"
      },
      "source": [
        "<a href=\"https://colab.research.google.com/github/MadhanTeruvai/Python/blob/main/list_practice_file.ipynb\" target=\"_parent\"><img src=\"https://colab.research.google.com/assets/colab-badge.svg\" alt=\"Open In Colab\"/></a>"
      ]
    },
    {
      "cell_type": "code",
      "execution_count": null,
      "metadata": {
        "id": "EnAhPQbCssdG"
      },
      "outputs": [],
      "source": [
        "print(\"1.)  write a program to store 7 names in a class entered by the user\")\n",
        "No1=input(\"enter the name of the 1st student in the class=\")\n",
        "No2=input(\"enter the name of the 2nd student in the class=\")\n",
        "No3=input(\"enter the name of the 3rd student in the class=\")\n",
        "No4=input(\"enter the name of the 4th student in the class=\")\n",
        "No5=input(\"enter the name of the 5th student in the class=\")\n",
        "No6=input(\"enter the name of the 6th student in the class=\")\n",
        "No7=input(\"enter the name of the 7th student in the class=\")\n",
        "\n",
        "names_in_class=(No1,No2,No3,No4,No5,No6,No7)\n",
        "print(names_in_class)\n",
        "\n",
        "print(\"2.)  write a program to accept marks of 6 students and display them in a sorted manner\")\n",
        "marks1=int(input(\"enter the marks of the student 1=\"))\n",
        "marks2=int(input(\"enter the marks of the student 2=\"))\n",
        "marks3=int(input(\"enter the marks of the student 3=\"))\n",
        "marks4=int(input(\"enter the marks of the student 4=\"))\n",
        "marks5=int(input(\"enter the marks of the student 5=\"))\n",
        "marks6=int(input(\"enter the marks of the student 6=\"))\n",
        "marks_of_the_students=[marks1,marks2,marks3,marks4,marks5,marks6]\n",
        "marks_of_the_students.sort()\n",
        "print(marks_of_the_students)\n",
        "\n",
        "print(\"3.)  write a program to sum a llst with 5 numbers\")\n",
        "a=int(input(\"enter the 1st value=\"))\n",
        "b=int(input(\"enter the 2nd value=\"))\n",
        "c=int(input(\"enter the 3rd value=\"))\n",
        "d=int(input(\"enter the 4th value=\"))\n",
        "e=int(input(\"enter the 5th value=\"))\n",
        "sum=[a,b,c,d,e]\n",
        "sum_of_the_numbers=0\n",
        "sum_of_the_numbers +=a\n",
        "sum_of_the_numbers +=b\n",
        "sum_of_the_numbers +=c\n",
        "sum_of_the_numbers +=d\n",
        "sum_of_the_numbers +=e\n",
        "print(\"the sum of mentioned values are\", sum_of_the_numbers)\n",
        "\n",
        "print(\"4.)  write a program to count the no.of numbers in the following tuple\")\n",
        "a=(0,10,1,0,1,2,3,2,4,1,6,9,2,1,4,10,3,5,4,3,7,4,5,7,9,8,8,9)\n",
        "print(a.count(int(input(\"enter the number to count no.of numbers present in a=\"))))\n"
      ]
    }
  ]
}