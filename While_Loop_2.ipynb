{
  "nbformat": 4,
  "nbformat_minor": 0,
  "metadata": {
    "colab": {
      "provenance": [],
      "authorship_tag": "ABX9TyPLF3NDrNcEzvfZG3xPciKU",
      "include_colab_link": true
    },
    "kernelspec": {
      "name": "python3",
      "display_name": "Python 3"
    },
    "language_info": {
      "name": "python"
    }
  },
  "cells": [
    {
      "cell_type": "markdown",
      "metadata": {
        "id": "view-in-github",
        "colab_type": "text"
      },
      "source": [
        "<a href=\"https://colab.research.google.com/github/MadhanTeruvai/Python/blob/main/While_Loop_2.ipynb\" target=\"_parent\"><img src=\"https://colab.research.google.com/assets/colab-badge.svg\" alt=\"Open In Colab\"/></a>"
      ]
    },
    {
      "cell_type": "code",
      "execution_count": 5,
      "metadata": {
        "colab": {
          "base_uri": "https://localhost:8080/"
        },
        "id": "9QjnjaX_XSMm",
        "outputId": "db5a2511-ba3f-442c-f0a9-12763ac1c82f"
      },
      "outputs": [
        {
          "output_type": "stream",
          "name": "stdout",
          "text": [
            "input value with skip of 1\n",
            "enter the input of value maximum limit of 5: 1\n",
            "1\n",
            "2\n",
            "3\n",
            "4\n",
            "5\n",
            "\n",
            "input value with skip of 2\n",
            "enter the input of value maximum limit of 15: 2\n",
            "2\n",
            "4\n",
            "6\n",
            "8\n",
            "10\n",
            "12\n",
            "14\n",
            "\n",
            "input value with reverse skip of 1\n",
            "enter the input of value minimum limit of 4: 15\n",
            "15\n",
            "14\n",
            "13\n",
            "12\n",
            "11\n",
            "10\n",
            "9\n",
            "8\n",
            "7\n",
            "6\n",
            "5\n",
            "4\n",
            "\n",
            "enter the value to find out square with limit of 40\n",
            "enter the value to find square: 6\n",
            "6\n",
            "12\n",
            "24\n",
            "\n",
            "enter the value to find out cube with limit of 40\n",
            "enter the value to find cube: 3\n",
            "3\n",
            "9\n",
            "27\n"
          ]
        }
      ],
      "source": [
        "print(\"input value with skip of 1\")\n",
        "count = int(input(\"enter the input of value maximum limit of 5: \"))\n",
        "while count <= 5:\n",
        "   print(count)\n",
        "   count += 1\n",
        "\n",
        "print(\"\\ninput value with skip of 2\")\n",
        "count = int(input(\"enter the input of value maximum limit of 15: \"))\n",
        "while count <= 15:\n",
        "   print(count)\n",
        "   count += 2\n",
        "\n",
        "print(\"\\ninput value with reverse skip of 1\")\n",
        "count = int(input(\"enter the input of value minimum limit of 4: \"))\n",
        "while count >= 4:\n",
        "   print(count)\n",
        "   count -= 1\n",
        "\n",
        "print(\"\\nenter the value to find out square with limit of 40\")\n",
        "count = int(input(\"enter the value to find square: \"))\n",
        "while count <= 40:\n",
        "   print(count)\n",
        "   count *= 2\n",
        "\n",
        "print(\"\\nenter the value to find out cube with limit of 40\")\n",
        "count = int(input(\"enter the value to find cube: \"))\n",
        "while count <= 40:\n",
        "   print(count)\n",
        "   count *= 3"
      ]
    }
  ]
}