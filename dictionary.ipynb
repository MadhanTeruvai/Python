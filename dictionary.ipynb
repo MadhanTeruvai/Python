{
  "nbformat": 4,
  "nbformat_minor": 0,
  "metadata": {
    "colab": {
      "provenance": [],
      "authorship_tag": "ABX9TyP/ibNp7HzKfi8P8D9i+v1U",
      "include_colab_link": true
    },
    "kernelspec": {
      "name": "python3",
      "display_name": "Python 3"
    },
    "language_info": {
      "name": "python"
    }
  },
  "cells": [
    {
      "cell_type": "markdown",
      "metadata": {
        "id": "view-in-github",
        "colab_type": "text"
      },
      "source": [
        "<a href=\"https://colab.research.google.com/github/MadhanTeruvai/Python/blob/main/dictionary.ipynb\" target=\"_parent\"><img src=\"https://colab.research.google.com/assets/colab-badge.svg\" alt=\"Open In Colab\"/></a>"
      ]
    },
    {
      "cell_type": "code",
      "execution_count": 1,
      "metadata": {
        "colab": {
          "base_uri": "https://localhost:8080/"
        },
        "id": "BoKQXTDlUwb9",
        "outputId": "d58467d3-3e57-41c7-eb30-91d8afdf5a0a"
      },
      "outputs": [
        {
          "output_type": "stream",
          "name": "stdout",
          "text": [
            "<class 'dict'>\n",
            "get(k): 11\n",
            "get(j): 10\n",
            "get(4): None\n",
            "keys: dict_keys(['k', 'j', 4])\n",
            "values dict_values([11, 10, 'd'])\n",
            "items dict_items([('k', 11), ('j', 10), (4, 'd')])\n",
            "update {'k': 11, 'j': 10, 4: 'd', 'l': 8}\n",
            "the loop for dictionary\n",
            "('k', 11)\n",
            "('j', 10)\n",
            "(4, 'd')\n",
            "('l', 8)\n"
          ]
        }
      ],
      "source": [
        "                    # Dictionary{}\n",
        "# to find the type of class\n",
        "d={'k':11,'j':10,4:'d'}\n",
        "print(type(d))\n",
        "\n",
        "# get-k\n",
        "# used to get value k of specified key\n",
        "print(\"get(k):\",d.get('k'))\n",
        "\n",
        "# get-j\n",
        "# used to get value j of specified key\n",
        "print(\"get(j):\",d.get('j'))\n",
        "\n",
        "# get\n",
        "# used to get value 4 of specified key\n",
        "print(\"get(4):\",d.get('4'))\n",
        "\n",
        "# keys\n",
        "# used to get keys\n",
        "print(\"keys:\",d.keys())\n",
        "\n",
        "# values\n",
        "# used to get values\n",
        "print(\"values\",d.values())\n",
        "\n",
        "# items\n",
        "# used to get both keys and values\n",
        "print(\"items\",d.items())\n",
        "\n",
        "# update\n",
        "# used to add at last of items\n",
        "d.update({'l':8})\n",
        "print(\"update\",d)\n",
        "\n",
        "# for loop\n",
        "print(\"the loop for dictionary\")\n",
        "for i in d.items():\n",
        "    print(i)"
      ]
    }
  ]
}