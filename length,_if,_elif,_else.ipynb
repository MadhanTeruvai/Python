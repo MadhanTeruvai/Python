{
  "nbformat": 4,
  "nbformat_minor": 0,
  "metadata": {
    "colab": {
      "provenance": [],
      "authorship_tag": "ABX9TyPeqbAF0hsO7gS2yHnORkhO",
      "include_colab_link": true
    },
    "kernelspec": {
      "name": "python3",
      "display_name": "Python 3"
    },
    "language_info": {
      "name": "python"
    }
  },
  "cells": [
    {
      "cell_type": "markdown",
      "metadata": {
        "id": "view-in-github",
        "colab_type": "text"
      },
      "source": [
        "<a href=\"https://colab.research.google.com/github/MadhanTeruvai/Python/blob/main/length%2C_if%2C_elif%2C_else.ipynb\" target=\"_parent\"><img src=\"https://colab.research.google.com/assets/colab-badge.svg\" alt=\"Open In Colab\"/></a>"
      ]
    },
    {
      "cell_type": "code",
      "execution_count": 2,
      "metadata": {
        "colab": {
          "base_uri": "https://localhost:8080/"
        },
        "id": "iNIdDPvaoZ-h",
        "outputId": "989ff0cb-d82d-4c10-bdae-85d911c33391"
      },
      "outputs": [
        {
          "output_type": "stream",
          "name": "stdout",
          "text": [
            "14\n",
            "d afte\n",
            "od afterno\n",
            "good\n",
            " afternoon\n",
            "\n",
            "first class\n",
            "second class\n",
            "third class\n",
            "fail\n"
          ]
        }
      ],
      "source": [
        "#length\n",
        "a=\"good afternoon\"\n",
        "print(len(a))\n",
        "print(a[3:9])\n",
        "print(a[2:-2])\n",
        "print(\"good\\n afternoon\\n\")\n",
        "\n",
        "# if, elif, else condtions\n",
        "\n",
        "# when the percentage of the student is '89'\n",
        "per=89\n",
        "if per>=80:\n",
        "    print(\"first class\")\n",
        "elif per>=60:\n",
        "    print(\"second class\")\n",
        "elif per>=35:\n",
        "    print(\"third class\")\n",
        "else:\n",
        "    print(\"fail\")\n",
        "\n",
        "# when the percentage of the student is '79.9'\n",
        "per=79.9\n",
        "if per>=80:\n",
        "    print(\"first class\")\n",
        "elif per>=60:\n",
        "    print(\"second class\")\n",
        "elif per>=35:\n",
        "    print(\"third class\")\n",
        "else:\n",
        "    print(\"fail\")\n",
        "\n",
        "# when the percentage of the student is '45'\n",
        "per=45\n",
        "if per>=80:\n",
        "    print(\"first class\")\n",
        "elif per>=60:\n",
        "    print(\"second class\")\n",
        "elif per>=35:\n",
        "    print(\"third class\")\n",
        "else:\n",
        "    print(\"fail\")\n",
        "\n",
        "# when the percentage of the student is '34.9'\n",
        "per=34.9\n",
        "if per>=80:\n",
        "    print(\"first class\")\n",
        "elif per>=60:\n",
        "    print(\"second class\")\n",
        "elif per>=35:\n",
        "    print(\"third class\")\n",
        "else:\n",
        "    print(\"fail\")"
      ]
    }
  ]
}