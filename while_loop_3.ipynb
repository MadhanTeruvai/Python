{
  "nbformat": 4,
  "nbformat_minor": 0,
  "metadata": {
    "colab": {
      "provenance": [],
      "authorship_tag": "ABX9TyMCQhL+sxQy0rwOcRig6xsb",
      "include_colab_link": true
    },
    "kernelspec": {
      "name": "python3",
      "display_name": "Python 3"
    },
    "language_info": {
      "name": "python"
    }
  },
  "cells": [
    {
      "cell_type": "markdown",
      "metadata": {
        "id": "view-in-github",
        "colab_type": "text"
      },
      "source": [
        "<a href=\"https://colab.research.google.com/github/MadhanTeruvai/Python/blob/main/while_loop_3.ipynb\" target=\"_parent\"><img src=\"https://colab.research.google.com/assets/colab-badge.svg\" alt=\"Open In Colab\"/></a>"
      ]
    },
    {
      "cell_type": "code",
      "execution_count": 6,
      "metadata": {
        "id": "xFyXjj-qur4z",
        "colab": {
          "base_uri": "https://localhost:8080/"
        },
        "outputId": "a2d70bee-917b-4882-a5f7-3e9df26de793"
      },
      "outputs": [
        {
          "output_type": "stream",
          "name": "stdout",
          "text": [
            "with skip of -2\n",
            "20\n",
            "18\n",
            "16\n",
            "14\n",
            "12\n",
            "10\n",
            "8\n",
            "6\n",
            "4\n",
            "2\n",
            "0\n",
            "\n",
            "with skip of -3\n",
            "30\n",
            "27\n",
            "24\n",
            "21\n",
            "18\n",
            "15\n",
            "12\n",
            "9\n",
            "6\n",
            "3\n",
            "0\n",
            "\n",
            "creating 5 table by using -5\n",
            "5x10=50\n",
            "5x9=45\n",
            "5x8=40\n",
            "5x7=35\n",
            "5x6=30\n",
            "5x5=25\n",
            "5x4=20\n",
            "5x3=15\n",
            "5x2=10\n",
            "5x1=5\n",
            "\n",
            "creating 4 table by using +4\n",
            "4x1=4\n",
            "4x2=8\n",
            "4x3=12\n",
            "4x4=16\n",
            "4x5=20\n",
            "4x6=24\n",
            "4x7=28\n",
            "4x8=32\n",
            "4x9=36\n",
            "4x10=40\n"
          ]
        }
      ],
      "source": [
        "# while loop\n",
        "print(\"with skip of -2\")\n",
        "a=20\n",
        "while a>=0:\n",
        "    print(a)\n",
        "    a -=2\n",
        "\n",
        "# while loop\n",
        "print(\"\\nwith skip of -3\")\n",
        "a=30\n",
        "while a>=0:\n",
        "    print(a)\n",
        "    a -=3\n",
        "\n",
        "# while loop\n",
        "print(\"\\ncreating 5 table by using -5\")\n",
        "c=50\n",
        "z=10\n",
        "while c>=5:\n",
        "    print(f\"5x{z}={c}\")\n",
        "    z -= 1\n",
        "    c -= 5\n",
        "\n",
        "# while loop\n",
        "print(\"\\ncreating 4 table by using +4\")\n",
        "d=4\n",
        "z=0\n",
        "while d<=40:\n",
        "    z += 1\n",
        "    print(f\"4x{z}={d}\")\n",
        "    d += 4"
      ]
    },
    {
      "cell_type": "code",
      "source": [],
      "metadata": {
        "id": "K8BASjcpwnmi"
      },
      "execution_count": null,
      "outputs": []
    }
  ]
}