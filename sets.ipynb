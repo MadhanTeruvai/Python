{
  "nbformat": 4,
  "nbformat_minor": 0,
  "metadata": {
    "colab": {
      "provenance": [],
      "authorship_tag": "ABX9TyNTZfWs3F1JUYZjTPl6vV+q",
      "include_colab_link": true
    },
    "kernelspec": {
      "name": "python3",
      "display_name": "Python 3"
    },
    "language_info": {
      "name": "python"
    }
  },
  "cells": [
    {
      "cell_type": "markdown",
      "metadata": {
        "id": "view-in-github",
        "colab_type": "text"
      },
      "source": [
        "<a href=\"https://colab.research.google.com/github/MadhanTeruvai/Python/blob/main/sets.ipynb\" target=\"_parent\"><img src=\"https://colab.research.google.com/assets/colab-badge.svg\" alt=\"Open In Colab\"/></a>"
      ]
    },
    {
      "cell_type": "code",
      "execution_count": 7,
      "metadata": {
        "colab": {
          "base_uri": "https://localhost:8080/"
        },
        "id": "QSbJwrEUVYIM",
        "outputId": "674e6324-03ee-41c7-991f-080d38772956"
      },
      "outputs": [
        {
          "output_type": "stream",
          "name": "stdout",
          "text": [
            "add: {1, 2, 3, 4, 5, 9}\n",
            "pop: {2, 3, 4, 5, 9}\n",
            "union: {1, 2, 3, 4, 5, 9}\n",
            "difference: {9, 4, 5}\n",
            "intersection: {2, 3}\n",
            "issuperset: False\n",
            "issubset: False\n"
          ]
        }
      ],
      "source": [
        "                    # set{}\n",
        "e={1,2,3,4,5}\n",
        "f={1,2,3}\n",
        "\n",
        "# add\n",
        "# to add value in set\n",
        "e.add(9)\n",
        "print(\"add:\",e)\n",
        "\n",
        "# pop\n",
        "# to remove an value in an set present at last\n",
        "e.pop()\n",
        "print(\"pop:\",e)\n",
        "\n",
        "# union\n",
        "print(\"union:\",e.union(f))\n",
        "\n",
        "# difference\n",
        "print(\"difference:\",e.difference(f))\n",
        "\n",
        "# intersection\n",
        "print(\"intersection:\",e.intersection(f))\n",
        "\n",
        "# issuperset\n",
        "print(\"issuperset:\",e.issuperset(f))\n",
        "\n",
        "# issubset\n",
        "print(\"issubset:\",e.issubset(f))"
      ]
    },
    {
      "cell_type": "code",
      "source": [],
      "metadata": {
        "id": "9QCPs3oFbW0a"
      },
      "execution_count": null,
      "outputs": []
    }
  ]
}