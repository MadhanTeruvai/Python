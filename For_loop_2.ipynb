{
  "nbformat": 4,
  "nbformat_minor": 0,
  "metadata": {
    "colab": {
      "provenance": [],
      "authorship_tag": "ABX9TyPYG4weONsVKeQuhn7UhHSQ",
      "include_colab_link": true
    },
    "kernelspec": {
      "name": "python3",
      "display_name": "Python 3"
    },
    "language_info": {
      "name": "python"
    }
  },
  "cells": [
    {
      "cell_type": "markdown",
      "metadata": {
        "id": "view-in-github",
        "colab_type": "text"
      },
      "source": [
        "<a href=\"https://colab.research.google.com/github/MadhanTeruvai/Python/blob/main/For_loop_2.ipynb\" target=\"_parent\"><img src=\"https://colab.research.google.com/assets/colab-badge.svg\" alt=\"Open In Colab\"/></a>"
      ]
    },
    {
      "cell_type": "code",
      "execution_count": 1,
      "metadata": {
        "colab": {
          "base_uri": "https://localhost:8080/"
        },
        "id": "y8uSluwZZCuh",
        "outputId": "a34c4df0-2ccc-4410-f33d-6f66333b5d5e"
      },
      "outputs": [
        {
          "output_type": "stream",
          "name": "stdout",
          "text": [
            "H\n",
            "e\n",
            "l\n",
            "l\n",
            "o\n",
            "Iteration number: 0\n",
            "Iteration number: 1\n",
            "Iteration number: 2\n",
            "Iteration number: 3\n",
            "Iteration number: 4\n",
            "name\n",
            "age\n",
            "major\n",
            "Key: name, Value: Alice\n",
            "Key: age, Value: 20\n",
            "Key: major, Value: Computer Science\n",
            "1\n",
            "2\n",
            "1\n",
            "2\n",
            "4\n",
            "5\n"
          ]
        }
      ],
      "source": [
        "# For Loop\n",
        "\n",
        "# For loop iterating through a string (characters)\n",
        "message = \"Hello\"\n",
        "for char in message:\n",
        "    print(char)\n",
        "\n",
        "# For loop using the range() function to iterate a specific number of times\n",
        "for i in range(5):  # Generates numbers from 0 to 4\n",
        "    print(f\"Iteration number: {i}\")\n",
        "\n",
        "# For loop iterating through a dictionary (keys by default)\n",
        "student = {\"name\": \"Alice\", \"age\": 20, \"major\": \"Computer Science\"}\n",
        "for key in student:\n",
        "    print(key)\n",
        "\n",
        "# For loop iterating through dictionary items (key-value pairs)\n",
        "for key, value in student.items():\n",
        "    print(f\"Key: {key}, Value: {value}\")\n",
        "\n",
        "\n",
        "# For loop with a break statement (exits the loop prematurely)\n",
        "numbers = [1, 2, 3, 4, 5]\n",
        "for num in numbers:\n",
        "    if num == 3:\n",
        "        break\n",
        "    print(num)\n",
        "else:\n",
        "    print(\"This else block will not execute because the loop was broken.\")\n",
        "\n",
        "# For loop with a continue statement (skips the current iteration)\n",
        "numbers = [1, 2, 3, 4, 5]\n",
        "for num in numbers:\n",
        "    if num == 3:\n",
        "        continue\n",
        "    print(num)"
      ]
    }
  ]
}