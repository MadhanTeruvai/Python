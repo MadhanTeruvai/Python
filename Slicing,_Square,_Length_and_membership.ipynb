{
  "nbformat": 4,
  "nbformat_minor": 0,
  "metadata": {
    "colab": {
      "provenance": [],
      "authorship_tag": "ABX9TyPt2LrxLofPvEZbfoo6BcuB",
      "include_colab_link": true
    },
    "kernelspec": {
      "name": "python3",
      "display_name": "Python 3"
    },
    "language_info": {
      "name": "python"
    }
  },
  "cells": [
    {
      "cell_type": "markdown",
      "metadata": {
        "id": "view-in-github",
        "colab_type": "text"
      },
      "source": [
        "<a href=\"https://colab.research.google.com/github/MadhanTeruvai/Python/blob/main/Slicing%2C_Square%2C_Length_and_membership.ipynb\" target=\"_parent\"><img src=\"https://colab.research.google.com/assets/colab-badge.svg\" alt=\"Open In Colab\"/></a>"
      ]
    },
    {
      "cell_type": "code",
      "execution_count": 15,
      "metadata": {
        "colab": {
          "base_uri": "https://localhost:8080/"
        },
        "id": "OAKxK2lAWO4i",
        "outputId": "b2a0e079-e336-46a4-c237-3fd169e6d664"
      },
      "outputs": [
        {
          "output_type": "stream",
          "name": "stdout",
          "text": [
            "[8, 7, 6]\n",
            "[9, 8, 7]\n",
            "[9, 8, 7, 6, 5]\n",
            "[9, 7, 5]\n",
            "[0, 1, 4, 9]\n",
            "numbers: [5, 6, 7, 8, 9]\n",
            "len: 5\n",
            "True\n",
            "False\n"
          ]
        }
      ],
      "source": [
        "# List slicing\n",
        "numbers = [9, 8, 7, 6, 5]\n",
        "print(numbers[1:4])\n",
        "print(numbers[:3])\n",
        "print(numbers[0:])\n",
        "print(numbers[::2])\n",
        "\n",
        "# List comprehension\n",
        "squares = [x**2 for x in range(4)]\n",
        "print(squares)\n",
        "\n",
        "# Sorting\n",
        "numbers.sort()\n",
        "print(f\"numbers: {numbers}\")\n",
        "\n",
        "# Length and membership\n",
        "print(\"len:\",len(numbers))\n",
        "print(9 in numbers)\n",
        "print(3 in numbers)"
      ]
    }
  ]
}