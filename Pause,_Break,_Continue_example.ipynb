{
  "nbformat": 4,
  "nbformat_minor": 0,
  "metadata": {
    "colab": {
      "provenance": [],
      "authorship_tag": "ABX9TyMp9EcRM27AMgOdDG1O1YNs",
      "include_colab_link": true
    },
    "kernelspec": {
      "name": "python3",
      "display_name": "Python 3"
    },
    "language_info": {
      "name": "python"
    }
  },
  "cells": [
    {
      "cell_type": "markdown",
      "metadata": {
        "id": "view-in-github",
        "colab_type": "text"
      },
      "source": [
        "<a href=\"https://colab.research.google.com/github/MadhanTeruvai/Python/blob/main/Pause%2C_Break%2C_Continue_example.ipynb\" target=\"_parent\"><img src=\"https://colab.research.google.com/assets/colab-badge.svg\" alt=\"Open In Colab\"/></a>"
      ]
    },
    {
      "cell_type": "code",
      "execution_count": null,
      "metadata": {
        "id": "7OVANpwg802F"
      },
      "outputs": [],
      "source": [
        "\n",
        "# Pause\n",
        "# Pauses for n no.of second\n",
        "for i in range(5):\n",
        "    print(i)\n",
        "    time.sleep(1)\n",
        "\n",
        "# Break\n",
        "# eliminates the entire loop immediately when a condition is met\n",
        "for i in range(5):\n",
        "    if i == 3:\n",
        "        break\n",
        "    print(i)\n",
        "\n",
        "# Continue\n",
        "# skips the current loop iteration\n",
        "for i in range(5):\n",
        "    if i == 3:\n",
        "        continue\n",
        "    print(i)"
      ]
    }
  ]
}