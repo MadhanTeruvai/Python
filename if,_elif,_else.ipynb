{
  "nbformat": 4,
  "nbformat_minor": 0,
  "metadata": {
    "colab": {
      "provenance": [],
      "authorship_tag": "ABX9TyPt4j04DyZswRTrpHz973B1",
      "include_colab_link": true
    },
    "kernelspec": {
      "name": "python3",
      "display_name": "Python 3"
    },
    "language_info": {
      "name": "python"
    }
  },
  "cells": [
    {
      "cell_type": "markdown",
      "metadata": {
        "id": "view-in-github",
        "colab_type": "text"
      },
      "source": [
        "<a href=\"https://colab.research.google.com/github/MadhanTeruvai/Python/blob/main/if%2C_elif%2C_else.ipynb\" target=\"_parent\"><img src=\"https://colab.research.google.com/assets/colab-badge.svg\" alt=\"Open In Colab\"/></a>"
      ]
    },
    {
      "cell_type": "code",
      "execution_count": 1,
      "metadata": {
        "colab": {
          "base_uri": "https://localhost:8080/"
        },
        "id": "G2fYDWnZnrIj",
        "outputId": "541f12db-4556-4a3c-d71e-961ed34bab9d"
      },
      "outputs": [
        {
          "output_type": "stream",
          "name": "stdout",
          "text": [
            "enter the age:25\n",
            "you can vote\n",
            "major\n",
            "enter the variable a or b:a\n",
            "good\n",
            "3rd class\n"
          ]
        }
      ],
      "source": [
        "# conditional statements\n",
        "# if, elif, else\n",
        "\n",
        "# by using if, elif, else\n",
        "age=int(input(\"enter the age:\"))\n",
        "if age>18:\n",
        "    print(\"you can vote\")\n",
        "elif age==18:\n",
        "    print(\"you can vote man!\")\n",
        "else:\n",
        "    print(\"you can't vote\")\n",
        "\n",
        "age=47\n",
        "if age<18:\n",
        "    print(\"minor\")\n",
        "else:\n",
        "    print(\"major\")\n",
        "\n",
        "x=input(\"enter the variable a or b:\")\n",
        "if x =='a':\n",
        "    print(\"good\")\n",
        "elif x =='b':\n",
        "    print(\"nice\")\n",
        "else:\n",
        "    print(\"fine\")\n",
        "\n",
        "\n",
        "# by using if and else\n",
        "per=35\n",
        "if per>80:\n",
        "    print(\"1st class\")\n",
        "elif per >60:\n",
        "    print(\"2nd class\")\n",
        "elif per>=35:\n",
        "    print(\"3rd class\")\n",
        "else:\n",
        "    print(\"fail\")\n"
      ]
    }
  ]
}