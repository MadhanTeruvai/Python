{
  "nbformat": 4,
  "nbformat_minor": 0,
  "metadata": {
    "colab": {
      "provenance": [],
      "authorship_tag": "ABX9TyM9Z6UiNITM7udWNsVN0QAg",
      "include_colab_link": true
    },
    "kernelspec": {
      "name": "python3",
      "display_name": "Python 3"
    },
    "language_info": {
      "name": "python"
    }
  },
  "cells": [
    {
      "cell_type": "markdown",
      "metadata": {
        "id": "view-in-github",
        "colab_type": "text"
      },
      "source": [
        "<a href=\"https://colab.research.google.com/github/MadhanTeruvai/Python/blob/main/Dictionary-4.ipynb\" target=\"_parent\"><img src=\"https://colab.research.google.com/assets/colab-badge.svg\" alt=\"Open In Colab\"/></a>"
      ]
    },
    {
      "cell_type": "code",
      "execution_count": 1,
      "metadata": {
        "colab": {
          "base_uri": "https://localhost:8080/"
        },
        "id": "StDTEXyjcJxQ",
        "outputId": "9365ad46-5668-479c-bc83-43132f336e37"
      },
      "outputs": [
        {
          "output_type": "stream",
          "name": "stdout",
          "text": [
            "<class 'dict'>\n",
            "23\n",
            "24\n",
            "25\n",
            "26\n",
            "dict_keys(['w', 'x', 'y', 'z'])\n",
            "dict_values([23, 24, 25, 26])\n",
            "dict_items([('w', 23), ('x', 24), ('y', 25), ('z', 26)])\n",
            "{'w': 23, 'x': 24, 'y': 25, 'z': 26, 'l': 8}\n",
            "('w', 23)\n",
            "('x', 24)\n",
            "('y', 25)\n",
            "('z', 26)\n",
            "('l', 8)\n"
          ]
        }
      ],
      "source": [
        "# Dictionary{}\n",
        "\n",
        "d={'w':23,'x':24,'y':25,'z':26}\n",
        "print(type(d))\n",
        "\n",
        "# get\n",
        "print(d.get('w'))\n",
        "\n",
        "# get\n",
        "print(d.get('x'))\n",
        "\n",
        "# get\n",
        "print(d.get('y'))\n",
        "\n",
        "# get\n",
        "print(d.get('z'))\n",
        "\n",
        "# keys\n",
        "print(d.keys())\n",
        "\n",
        "# values\n",
        "print(d.values())\n",
        "\n",
        "# items\n",
        "print(d.items())\n",
        "\n",
        "# update\n",
        "d.update({'l':8})\n",
        "print(d)\n",
        "\n",
        "# for loop\n",
        "for i in d.items():\n",
        "    print(i)"
      ]
    }
  ]
}