{
  "nbformat": 4,
  "nbformat_minor": 0,
  "metadata": {
    "colab": {
      "provenance": [],
      "authorship_tag": "ABX9TyPKjH8ASW2EZRut2FwOdqL/",
      "include_colab_link": true
    },
    "kernelspec": {
      "name": "python3",
      "display_name": "Python 3"
    },
    "language_info": {
      "name": "python"
    }
  },
  "cells": [
    {
      "cell_type": "markdown",
      "metadata": {
        "id": "view-in-github",
        "colab_type": "text"
      },
      "source": [
        "<a href=\"https://colab.research.google.com/github/MadhanTeruvai/Python/blob/main/Dictionary_3.ipynb\" target=\"_parent\"><img src=\"https://colab.research.google.com/assets/colab-badge.svg\" alt=\"Open In Colab\"/></a>"
      ]
    },
    {
      "cell_type": "code",
      "execution_count": 7,
      "metadata": {
        "colab": {
          "base_uri": "https://localhost:8080/"
        },
        "id": "A3rXiCljKwKA",
        "outputId": "e08b2621-6240-47ff-a7ca-ee3be7255cb7"
      },
      "outputs": [
        {
          "output_type": "stream",
          "name": "stdout",
          "text": [
            "get(cats): 2\n",
            "get(dog): 1\n",
            "get(rats): 4\n",
            "get(bats): 5\n",
            "get(ants): 10\n",
            "keys: dict_keys(['cats', 'dog', 'rats', 'bats', 'ants'])\n",
            "values dict_values([2, 1, 4, 5, 10])\n",
            "items dict_items([('cats', 2), ('dog', 1), ('rats', 4), ('bats', 5), ('ants', 10)])\n",
            "update {'cats': 2, 'dog': 1, 'rats': 4, 'bats': 5, 'ants': 10, 'crow': 1}\n",
            "the loop for dictionary\n",
            "('cats', 2)\n",
            "('dog', 1)\n",
            "('rats', 4)\n",
            "('bats', 5)\n",
            "('ants', 10)\n",
            "('crow', 1)\n"
          ]
        }
      ],
      "source": [
        "\n",
        "Animals = {\"cats\":2, \"dog\":1, \"rats\":4, \"bats\":5, \"ants\":10}\n",
        "\n",
        "# used to get value cats of specified key\n",
        "print(\"get(cats):\",Animals.get('cats'))\n",
        "\n",
        "# get-dog\n",
        "# used to get value dog of specified key\n",
        "print(\"get(dog):\",Animals.get('dog'))\n",
        "\n",
        "# get-rats\n",
        "# used to get value rats of specified key\n",
        "print(\"get(rats):\",Animals.get('rats'))\n",
        "\n",
        "# get-bats\n",
        "# used to get value bats of specified key\n",
        "print(\"get(bats):\",Animals.get('bats'))\n",
        "\n",
        "# get-ants\n",
        "# used to get value ants of specified key\n",
        "print(\"get(ants):\",Animals.get('ants'))\n",
        "\n",
        "# keys\n",
        "# used to get keys\n",
        "print(\"keys:\",Animals.keys())\n",
        "\n",
        "# values\n",
        "# used to get values\n",
        "print(\"values\",Animals.values())\n",
        "\n",
        "# items\n",
        "# used to get both keys and values\n",
        "print(\"items\",Animals.items())\n",
        "\n",
        "# update\n",
        "# used to add at last of items\n",
        "Animals.update({'crow':1})\n",
        "print(\"update\",Animals)\n",
        "\n",
        "# for loop\n",
        "print(\"the loop for dictionary\")\n",
        "for i in Animals.items():\n",
        "    print(i)"
      ]
    }
  ]
}