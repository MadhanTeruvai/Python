{
  "nbformat": 4,
  "nbformat_minor": 0,
  "metadata": {
    "colab": {
      "provenance": [],
      "authorship_tag": "ABX9TyPUNJfA5glsQZsuqBd8/UzG",
      "include_colab_link": true
    },
    "kernelspec": {
      "name": "python3",
      "display_name": "Python 3"
    },
    "language_info": {
      "name": "python"
    }
  },
  "cells": [
    {
      "cell_type": "markdown",
      "metadata": {
        "id": "view-in-github",
        "colab_type": "text"
      },
      "source": [
        "<a href=\"https://colab.research.google.com/github/MadhanTeruvai/Python/blob/main/Rooman_Practice(15_05_25).ipynb\" target=\"_parent\"><img src=\"https://colab.research.google.com/assets/colab-badge.svg\" alt=\"Open In Colab\"/></a>"
      ]
    },
    {
      "cell_type": "markdown",
      "source": [
        "**List**\n",
        "*list* are just like arrays that can hold different datatypes, It is mutable and flexible where we can't change the values in the list"
      ],
      "metadata": {
        "id": "k1Kx2zqKM5jg"
      }
    },
    {
      "cell_type": "code",
      "execution_count": 7,
      "metadata": {
        "id": "qT5YbUcFMk2y"
      },
      "outputs": [],
      "source": [
        "my_list=['a','b','c','d','e','f','g','h']"
      ]
    },
    {
      "cell_type": "markdown",
      "source": [
        "**append**\n",
        "with help of append the value can be added at the end of the datastructure\n",
        "\n",
        "---\n",
        "**add**\n",
        "with the help of add function we can define at which can be value defined"
      ],
      "metadata": {
        "id": "KTDIX24MRq1q"
      }
    },
    {
      "cell_type": "code",
      "source": [
        "my_list.append('i')\n",
        "print(my_list)"
      ],
      "metadata": {
        "colab": {
          "base_uri": "https://localhost:8080/"
        },
        "id": "oR_xleSGSQ13",
        "outputId": "0ad2295f-1375-418f-b22b-3171a4ac28a4"
      },
      "execution_count": 8,
      "outputs": [
        {
          "output_type": "stream",
          "name": "stdout",
          "text": [
            "['a', 'b', 'c', 'd', 'e', 'f', 'g', 'h', 'i']\n"
          ]
        }
      ]
    },
    {
      "cell_type": "code",
      "source": [
        "print(my_list[0])\n",
        "print(my_list[1])\n",
        "print(my_list[2])\n",
        "print(my_list[3])\n",
        "print(my_list[4])\n",
        "print(my_list[-1])\n",
        "print(my_list[-2])"
      ],
      "metadata": {
        "colab": {
          "base_uri": "https://localhost:8080/"
        },
        "id": "ebY-fCJ7T_UE",
        "outputId": "89b3b462-9662-4f02-948f-60fd043cf7ee"
      },
      "execution_count": 10,
      "outputs": [
        {
          "output_type": "stream",
          "name": "stdout",
          "text": [
            "a\n",
            "b\n",
            "c\n",
            "d\n",
            "e\n",
            "i\n",
            "h\n"
          ]
        }
      ]
    },
    {
      "cell_type": "code",
      "source": [
        "my_list.add('k')\n",
        "print(my_list)"
      ],
      "metadata": {
        "colab": {
          "base_uri": "https://localhost:8080/",
          "height": 163
        },
        "id": "UaOs4BQATFWj",
        "outputId": "f9d5147b-5628-41fe-cdc7-2d7623024ea5"
      },
      "execution_count": 11,
      "outputs": [
        {
          "output_type": "error",
          "ename": "AttributeError",
          "evalue": "'list' object has no attribute 'add'",
          "traceback": [
            "\u001b[0;31m---------------------------------------------------------------------------\u001b[0m",
            "\u001b[0;31mAttributeError\u001b[0m                            Traceback (most recent call last)",
            "\u001b[0;32m<ipython-input-11-ef4e56bd062b>\u001b[0m in \u001b[0;36m<cell line: 0>\u001b[0;34m()\u001b[0m\n\u001b[0;32m----> 1\u001b[0;31m \u001b[0mmy_list\u001b[0m\u001b[0;34m.\u001b[0m\u001b[0madd\u001b[0m\u001b[0;34m(\u001b[0m\u001b[0;34m'k'\u001b[0m\u001b[0;34m)\u001b[0m\u001b[0;34m\u001b[0m\u001b[0;34m\u001b[0m\u001b[0m\n\u001b[0m\u001b[1;32m      2\u001b[0m \u001b[0mprint\u001b[0m\u001b[0;34m(\u001b[0m\u001b[0mmy_list\u001b[0m\u001b[0;34m)\u001b[0m\u001b[0;34m\u001b[0m\u001b[0;34m\u001b[0m\u001b[0m\n",
            "\u001b[0;31mAttributeError\u001b[0m: 'list' object has no attribute 'add'"
          ]
        }
      ]
    },
    {
      "cell_type": "code",
      "source": [
        "student_name = [\"ajay\", \"kiran\", \"sai\", \"Priya\"]\n",
        "print(student_name)\n",
        "print(student_name[0])\n",
        "print(student_name[1])\n",
        "print(student_name[-2])\n",
        "print(student_name[-1])"
      ],
      "metadata": {
        "colab": {
          "base_uri": "https://localhost:8080/"
        },
        "id": "ewp_7CwrVfMW",
        "outputId": "062a7a0d-7b11-4ee2-9a5a-af043cd1ab88"
      },
      "execution_count": 17,
      "outputs": [
        {
          "output_type": "stream",
          "name": "stdout",
          "text": [
            "['ajay', 'kiran', 'sai', 'Priya']\n",
            "ajay\n",
            "kiran\n",
            "sai\n",
            "Priya\n"
          ]
        }
      ]
    },
    {
      "cell_type": "markdown",
      "source": [
        "in python if we not defined the starting value by default it starts for 0 index value\n",
        "\n",
        "because python supports zero based index so that end value will be excuted\n",
        "\n",
        "if we want to print the last index we will let it blank"
      ],
      "metadata": {
        "id": "EuewAmyHcZzm"
      }
    },
    {
      "cell_type": "code",
      "source": [
        "numbers = [0,10,20,30,40,50,60,70,80,90,100]"
      ],
      "metadata": {
        "colab": {
          "base_uri": "https://localhost:8080/"
        },
        "id": "QNKEzQf-dOh_",
        "outputId": "04543710-3ac0-463e-da84-a3241c18a999"
      },
      "execution_count": 19,
      "outputs": [
        {
          "output_type": "stream",
          "name": "stdout",
          "text": [
            "[0, 20, 40, 60, 80]\n",
            "[0, 30, 60, 90]\n"
          ]
        }
      ]
    },
    {
      "cell_type": "code",
      "source": [
        "print(numbers[0:9:2])"
      ],
      "metadata": {
        "id": "4bEPDpq8eaMD"
      },
      "execution_count": null,
      "outputs": []
    },
    {
      "cell_type": "code",
      "source": [
        "print(numbers[::3])"
      ],
      "metadata": {
        "id": "aLxSObl5ecLi"
      },
      "execution_count": null,
      "outputs": []
    },
    {
      "cell_type": "code",
      "source": [
        "print(numbers[-1:-9:-2])"
      ],
      "metadata": {
        "colab": {
          "base_uri": "https://localhost:8080/"
        },
        "id": "mFD3rbh6egMq",
        "outputId": "9132d81e-3681-4668-b6f0-6c7dd76b6f4b"
      },
      "execution_count": 25,
      "outputs": [
        {
          "output_type": "stream",
          "name": "stdout",
          "text": [
            "[90, 70, 50, 30]\n"
          ]
        }
      ]
    },
    {
      "cell_type": "code",
      "source": [
        "print(numbers[10:1:-2])"
      ],
      "metadata": {
        "colab": {
          "base_uri": "https://localhost:8080/"
        },
        "id": "2To5zEh2fA1P",
        "outputId": "8497ccc0-ccac-450a-f5bb-bbd88d5cbdac"
      },
      "execution_count": 26,
      "outputs": [
        {
          "output_type": "stream",
          "name": "stdout",
          "text": [
            "[90, 70, 50, 30]\n"
          ]
        }
      ]
    }
  ]
}