{
  "nbformat": 4,
  "nbformat_minor": 0,
  "metadata": {
    "colab": {
      "provenance": [],
      "authorship_tag": "ABX9TyNcj5RdqbfkJBmUIztNM+XQ",
      "include_colab_link": true
    },
    "kernelspec": {
      "name": "python3",
      "display_name": "Python 3"
    },
    "language_info": {
      "name": "python"
    }
  },
  "cells": [
    {
      "cell_type": "markdown",
      "metadata": {
        "id": "view-in-github",
        "colab_type": "text"
      },
      "source": [
        "<a href=\"https://colab.research.google.com/github/MadhanTeruvai/Python/blob/main/Syntax_Function.ipynb\" target=\"_parent\"><img src=\"https://colab.research.google.com/assets/colab-badge.svg\" alt=\"Open In Colab\"/></a>"
      ]
    },
    {
      "cell_type": "code",
      "execution_count": 17,
      "metadata": {
        "colab": {
          "base_uri": "https://localhost:8080/"
        },
        "id": "0XAtWmmFpiAx",
        "outputId": "a85f4cec-5a9b-47c7-e25b-14e1f77e3de7"
      },
      "outputs": [
        {
          "output_type": "stream",
          "name": "stdout",
          "text": [
            "\n",
            "Hello!\n",
            "\tI Am Madhan\n",
            "\tNice To Meet You\n",
            "\n",
            "Hello!\n",
            "\tI Am Madhan\n",
            "\tNice To Meet You\n",
            "\n",
            "Hello!\n",
            "\tI Am Madhan\n",
            "\tNice To Meet You\n",
            "\n",
            "Hello!\n",
            "\tI Am Madhan\n",
            "\tNice To Meet You\n"
          ]
        }
      ],
      "source": [
        "def func():\n",
        "    print(\"\\nHello!\")\n",
        "    print(\"\\tI Am Madhan\")\n",
        "    print(\"\\tNice To Meet You\")\n",
        "\n",
        "func()\n",
        "func()\n",
        "func()\n",
        "func()"
      ]
    }
  ]
}