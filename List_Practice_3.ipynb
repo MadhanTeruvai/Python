{
  "nbformat": 4,
  "nbformat_minor": 0,
  "metadata": {
    "colab": {
      "provenance": [],
      "authorship_tag": "ABX9TyNlukXFW4MzotmU2JWu3FaO",
      "include_colab_link": true
    },
    "kernelspec": {
      "name": "python3",
      "display_name": "Python 3"
    },
    "language_info": {
      "name": "python"
    }
  },
  "cells": [
    {
      "cell_type": "markdown",
      "metadata": {
        "id": "view-in-github",
        "colab_type": "text"
      },
      "source": [
        "<a href=\"https://colab.research.google.com/github/MadhanTeruvai/Python/blob/main/List_Practice_3.ipynb\" target=\"_parent\"><img src=\"https://colab.research.google.com/assets/colab-badge.svg\" alt=\"Open In Colab\"/></a>"
      ]
    },
    {
      "cell_type": "code",
      "execution_count": 4,
      "metadata": {
        "colab": {
          "base_uri": "https://localhost:8080/"
        },
        "id": "2LVgd0ZYwAWU",
        "outputId": "c877b9f0-1e51-45ba-f68c-30d426820a81"
      },
      "outputs": [
        {
          "output_type": "stream",
          "name": "stdout",
          "text": [
            "List of Values: \n",
            "[1, 2, 3, 6, 7, 8]\n",
            "The Value of Sum is:  27\n",
            "Enter the value to multiply with sum : 7\n",
            "Enter the value to division with sum : 3\n",
            "Multiplication of sum =  189\n",
            "Division of sum =  9.0\n"
          ]
        }
      ],
      "source": [
        "list = [8,7,3,1,6,2]\n",
        "sum = 0\n",
        "sum += list[0]\n",
        "sum += list[1]\n",
        "sum += list[2]\n",
        "sum += list[3]\n",
        "sum += list[4]\n",
        "sum += list[5]\n",
        "\n",
        "print(\"List of Values: \")\n",
        "list.sort()\n",
        "print(list)\n",
        "print(\"The Value of Sum is: \", sum)\n",
        "a = int(input(\"Enter the value to multiply with sum : \"))\n",
        "b = int(input(\"Enter the value to division with sum : \"))\n",
        "print(\"Multiplication of sum = \", a * sum)\n",
        "print(\"Division of sum = \", sum / b)"
      ]
    }
  ]
}