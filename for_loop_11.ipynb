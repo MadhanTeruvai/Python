{
  "nbformat": 4,
  "nbformat_minor": 0,
  "metadata": {
    "colab": {
      "provenance": [],
      "authorship_tag": "ABX9TyPDhMrd0zNDOKMt87fvpk5G",
      "include_colab_link": true
    },
    "kernelspec": {
      "name": "python3",
      "display_name": "Python 3"
    },
    "language_info": {
      "name": "python"
    }
  },
  "cells": [
    {
      "cell_type": "markdown",
      "metadata": {
        "id": "view-in-github",
        "colab_type": "text"
      },
      "source": [
        "<a href=\"https://colab.research.google.com/github/MadhanTeruvai/Python/blob/main/for_loop_11.ipynb\" target=\"_parent\"><img src=\"https://colab.research.google.com/assets/colab-badge.svg\" alt=\"Open In Colab\"/></a>"
      ]
    },
    {
      "cell_type": "code",
      "execution_count": 50,
      "metadata": {
        "colab": {
          "base_uri": "https://localhost:8080/"
        },
        "id": "6sdpoM4Sbyi_",
        "outputId": "59866d70-92b3-4bfc-fde0-41d8beab2b2a"
      },
      "outputs": [
        {
          "output_type": "stream",
          "name": "stdout",
          "text": [
            "creating square by using for loop\n",
            "00102030405060708090\n",
            "01112131415161718191\n",
            "02122232425262728292\n",
            "03132333435363738393\n",
            "04142434445464748494\n",
            "05152535455565758595\n",
            "06162636465666768696\n",
            "07172737475767778797\n",
            "08182838485868788898\n",
            "09192939495969798999\n",
            "\n",
            "creating full pyramid by using for loop\n",
            "\n",
            "@#\n",
            "@#@#\n",
            "@#@#@#\n",
            "@#@#@#@#\n",
            "@#@#@#@#@#\n",
            "@#@#@#@#@#@#\n",
            "@#@#@#@#@#@#@#\n",
            "@#@#@#@#@#@#@#@#\n",
            "@#@#@#@#@#@#@#@#@#\n",
            "\n",
            "creating left half pyramid by using for loop\n",
            "                    \n",
            "                   &\n",
            "                  &&\n",
            "                 &&&\n",
            "                &&&&\n",
            "               &&&&&\n",
            "              &&&&&&\n",
            "             &&&&&&&\n",
            "            &&&&&&&&\n",
            "           &&&&&&&&&\n",
            "          &&&&&&&&&&\n",
            "         &&&&&&&&&&&\n",
            "        &&&&&&&&&&&&\n",
            "       &&&&&&&&&&&&&\n",
            "      &&&&&&&&&&&&&&\n",
            "     &&&&&&&&&&&&&&&\n",
            "    &&&&&&&&&&&&&&&&\n",
            "   &&&&&&&&&&&&&&&&&\n",
            "  &&&&&&&&&&&&&&&&&&\n",
            " &&&&&&&&&&&&&&&&&&&\n"
          ]
        }
      ],
      "source": [
        "print(\"creating square by using for loop\")\n",
        "for i in range(10):\n",
        "    for j in range(10):\n",
        "        print(j,end=\"\")\n",
        "        print(i,end=\"\")\n",
        "    print()\n",
        "print()\n",
        "print(\"creating full pyramid by using for loop\")\n",
        "for i in range(10):\n",
        "   for j in range(i):\n",
        "      print(\"@\",end=\"\")\n",
        "      print(\"#\",end=\"\")\n",
        "   print()\n",
        "print()\n",
        "print(\"creating left half pyramid by using for loop\")\n",
        "for i in range(20):\n",
        "   for j in range(20-i):\n",
        "      print(\"\",end=\" \")\n",
        "   for k in range(i):\n",
        "      print(\"&\",end=\"\")\n",
        "   print()"
      ]
    }
  ]
}