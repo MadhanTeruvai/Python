{
  "nbformat": 4,
  "nbformat_minor": 0,
  "metadata": {
    "colab": {
      "provenance": [],
      "authorship_tag": "ABX9TyPLCr923U2z6QbWLf3IJbLH",
      "include_colab_link": true
    },
    "kernelspec": {
      "name": "python3",
      "display_name": "Python 3"
    },
    "language_info": {
      "name": "python"
    }
  },
  "cells": [
    {
      "cell_type": "markdown",
      "metadata": {
        "id": "view-in-github",
        "colab_type": "text"
      },
      "source": [
        "<a href=\"https://colab.research.google.com/github/MadhanTeruvai/Python/blob/main/While_loop_10.ipynb\" target=\"_parent\"><img src=\"https://colab.research.google.com/assets/colab-badge.svg\" alt=\"Open In Colab\"/></a>"
      ]
    },
    {
      "cell_type": "code",
      "execution_count": 11,
      "metadata": {
        "colab": {
          "base_uri": "https://localhost:8080/"
        },
        "id": "bZ95ySENmg6Z",
        "outputId": "2e815d1b-edd8-4302-ea5b-6935329adfe5"
      },
      "outputs": [
        {
          "output_type": "stream",
          "name": "stdout",
          "text": [
            "2\n",
            "4\n",
            "6\n",
            "8\n",
            "10\n",
            "12\n",
            "14\n",
            "16\n",
            "18\n",
            "20\n",
            "\n",
            "Guess the number (1-10): 6\n",
            "Too high\n",
            "Guess the number (1-10): 4\n",
            "Too low\n",
            "Guess the number (1-10): 5\n",
            "Correct! The number was 5\n",
            "\n",
            "Enter amount to withdraw: 500\n",
            "Withdraw 500.0. New balance: 600.0\n",
            "Enter amount to withdraw: 600\n",
            "Withdraw 600.0. New balance: 0.0\n",
            "No Balance\n"
          ]
        }
      ],
      "source": [
        "\n",
        "# Print only even numbers from 1 to 20\n",
        "num = 0\n",
        "while num < 20:\n",
        "    num += 1\n",
        "    if num % 2:\n",
        "        continue\n",
        "    print(num)\n",
        "print()\n",
        "\n",
        "# Guess the number game\n",
        "secret = 5\n",
        "guess = 0\n",
        "while guess != secret:\n",
        "    guess = int(input(\"Guess the number (1-10): \"))\n",
        "    if guess < secret:\n",
        "        print(\"Too low\")\n",
        "    elif guess > secret:\n",
        "        print(\"Too high\")\n",
        "print(\"Correct! The number was\", secret)\n",
        "print()\n",
        "\n",
        "# Withdraw money until balance is insufficient\n",
        "balance = 1100\n",
        "while balance > 0:\n",
        "    withdrawal = float(input(\"Enter amount to withdraw: \"))\n",
        "    if withdrawal > balance:\n",
        "        print(\"Insufficient funds!\")\n",
        "    else:\n",
        "        balance -= withdrawal\n",
        "        print(f\"Withdraw {withdrawal}. New balance: {balance}\")\n",
        "    if balance == 0:\n",
        "        print(\"No Balance\")\n",
        "        break"
      ]
    }
  ]
}