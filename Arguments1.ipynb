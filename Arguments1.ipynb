{
  "nbformat": 4,
  "nbformat_minor": 0,
  "metadata": {
    "colab": {
      "provenance": [],
      "authorship_tag": "ABX9TyODYcJKbQ5WkLcDJ07Wj48I",
      "include_colab_link": true
    },
    "kernelspec": {
      "name": "python3",
      "display_name": "Python 3"
    },
    "language_info": {
      "name": "python"
    }
  },
  "cells": [
    {
      "cell_type": "markdown",
      "metadata": {
        "id": "view-in-github",
        "colab_type": "text"
      },
      "source": [
        "<a href=\"https://colab.research.google.com/github/MadhanTeruvai/Python/blob/main/Arguments1.ipynb\" target=\"_parent\"><img src=\"https://colab.research.google.com/assets/colab-badge.svg\" alt=\"Open In Colab\"/></a>"
      ]
    },
    {
      "cell_type": "markdown",
      "source": [
        "# Positional Arugment"
      ],
      "metadata": {
        "id": "2xervIIWGghk"
      }
    },
    {
      "cell_type": "code",
      "source": [
        "def jk(a,b):\n",
        "    kj = a+b\n",
        "    print(kj)\n",
        "\n",
        "jk(89,75)\n",
        "jk(67,9)"
      ],
      "metadata": {
        "colab": {
          "base_uri": "https://localhost:8080/"
        },
        "id": "7IpEmb8WIM5N",
        "outputId": "4da8ee41-6155-4adc-e053-d53ccdf25706"
      },
      "execution_count": 29,
      "outputs": [
        {
          "output_type": "stream",
          "name": "stdout",
          "text": [
            "164\n",
            "76\n"
          ]
        }
      ]
    },
    {
      "cell_type": "markdown",
      "source": [
        "# Keyword argument"
      ],
      "metadata": {
        "id": "2VeidOo5Gfoa"
      }
    },
    {
      "cell_type": "code",
      "source": [
        "def info(name,gender,age):\n",
        "    print(f'Name of the person is {name} \\ngender as {gender} with an age of {age} old')\n",
        "\n",
        "info(name=\"Madhan\",age=25,gender=\"Male\")\n",
        "print()\n",
        "info(\"Madhan\",25,\"Male\")"
      ],
      "metadata": {
        "colab": {
          "base_uri": "https://localhost:8080/"
        },
        "id": "tnFTkDBoNEos",
        "outputId": "46d07613-837a-42dc-d8d6-7f75f4131c72"
      },
      "execution_count": 44,
      "outputs": [
        {
          "output_type": "stream",
          "name": "stdout",
          "text": [
            "Name of the person is Madhan \n",
            "gender as Male with an age of 25 old\n",
            "\n",
            "Name of the person is Madhan \n",
            "gender as 25 with an age of Male old\n"
          ]
        }
      ]
    },
    {
      "cell_type": "markdown",
      "source": [
        "#Default argument"
      ],
      "metadata": {
        "id": "ZdyJZ31KOw9p"
      }
    },
    {
      "cell_type": "code",
      "source": [
        "def D(tittle,source=\"Youtube\"):\n",
        "    print(tittle,source)\n",
        "\n",
        "D(tittle=\"python\",source=\"Udemy\")\n",
        "print()\n",
        "D(tittle=\"python\")"
      ],
      "metadata": {
        "colab": {
          "base_uri": "https://localhost:8080/"
        },
        "id": "tq-NX4KLPJLI",
        "outputId": "c7731a3a-0549-40d6-9d36-9d61603fcb67"
      },
      "execution_count": 47,
      "outputs": [
        {
          "output_type": "stream",
          "name": "stdout",
          "text": [
            "python Udemy\n",
            "\n",
            "python Youtube\n"
          ]
        }
      ]
    },
    {
      "cell_type": "markdown",
      "source": [
        "#Variable Positional / Length Argument"
      ],
      "metadata": {
        "id": "wqfCY0lwQocX"
      }
    },
    {
      "cell_type": "code",
      "source": [
        "def sample(*x):\n",
        "    s = sum(x)\n",
        "    print(s)\n",
        "\n",
        "sample(23,25,27,28,29)\n",
        "sample(75,11,43,98)\n",
        "sample(88,9)\n",
        "sample(78,99,55,34,22,56,80)"
      ],
      "metadata": {
        "colab": {
          "base_uri": "https://localhost:8080/"
        },
        "id": "0j2X9_piQowU",
        "outputId": "12bfd2df-5cc0-4295-c5a8-a5dc54d86009"
      },
      "execution_count": 49,
      "outputs": [
        {
          "output_type": "stream",
          "name": "stdout",
          "text": [
            "132\n",
            "227\n",
            "97\n",
            "424\n"
          ]
        }
      ]
    },
    {
      "cell_type": "markdown",
      "source": [
        "#Variable keyword argument"
      ],
      "metadata": {
        "id": "aziO_SrNR4nJ"
      }
    },
    {
      "cell_type": "code",
      "source": [
        "def marks(**x):\n",
        "    print(x)\n",
        "\n",
        "marks(Telugu=78,Hindi=78,English=96,Maths=94,Science=90,Social=80)"
      ],
      "metadata": {
        "colab": {
          "base_uri": "https://localhost:8080/"
        },
        "id": "ivrUWO6TSC-a",
        "outputId": "6aa94b21-f6a6-461e-9f8d-6821dbad1a1b"
      },
      "execution_count": 51,
      "outputs": [
        {
          "output_type": "stream",
          "name": "stdout",
          "text": [
            "{'Telugu': 78, 'Hindi': 78, 'English': 96, 'Maths': 94, 'Science': 90, 'Social': 80}\n"
          ]
        }
      ]
    }
  ]
}