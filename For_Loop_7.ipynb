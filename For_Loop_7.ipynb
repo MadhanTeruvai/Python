{
  "nbformat": 4,
  "nbformat_minor": 0,
  "metadata": {
    "colab": {
      "provenance": [],
      "authorship_tag": "ABX9TyOcDtCukDKUiM4RpmSr0EJt",
      "include_colab_link": true
    },
    "kernelspec": {
      "name": "python3",
      "display_name": "Python 3"
    },
    "language_info": {
      "name": "python"
    }
  },
  "cells": [
    {
      "cell_type": "markdown",
      "metadata": {
        "id": "view-in-github",
        "colab_type": "text"
      },
      "source": [
        "<a href=\"https://colab.research.google.com/github/MadhanTeruvai/Python/blob/main/For_Loop_7.ipynb\" target=\"_parent\"><img src=\"https://colab.research.google.com/assets/colab-badge.svg\" alt=\"Open In Colab\"/></a>"
      ]
    },
    {
      "cell_type": "code",
      "execution_count": 2,
      "metadata": {
        "colab": {
          "base_uri": "https://localhost:8080/"
        },
        "id": "CTNFG9cLO_8Q",
        "outputId": "301c0b5a-1360-4950-a125-2b3792854230"
      },
      "outputs": [
        {
          "output_type": "stream",
          "name": "stdout",
          "text": [
            "Range of 4\n",
            "0\n",
            "1\n",
            "2\n",
            "3\n",
            "\n",
            "Range from 4 to 20 with skip of 4\n",
            "4\n",
            "8\n",
            "12\n",
            "16\n",
            "\n",
            "Range from 5 to 11\n",
            "5\n",
            "6\n",
            "7\n",
            "8\n",
            "9\n",
            "10\n",
            "\n",
            "odd numbers range from 0 to 51 with skip of 5\n",
            "0\n",
            "5\n",
            "10\n",
            "15\n",
            "20\n",
            "25\n",
            "30\n",
            "35\n",
            "40\n",
            "45\n",
            "\n",
            "Print of character 'In Iceland'\n",
            "I\n",
            "n\n",
            " \n",
            "I\n",
            "c\n",
            "e\n",
            "l\n",
            "a\n",
            "n\n",
            "d\n",
            "\n",
            "print of character that had been entered\n",
            "enter the string characters: Engineer\n",
            "E\n",
            "n\n",
            "g\n",
            "i\n",
            "n\n",
            "e\n",
            "e\n",
            "r\n"
          ]
        }
      ],
      "source": [
        "# for loop\n",
        "print(\"Range of 4\")\n",
        "for number1 in range(4):\n",
        "   print(number1)\n",
        "\n",
        "print(\"\\nRange from 4 to 20 with skip of 4\")\n",
        "for number2 in range(4,20,4):\n",
        "   print(number2)\n",
        "\n",
        "print(\"\\nRange from 5 to 11\")\n",
        "for number3 in range(5,11):\n",
        "   print(number3)\n",
        "\n",
        "print(\"\\nodd numbers range from 0 to 51 with skip of 5\")\n",
        "for odd_numbers in range(0,50,5):\n",
        "   print(odd_numbers)\n",
        "\n",
        "print(\"\\nPrint of character 'In Iceland'\")\n",
        "for characters in (\"In Iceland\"):\n",
        "   print(characters)\n",
        "\n",
        "print(\"\\nprint of character that had been entered\")\n",
        "for characters2 in (input(\"enter the string characters: \")):\n",
        "   print(characters2)"
      ]
    }
  ]
}