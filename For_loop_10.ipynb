{
  "nbformat": 4,
  "nbformat_minor": 0,
  "metadata": {
    "colab": {
      "provenance": [],
      "authorship_tag": "ABX9TyMhKXEPI1maOjNBKsYbrJZa",
      "include_colab_link": true
    },
    "kernelspec": {
      "name": "python3",
      "display_name": "Python 3"
    },
    "language_info": {
      "name": "python"
    }
  },
  "cells": [
    {
      "cell_type": "markdown",
      "metadata": {
        "id": "view-in-github",
        "colab_type": "text"
      },
      "source": [
        "<a href=\"https://colab.research.google.com/github/MadhanTeruvai/Python/blob/main/For_loop_10.ipynb\" target=\"_parent\"><img src=\"https://colab.research.google.com/assets/colab-badge.svg\" alt=\"Open In Colab\"/></a>"
      ]
    },
    {
      "cell_type": "code",
      "execution_count": 12,
      "metadata": {
        "id": "Pu5OQliRLU2_",
        "colab": {
          "base_uri": "https://localhost:8080/"
        },
        "outputId": "cb9a5852-51cb-452e-e2cf-24cc5fbdfdf4"
      },
      "outputs": [
        {
          "output_type": "stream",
          "name": "stdout",
          "text": [
            "Creating Obtuse angle by using for loop\n",
            "\n",
            " $ \n",
            "  $ $ \n",
            "   $ $ $ \n",
            "    $ $ $ $ \n",
            "     $ $ $ $ $ \n",
            "      $ $ $ $ $ $ \n",
            "       $ $ $ $ $ $ $ \n",
            "        $ $ $ $ $ $ $ $ \n",
            "         $ $ $ $ $ $ $ $ $ \n",
            "          $ $ $ $ $ $ $ $ $ $ \n",
            "           $ $ $ $ $ $ $ $ $ $ $ \n",
            "\n",
            "\n",
            "Creating half pyramid by using for loop\n",
            "                \n",
            "               $\n",
            "              $$\n",
            "             $$$\n",
            "            $$$$\n",
            "           $$$$$\n",
            "          $$$$$$\n",
            "         $$$$$$$\n",
            "        $$$$$$$$\n",
            "       $$$$$$$$$\n",
            "      $$$$$$$$$$\n",
            "     $$$$$$$$$$$\n",
            "    $$$$$$$$$$$$\n",
            "   $$$$$$$$$$$$$\n",
            "  $$$$$$$$$$$$$$\n",
            " $$$$$$$$$$$$$$$\n",
            "\n",
            "\n",
            "Creating half pyramid by using for loop\n",
            "enter the value16\n",
            "                \n",
            "                $\n",
            "               $ $\n",
            "              $ $ $\n",
            "             $ $ $ $\n",
            "            $ $ $ $ $\n",
            "           $ $ $ $ $ $\n",
            "          $ $ $ $ $ $ $\n",
            "         $ $ $ $ $ $ $ $\n",
            "        $ $ $ $ $ $ $ $ $\n",
            "       $ $ $ $ $ $ $ $ $ $\n",
            "      $ $ $ $ $ $ $ $ $ $ $\n",
            "     $ $ $ $ $ $ $ $ $ $ $ $\n",
            "    $ $ $ $ $ $ $ $ $ $ $ $ $\n",
            "   $ $ $ $ $ $ $ $ $ $ $ $ $ $\n",
            "  $ $ $ $ $ $ $ $ $ $ $ $ $ $ $\n"
          ]
        }
      ],
      "source": [
        "# For Loop\n",
        "print(\"Creating Obtuse angle by using for loop\")\n",
        "for i in range(12):\n",
        "    for j in range(1,1+i):\n",
        "        print(\" \",end=\"\")\n",
        "    for k in range(i):\n",
        "        print(\"$ \",end=\"\")\n",
        "    print()\n",
        "print()\n",
        "print()\n",
        "\n",
        "print(\"Creating half pyramid by using for loop\")\n",
        "for i in range(16):\n",
        "    for j in range(16-i):\n",
        "        print(\"\",end=\" \")\n",
        "    for k in range(i):\n",
        "        print(\"$\",end=\"\")\n",
        "    print()\n",
        "print()\n",
        "print()\n",
        "print(\"Creating Full pyramid by using for loop\")\n",
        "a=int(input(\"enter the value\"))\n",
        "for i in range(a):\n",
        "    for j in range(a-i):\n",
        "        print(\"\",end=\" \")\n",
        "    for k in range(i):\n",
        "        print(\" $\",end=\"\")\n",
        "    print()"
      ]
    }
  ]
}