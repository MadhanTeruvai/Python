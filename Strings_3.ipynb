{
  "nbformat": 4,
  "nbformat_minor": 0,
  "metadata": {
    "colab": {
      "provenance": [],
      "authorship_tag": "ABX9TyNTxsPMP3UknEgJUFUV0goD",
      "include_colab_link": true
    },
    "kernelspec": {
      "name": "python3",
      "display_name": "Python 3"
    },
    "language_info": {
      "name": "python"
    }
  },
  "cells": [
    {
      "cell_type": "markdown",
      "metadata": {
        "id": "view-in-github",
        "colab_type": "text"
      },
      "source": [
        "<a href=\"https://colab.research.google.com/github/MadhanTeruvai/Python/blob/main/Strings_3.ipynb\" target=\"_parent\"><img src=\"https://colab.research.google.com/assets/colab-badge.svg\" alt=\"Open In Colab\"/></a>"
      ]
    },
    {
      "cell_type": "code",
      "execution_count": 4,
      "metadata": {
        "colab": {
          "base_uri": "https://localhost:8080/"
        },
        "id": "hVw1ZOmLa0re",
        "outputId": "863db482-8c15-4ad6-8fe6-076bb5e9ade7"
      },
      "outputs": [
        {
          "output_type": "stream",
          "name": "stdout",
          "text": [
            "My name is Madhan and I am 25 years old.\n",
            "True\n",
            "True\n",
            "False\n",
            "True\n",
            "False\n",
            "['apple', 'banana', 'orange']\n",
            "apple-banana-orange\n"
          ]
        }
      ],
      "source": [
        "\n",
        "# String\n",
        "name = \"Madhan\"\n",
        "age = 25\n",
        "message = f\"My name is {name} and I am {age} years old.\"\n",
        "print(message)\n",
        "\n",
        "sentence = \"Python Is An Highlevel language\"\n",
        "print(\"Python\" in sentence)\n",
        "print(sentence.startswith(\"Pyth\"))\n",
        "print(sentence.startswith(\"I\"))\n",
        "print(sentence.endswith(\"e\"))\n",
        "print(sentence.endswith(\"Python\"))\n",
        "\n",
        "# Splitting a string into a list\n",
        "fruits = \"apple,banana,orange\"\n",
        "fruit_list = fruits.split(\",\")\n",
        "print(fruit_list)\n",
        "\n",
        "# Joining a list into a string\n",
        "joined_fruits = \"-\".join(fruit_list)\n",
        "print(joined_fruits)"
      ]
    }
  ]
}