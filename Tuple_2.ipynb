{
  "nbformat": 4,
  "nbformat_minor": 0,
  "metadata": {
    "colab": {
      "provenance": [],
      "authorship_tag": "ABX9TyPz2iY7jo1czyNXyqo7K8fS",
      "include_colab_link": true
    },
    "kernelspec": {
      "name": "python3",
      "display_name": "Python 3"
    },
    "language_info": {
      "name": "python"
    }
  },
  "cells": [
    {
      "cell_type": "markdown",
      "metadata": {
        "id": "view-in-github",
        "colab_type": "text"
      },
      "source": [
        "<a href=\"https://colab.research.google.com/github/MadhanTeruvai/Python/blob/main/Tuple_2.ipynb\" target=\"_parent\"><img src=\"https://colab.research.google.com/assets/colab-badge.svg\" alt=\"Open In Colab\"/></a>"
      ]
    },
    {
      "cell_type": "code",
      "execution_count": 1,
      "metadata": {
        "colab": {
          "base_uri": "https://localhost:8080/"
        },
        "id": "bmpTiddCl1Jb",
        "outputId": "49451ec6-c4d2-48c8-f03a-77d388bae261"
      },
      "outputs": [
        {
          "output_type": "stream",
          "name": "stdout",
          "text": [
            "(1, 2, 3, 4, 5, 2, 3, 4, 6, 7)\n",
            "1\n",
            "2\n",
            "3\n",
            "4\n",
            "5\n",
            "False\n",
            "True\n",
            "(1, 2, 3, 4, 5, 1, 2, 3, 4, 5)\n"
          ]
        }
      ],
      "source": [
        "                    # Tuple()\n",
        "c=(1,2,3,4,5)\n",
        "b=(2,3,4,6,7)\n",
        "\n",
        "# concatenation\n",
        "print(c+b)\n",
        "\n",
        "# iteration\n",
        "for i in c:\n",
        "    print(i)\n",
        "\n",
        "# membership operations\n",
        "print(11 in c)\n",
        "print(6 in b)\n",
        "\n",
        "# repeation\n",
        "print(c*2)\n"
      ]
    }
  ]
}