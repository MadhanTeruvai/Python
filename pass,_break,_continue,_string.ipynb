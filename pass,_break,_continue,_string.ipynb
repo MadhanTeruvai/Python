{
  "nbformat": 4,
  "nbformat_minor": 0,
  "metadata": {
    "colab": {
      "provenance": [],
      "authorship_tag": "ABX9TyPEqK9avJ7Xvux+W/Wl7/PQ",
      "include_colab_link": true
    },
    "kernelspec": {
      "name": "python3",
      "display_name": "Python 3"
    },
    "language_info": {
      "name": "python"
    }
  },
  "cells": [
    {
      "cell_type": "markdown",
      "metadata": {
        "id": "view-in-github",
        "colab_type": "text"
      },
      "source": [
        "<a href=\"https://colab.research.google.com/github/MadhanTeruvai/Python/blob/main/pass%2C_break%2C_continue%2C_string.ipynb\" target=\"_parent\"><img src=\"https://colab.research.google.com/assets/colab-badge.svg\" alt=\"Open In Colab\"/></a>"
      ]
    },
    {
      "cell_type": "code",
      "execution_count": null,
      "metadata": {
        "id": "fIYcGQVpt0m0"
      },
      "outputs": [],
      "source": [
        "# '''\n",
        "# pass\n",
        "# break\n",
        "# continue\n",
        "# '''\n",
        "\n",
        "# pass\n",
        "a=65\n",
        "pass\n",
        "\n",
        "# break\n",
        "for i in \"goodman\":\n",
        "    if i=='m':\n",
        "        break\n",
        "    print(i)\n",
        "\n",
        "# continue\n",
        "for i in \"goodman\":\n",
        "    if i=='m':\n",
        "        continue\n",
        "    print(i)\n",
        "\n",
        "'''\n",
        "String\n",
        "'''\n",
        "\n",
        "# upper\n",
        "a=\"python language\"\n",
        "print(a.upper())\n",
        "\n",
        "# lower\n",
        "a=\"PYTHON LANGUAGE\"\n",
        "print(a.lower())\n",
        "\n",
        "# endswith\n",
        "a=\"python language\"\n",
        "print(a.endswith('age'))\n",
        "\n",
        "# startswith\n",
        "a='python language'\n",
        "print(a.startswith('py'))\n",
        "\n",
        "# replace\n",
        "a=\"PYTHON LANGUAGE\"\n",
        "print(a.replace('LANGUAGE','PROGRAMMING'))\n",
        "\n",
        "# count\n",
        "a=\"python language\"\n",
        "print(a.count('a'))\n",
        "\n",
        "# remove suffix\n",
        "a=\"python language\"\n",
        "print(a.removesuffix('age'))\n",
        "\n",
        "# remove prefix\n",
        "a=\"python language\"\n",
        "print(a.removeprefix('py'))\n",
        "\n",
        "# strip\n",
        "a=\"   python language   \" # a is assigning to text    python language\n",
        "print(len(a)) ## we only print the length of a   length = 21\n",
        "b=a.lstrip() # b is assining to a with lstrip\n",
        "print(b)\n",
        "print(len(b))"
      ]
    }
  ]
}