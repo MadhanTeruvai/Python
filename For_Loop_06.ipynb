{
  "nbformat": 4,
  "nbformat_minor": 0,
  "metadata": {
    "colab": {
      "provenance": [],
      "authorship_tag": "ABX9TyMZEUM33WV8Y1j4aq2yDaqj",
      "include_colab_link": true
    },
    "kernelspec": {
      "name": "python3",
      "display_name": "Python 3"
    },
    "language_info": {
      "name": "python"
    }
  },
  "cells": [
    {
      "cell_type": "markdown",
      "metadata": {
        "id": "view-in-github",
        "colab_type": "text"
      },
      "source": [
        "<a href=\"https://colab.research.google.com/github/MadhanTeruvai/Python/blob/main/For_Loop_06.ipynb\" target=\"_parent\"><img src=\"https://colab.research.google.com/assets/colab-badge.svg\" alt=\"Open In Colab\"/></a>"
      ]
    },
    {
      "cell_type": "code",
      "execution_count": 7,
      "metadata": {
        "colab": {
          "base_uri": "https://localhost:8080/"
        },
        "id": "8SEQVVYu6f4Q",
        "outputId": "ec1a5dbd-e69a-4a19-8276-8e62ce33e2f5"
      },
      "outputs": [
        {
          "output_type": "stream",
          "name": "stdout",
          "text": [
            "Range of 6\n",
            "0\n",
            "1\n",
            "2\n",
            "3\n",
            "4\n",
            "5\n",
            "\n",
            "Range from 2 to 14 with skip of 2\n",
            "2\n",
            "4\n",
            "6\n",
            "8\n",
            "10\n",
            "12\n",
            "\n",
            "Range from 3 to 12\n",
            "3\n",
            "4\n",
            "5\n",
            "6\n",
            "7\n",
            "8\n",
            "9\n",
            "10\n",
            "11\n",
            "\n",
            "odd numbers range from 1 to 30 with skip of 2\n",
            "1\n",
            "3\n",
            "5\n",
            "7\n",
            "9\n",
            "11\n",
            "13\n",
            "15\n",
            "17\n",
            "19\n",
            "21\n",
            "23\n",
            "25\n",
            "27\n",
            "29\n",
            "\n",
            "Print of character 'python'\n",
            "P\n",
            "y\n",
            "t\n",
            "h\n",
            "o\n",
            "n\n",
            "\n",
            "print of character that had been entered\n",
            "enter the string characters: Understanding The Concept Is Best\n",
            "U\n",
            "n\n",
            "d\n",
            "e\n",
            "r\n",
            "s\n",
            "t\n",
            "a\n",
            "n\n",
            "d\n",
            "i\n",
            "n\n",
            "g\n",
            " \n",
            "T\n",
            "h\n",
            "e\n",
            " \n",
            "C\n",
            "o\n",
            "n\n",
            "c\n",
            "e\n",
            "p\n",
            "t\n",
            " \n",
            "I\n",
            "s\n",
            " \n",
            "B\n",
            "e\n",
            "s\n",
            "t\n"
          ]
        }
      ],
      "source": [
        "# for loop\n",
        "print(\"Range of 6\")\n",
        "for number1 in range(6):\n",
        "   print(number1)\n",
        "\n",
        "print(\"\\nRange from 2 to 14 with skip of 2\")\n",
        "for number2 in range(2,14,2):\n",
        "   print(number2)\n",
        "\n",
        "print(\"\\nRange from 3 to 12\")\n",
        "for number3 in range(3,12):\n",
        "   print(number3)\n",
        "\n",
        "print(\"\\nodd numbers range from 1 to 30 with skip of 2\")\n",
        "for odd_numbers in range(1,30,2):\n",
        "   print(odd_numbers)\n",
        "\n",
        "print(\"\\nPrint of character 'python'\")\n",
        "for characters in (\"Python\"):\n",
        "   print(characters)\n",
        "\n",
        "print(\"\\nprint of character that had been entered\")\n",
        "for characters2 in (input(\"enter the string characters: \")):\n",
        "   print(characters2)"
      ]
    }
  ]
}