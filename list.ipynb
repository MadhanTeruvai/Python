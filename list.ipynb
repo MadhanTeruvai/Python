{
  "nbformat": 4,
  "nbformat_minor": 0,
  "metadata": {
    "colab": {
      "provenance": [],
      "authorship_tag": "ABX9TyP9kmJ1D0uhoM9e+yLdmEU6",
      "include_colab_link": true
    },
    "kernelspec": {
      "name": "python3",
      "display_name": "Python 3"
    },
    "language_info": {
      "name": "python"
    }
  },
  "cells": [
    {
      "cell_type": "markdown",
      "metadata": {
        "id": "view-in-github",
        "colab_type": "text"
      },
      "source": [
        "<a href=\"https://colab.research.google.com/github/MadhanTeruvai/Python/blob/main/list.ipynb\" target=\"_parent\"><img src=\"https://colab.research.google.com/assets/colab-badge.svg\" alt=\"Open In Colab\"/></a>"
      ]
    },
    {
      "cell_type": "code",
      "source": [
        "                # list\n",
        "\n",
        "a=[8,9,0,6,2,1,5,7,9,4,3,10,9,8]\n",
        "\n",
        "# append (the mentioned value is going to added at last)\n",
        "a.append(98)\n",
        "print(\"append\",a)\n",
        "\n",
        "# remove (the mentioned value are removed)\n",
        "a.remove(9)\n",
        "print(\"remove\",a)\n",
        "\n",
        "# pop (the last value is going to be removed)\n",
        "a.pop()\n",
        "print(\"pop\",a)\n",
        "\n",
        "# sort (the values are going to be ascending order)\n",
        "a.sort()\n",
        "print(\"sort\",a)\n",
        "\n",
        "# reverse (the values are going t0 be descending order)\n",
        "a.reverse()\n",
        "print(\"reverse\",a)\n",
        "\n",
        "# insert (the value is going to added at mentioned index)\n",
        "a.insert(3,int(input(\"enter the value to insert at the index of 3 \")))\n",
        "print(\"insert\",a)"
      ],
      "metadata": {
        "colab": {
          "base_uri": "https://localhost:8080/"
        },
        "id": "Wy9-0p02YwCU",
        "outputId": "ed53e757-682d-4eba-cd95-d937a3b2f83e"
      },
      "execution_count": null,
      "outputs": [
        {
          "output_type": "stream",
          "name": "stdout",
          "text": [
            "append [8, 9, 0, 6, 2, 1, 5, 7, 9, 4, 3, 10, 9, 8, 98]\n",
            "remove [8, 0, 6, 2, 1, 5, 7, 9, 4, 3, 10, 9, 8, 98]\n",
            "pop [8, 0, 6, 2, 1, 5, 7, 9, 4, 3, 10, 9, 8]\n",
            "sort [0, 1, 2, 3, 4, 5, 6, 7, 8, 8, 9, 9, 10]\n",
            "reverse [10, 9, 9, 8, 8, 7, 6, 5, 4, 3, 2, 1, 0]\n",
            "enter the value to insert at the index of 3 5\n",
            "insert [10, 9, 9, 5, 8, 8, 7, 6, 5, 4, 3, 2, 1, 0]\n"
          ]
        }
      ]
    }
  ]
}