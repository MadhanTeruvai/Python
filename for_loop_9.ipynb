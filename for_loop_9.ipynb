{
  "nbformat": 4,
  "nbformat_minor": 0,
  "metadata": {
    "colab": {
      "provenance": [],
      "authorship_tag": "ABX9TyMBCMhKFyxswucfrN/WS1Wj",
      "include_colab_link": true
    },
    "kernelspec": {
      "name": "python3",
      "display_name": "Python 3"
    },
    "language_info": {
      "name": "python"
    }
  },
  "cells": [
    {
      "cell_type": "markdown",
      "metadata": {
        "id": "view-in-github",
        "colab_type": "text"
      },
      "source": [
        "<a href=\"https://colab.research.google.com/github/MadhanTeruvai/Python/blob/main/for_loop_9.ipynb\" target=\"_parent\"><img src=\"https://colab.research.google.com/assets/colab-badge.svg\" alt=\"Open In Colab\"/></a>"
      ]
    },
    {
      "cell_type": "code",
      "source": [
        "# creating Half Pyramid by For loop\n",
        "print(\"Creating half pyramid by using for loop\")\n",
        "for i in range(1,6):\n",
        "    for j in range(1,i+1):\n",
        "        print(j,end=\"\")\n",
        "    print()\n",
        "\n",
        "print()\n",
        "print()\n",
        "print(\"Creating half pyramid by using for loop\")\n",
        "for i in range(6):\n",
        "    for j in range(1,1+i):\n",
        "        print(\"#\",end=\"\")\n",
        "    print()\n",
        "\n",
        "print()\n",
        "print()\n",
        "print(\"Creating half pyramid by using for loop\")\n",
        "for i in range(12):\n",
        "    for j in range(1,1+i):\n",
        "        print(\"@\",end=\"\")\n",
        "    for k in range(i):\n",
        "        print(\"$\",end=\"\")\n",
        "    print()"
      ],
      "metadata": {
        "colab": {
          "base_uri": "https://localhost:8080/"
        },
        "id": "fadPAq40RbfM",
        "outputId": "4134f380-059e-4833-c805-79c94124a097"
      },
      "execution_count": 63,
      "outputs": [
        {
          "output_type": "stream",
          "name": "stdout",
          "text": [
            "Creating half pyramid by using for loop\n",
            "1\n",
            "12\n",
            "123\n",
            "1234\n",
            "12345\n",
            "\n",
            "\n",
            "Creating half pyramid by using for loop\n",
            "\n",
            "#\n",
            "##\n",
            "###\n",
            "####\n",
            "#####\n",
            "\n",
            "\n",
            "Creating half pyramid by using for loop\n",
            "\n",
            "@$\n",
            "@@$$\n",
            "@@@$$$\n",
            "@@@@$$$$\n",
            "@@@@@$$$$$\n",
            "@@@@@@$$$$$$\n",
            "@@@@@@@$$$$$$$\n",
            "@@@@@@@@$$$$$$$$\n",
            "@@@@@@@@@$$$$$$$$$\n",
            "@@@@@@@@@@$$$$$$$$$$\n",
            "@@@@@@@@@@@$$$$$$$$$$$\n"
          ]
        }
      ]
    }
  ]
}