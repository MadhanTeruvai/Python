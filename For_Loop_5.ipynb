{
  "nbformat": 4,
  "nbformat_minor": 0,
  "metadata": {
    "colab": {
      "provenance": [],
      "authorship_tag": "ABX9TyMy4EaTE4HZG7pSuzWCGQuF",
      "include_colab_link": true
    },
    "kernelspec": {
      "name": "python3",
      "display_name": "Python 3"
    },
    "language_info": {
      "name": "python"
    }
  },
  "cells": [
    {
      "cell_type": "markdown",
      "metadata": {
        "id": "view-in-github",
        "colab_type": "text"
      },
      "source": [
        "<a href=\"https://colab.research.google.com/github/MadhanTeruvai/Python/blob/main/For_Loop_5.ipynb\" target=\"_parent\"><img src=\"https://colab.research.google.com/assets/colab-badge.svg\" alt=\"Open In Colab\"/></a>"
      ]
    },
    {
      "cell_type": "code",
      "execution_count": 24,
      "metadata": {
        "colab": {
          "base_uri": "https://localhost:8080/"
        },
        "id": "6zQKOo10NC0l",
        "outputId": "41c69494-301f-4f68-901c-9df7bbf88797"
      },
      "outputs": [
        {
          "output_type": "stream",
          "name": "stdout",
          "text": [
            "Enter the value to start: 0\n",
            "Enter The value to End: 30\n",
            "enter the value to skip rate of numbers: 3\n",
            "0\n",
            "3\n",
            "6\n",
            "9\n",
            "12\n",
            "15\n",
            "18\n",
            "21\n",
            "24\n",
            "27\n",
            "Enter the value to start: 0\n",
            "Enter The value to End: 6\n",
            "0\n",
            "1\n",
            "2\n",
            "3\n",
            "4\n",
            "5\n"
          ]
        }
      ],
      "source": [
        "# To find the whole numbers method-1\n",
        "for i in range(int(input(\"Enter the value to start: \")),\n",
        "int(input(\"Enter The value to End: \")),\n",
        "int(input(\"enter the value to skip rate of numbers: \"))):\n",
        "   print(i)\n",
        "\n",
        "# To find the whole numbers method-2\n",
        "for i in range(int(input(\"Enter the value to start: \")),\n",
        "int(input(\"Enter The value to End: \"))):\n",
        "   print(i)"
      ]
    }
  ]
}